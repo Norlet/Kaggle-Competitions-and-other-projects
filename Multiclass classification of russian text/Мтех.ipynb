{
  "nbformat": 4,
  "nbformat_minor": 0,
  "metadata": {
    "colab": {
      "provenance": []
    },
    "kernelspec": {
      "name": "python3",
      "display_name": "Python 3"
    },
    "language_info": {
      "name": "python"
    }
  },
  "cells": [
    {
      "cell_type": "markdown",
      "source": [
        "**Классификация негативных комментариев**"
      ],
      "metadata": {
        "id": "7aXcic9OuGl2"
      }
    },
    {
      "cell_type": "markdown",
      "source": [
        "**Подготовка данных**"
      ],
      "metadata": {
        "id": "YKGYwMShuJWK"
      }
    },
    {
      "cell_type": "markdown",
      "source": [
        "*Импорт библиотек*"
      ],
      "metadata": {
        "id": "RvcgAizOuRyn"
      }
    },
    {
      "cell_type": "code",
      "execution_count": 1,
      "metadata": {
        "colab": {
          "base_uri": "https://localhost:8080/"
        },
        "id": "Jjl46356qKJ0",
        "outputId": "6169b7d8-0721-481d-b1e6-f96e6b4151f1"
      },
      "outputs": [
        {
          "output_type": "stream",
          "name": "stdout",
          "text": [
            "Requirement already satisfied: seaborn in /usr/local/lib/python3.10/dist-packages (0.12.2)\n",
            "Requirement already satisfied: numpy!=1.24.0,>=1.17 in /usr/local/lib/python3.10/dist-packages (from seaborn) (1.23.5)\n",
            "Requirement already satisfied: pandas>=0.25 in /usr/local/lib/python3.10/dist-packages (from seaborn) (1.5.3)\n",
            "Requirement already satisfied: matplotlib!=3.6.1,>=3.1 in /usr/local/lib/python3.10/dist-packages (from seaborn) (3.7.1)\n",
            "Requirement already satisfied: contourpy>=1.0.1 in /usr/local/lib/python3.10/dist-packages (from matplotlib!=3.6.1,>=3.1->seaborn) (1.2.0)\n",
            "Requirement already satisfied: cycler>=0.10 in /usr/local/lib/python3.10/dist-packages (from matplotlib!=3.6.1,>=3.1->seaborn) (0.12.1)\n",
            "Requirement already satisfied: fonttools>=4.22.0 in /usr/local/lib/python3.10/dist-packages (from matplotlib!=3.6.1,>=3.1->seaborn) (4.46.0)\n",
            "Requirement already satisfied: kiwisolver>=1.0.1 in /usr/local/lib/python3.10/dist-packages (from matplotlib!=3.6.1,>=3.1->seaborn) (1.4.5)\n",
            "Requirement already satisfied: packaging>=20.0 in /usr/local/lib/python3.10/dist-packages (from matplotlib!=3.6.1,>=3.1->seaborn) (23.2)\n",
            "Requirement already satisfied: pillow>=6.2.0 in /usr/local/lib/python3.10/dist-packages (from matplotlib!=3.6.1,>=3.1->seaborn) (9.4.0)\n",
            "Requirement already satisfied: pyparsing>=2.3.1 in /usr/local/lib/python3.10/dist-packages (from matplotlib!=3.6.1,>=3.1->seaborn) (3.1.1)\n",
            "Requirement already satisfied: python-dateutil>=2.7 in /usr/local/lib/python3.10/dist-packages (from matplotlib!=3.6.1,>=3.1->seaborn) (2.8.2)\n",
            "Requirement already satisfied: pytz>=2020.1 in /usr/local/lib/python3.10/dist-packages (from pandas>=0.25->seaborn) (2023.3.post1)\n",
            "Requirement already satisfied: six>=1.5 in /usr/local/lib/python3.10/dist-packages (from python-dateutil>=2.7->matplotlib!=3.6.1,>=3.1->seaborn) (1.16.0)\n",
            "Requirement already satisfied: catboost in /usr/local/lib/python3.10/dist-packages (1.2.2)\n",
            "Requirement already satisfied: graphviz in /usr/local/lib/python3.10/dist-packages (from catboost) (0.20.1)\n",
            "Requirement already satisfied: matplotlib in /usr/local/lib/python3.10/dist-packages (from catboost) (3.7.1)\n",
            "Requirement already satisfied: numpy>=1.16.0 in /usr/local/lib/python3.10/dist-packages (from catboost) (1.23.5)\n",
            "Requirement already satisfied: pandas>=0.24 in /usr/local/lib/python3.10/dist-packages (from catboost) (1.5.3)\n",
            "Requirement already satisfied: scipy in /usr/local/lib/python3.10/dist-packages (from catboost) (1.11.4)\n",
            "Requirement already satisfied: plotly in /usr/local/lib/python3.10/dist-packages (from catboost) (5.15.0)\n",
            "Requirement already satisfied: six in /usr/local/lib/python3.10/dist-packages (from catboost) (1.16.0)\n",
            "Requirement already satisfied: python-dateutil>=2.8.1 in /usr/local/lib/python3.10/dist-packages (from pandas>=0.24->catboost) (2.8.2)\n",
            "Requirement already satisfied: pytz>=2020.1 in /usr/local/lib/python3.10/dist-packages (from pandas>=0.24->catboost) (2023.3.post1)\n",
            "Requirement already satisfied: contourpy>=1.0.1 in /usr/local/lib/python3.10/dist-packages (from matplotlib->catboost) (1.2.0)\n",
            "Requirement already satisfied: cycler>=0.10 in /usr/local/lib/python3.10/dist-packages (from matplotlib->catboost) (0.12.1)\n",
            "Requirement already satisfied: fonttools>=4.22.0 in /usr/local/lib/python3.10/dist-packages (from matplotlib->catboost) (4.46.0)\n",
            "Requirement already satisfied: kiwisolver>=1.0.1 in /usr/local/lib/python3.10/dist-packages (from matplotlib->catboost) (1.4.5)\n",
            "Requirement already satisfied: packaging>=20.0 in /usr/local/lib/python3.10/dist-packages (from matplotlib->catboost) (23.2)\n",
            "Requirement already satisfied: pillow>=6.2.0 in /usr/local/lib/python3.10/dist-packages (from matplotlib->catboost) (9.4.0)\n",
            "Requirement already satisfied: pyparsing>=2.3.1 in /usr/local/lib/python3.10/dist-packages (from matplotlib->catboost) (3.1.1)\n",
            "Requirement already satisfied: tenacity>=6.2.0 in /usr/local/lib/python3.10/dist-packages (from plotly->catboost) (8.2.3)\n"
          ]
        },
        {
          "output_type": "stream",
          "name": "stderr",
          "text": [
            "[nltk_data] Downloading package stopwords to /root/nltk_data...\n",
            "[nltk_data]   Package stopwords is already up-to-date!\n"
          ]
        }
      ],
      "source": [
        "import numpy as np\n",
        "import pandas as pd\n",
        "from matplotlib import pyplot as plt\n",
        "%pip install seaborn\n",
        "import nltk\n",
        "import re\n",
        "from tqdm import tqdm\n",
        "from sklearn.metrics import make_scorer\n",
        "from sklearn.metrics import f1_score\n",
        "from sklearn.model_selection import train_test_split, cross_val_score, GridSearchCV\n",
        "from sklearn.linear_model import LogisticRegression\n",
        "from sklearn.ensemble import RandomForestClassifier\n",
        "from sklearn.svm import SVC\n",
        "from sklearn.feature_extraction.text import TfidfVectorizer\n",
        "from sklearn.feature_extraction.text import CountVectorizer\n",
        "from sklearn.utils import shuffle\n",
        "from sklearn.pipeline import Pipeline\n",
        "!pip install catboost\n",
        "from catboost import CatBoostClassifier\n",
        "from nltk.corpus import words\n",
        "from pymystem3 import Mystem\n",
        "from nltk.corpus import stopwords\n",
        "from nltk.stem import WordNetLemmatizer\n",
        "nltk.download('stopwords')\n",
        "from sklearn.metrics import confusion_matrix"
      ]
    },
    {
      "cell_type": "markdown",
      "source": [
        "\n",
        "# Загрузка и знакомство с данными"
      ],
      "metadata": {
        "id": "rcLiyCTH6i63"
      }
    },
    {
      "cell_type": "code",
      "source": [
        "df = pd.read_excel('/content/М.Тех_ТЗ_Датасет_DS_NLP.xlsx')\n",
        "df_backup = pd.read_excel('/content/М.Тех_ТЗ_Датасет_DS_NLP.xlsx')\n",
        "display(df)\n",
        "df.info()"
      ],
      "metadata": {
        "colab": {
          "base_uri": "https://localhost:8080/",
          "height": 615
        },
        "id": "ne-svXtYsy5B",
        "outputId": "abdf4c46-f9bf-4a39-e3fd-1bf5be9a433f"
      },
      "execution_count": 2,
      "outputs": [
        {
          "output_type": "display_data",
          "data": {
            "text/plain": [
              "      Unnamed: 0     id                                               text  \\\n",
              "0              0     45   негатив к вам и горячей линии которые нафиг н...   \n",
              "1              1     97  перестаньте впаривать клиентам дополнительные ...   \n",
              "2              2    105   продавец предложил наклеить защитную плёнку з...   \n",
              "3              3    127  продавец режил продать нам товар почему то по ...   \n",
              "4              4    130  навязанные услуги ( без моего согласия) на сум...   \n",
              "...          ...    ...                                                ...   \n",
              "2832        2832  17570  почему отключили электронную очередь через пол...   \n",
              "2833        2833  17579  очередь на кассе. продавцы не торопятся с зака...   \n",
              "2834        2834  17586  профессионализма менеджеру бы, да и внимания к...   \n",
              "2835        2835  17591  сотрудник на выдаче заказа потребовал документ...   \n",
              "2836        2836  17594                           клиентоориентированность   \n",
              "\n",
              "                                        class  \n",
              "0                             Консультация КЦ  \n",
              "1     Компетентность продавцов/ консультантов  \n",
              "2     Компетентность продавцов/ консультантов  \n",
              "3     Компетентность продавцов/ консультантов  \n",
              "4     Компетентность продавцов/ консультантов  \n",
              "...                                       ...  \n",
              "2832                      Электронная очередь  \n",
              "2833                   Время ожидания у кассы  \n",
              "2834  Обслуживание продавцами/ консультантами  \n",
              "2835                      Электронная очередь  \n",
              "2836  Компетентность продавцов/ консультантов  \n",
              "\n",
              "[2837 rows x 4 columns]"
            ],
            "text/html": [
              "\n",
              "  <div id=\"df-5a9e3b4a-b30f-4408-ab7c-3b7670e49050\" class=\"colab-df-container\">\n",
              "    <div>\n",
              "<style scoped>\n",
              "    .dataframe tbody tr th:only-of-type {\n",
              "        vertical-align: middle;\n",
              "    }\n",
              "\n",
              "    .dataframe tbody tr th {\n",
              "        vertical-align: top;\n",
              "    }\n",
              "\n",
              "    .dataframe thead th {\n",
              "        text-align: right;\n",
              "    }\n",
              "</style>\n",
              "<table border=\"1\" class=\"dataframe\">\n",
              "  <thead>\n",
              "    <tr style=\"text-align: right;\">\n",
              "      <th></th>\n",
              "      <th>Unnamed: 0</th>\n",
              "      <th>id</th>\n",
              "      <th>text</th>\n",
              "      <th>class</th>\n",
              "    </tr>\n",
              "  </thead>\n",
              "  <tbody>\n",
              "    <tr>\n",
              "      <th>0</th>\n",
              "      <td>0</td>\n",
              "      <td>45</td>\n",
              "      <td>негатив к вам и горячей линии которые нафиг н...</td>\n",
              "      <td>Консультация КЦ</td>\n",
              "    </tr>\n",
              "    <tr>\n",
              "      <th>1</th>\n",
              "      <td>1</td>\n",
              "      <td>97</td>\n",
              "      <td>перестаньте впаривать клиентам дополнительные ...</td>\n",
              "      <td>Компетентность продавцов/ консультантов</td>\n",
              "    </tr>\n",
              "    <tr>\n",
              "      <th>2</th>\n",
              "      <td>2</td>\n",
              "      <td>105</td>\n",
              "      <td>продавец предложил наклеить защитную плёнку з...</td>\n",
              "      <td>Компетентность продавцов/ консультантов</td>\n",
              "    </tr>\n",
              "    <tr>\n",
              "      <th>3</th>\n",
              "      <td>3</td>\n",
              "      <td>127</td>\n",
              "      <td>продавец режил продать нам товар почему то по ...</td>\n",
              "      <td>Компетентность продавцов/ консультантов</td>\n",
              "    </tr>\n",
              "    <tr>\n",
              "      <th>4</th>\n",
              "      <td>4</td>\n",
              "      <td>130</td>\n",
              "      <td>навязанные услуги ( без моего согласия) на сум...</td>\n",
              "      <td>Компетентность продавцов/ консультантов</td>\n",
              "    </tr>\n",
              "    <tr>\n",
              "      <th>...</th>\n",
              "      <td>...</td>\n",
              "      <td>...</td>\n",
              "      <td>...</td>\n",
              "      <td>...</td>\n",
              "    </tr>\n",
              "    <tr>\n",
              "      <th>2832</th>\n",
              "      <td>2832</td>\n",
              "      <td>17570</td>\n",
              "      <td>почему отключили электронную очередь через пол...</td>\n",
              "      <td>Электронная очередь</td>\n",
              "    </tr>\n",
              "    <tr>\n",
              "      <th>2833</th>\n",
              "      <td>2833</td>\n",
              "      <td>17579</td>\n",
              "      <td>очередь на кассе. продавцы не торопятся с зака...</td>\n",
              "      <td>Время ожидания у кассы</td>\n",
              "    </tr>\n",
              "    <tr>\n",
              "      <th>2834</th>\n",
              "      <td>2834</td>\n",
              "      <td>17586</td>\n",
              "      <td>профессионализма менеджеру бы, да и внимания к...</td>\n",
              "      <td>Обслуживание продавцами/ консультантами</td>\n",
              "    </tr>\n",
              "    <tr>\n",
              "      <th>2835</th>\n",
              "      <td>2835</td>\n",
              "      <td>17591</td>\n",
              "      <td>сотрудник на выдаче заказа потребовал документ...</td>\n",
              "      <td>Электронная очередь</td>\n",
              "    </tr>\n",
              "    <tr>\n",
              "      <th>2836</th>\n",
              "      <td>2836</td>\n",
              "      <td>17594</td>\n",
              "      <td>клиентоориентированность</td>\n",
              "      <td>Компетентность продавцов/ консультантов</td>\n",
              "    </tr>\n",
              "  </tbody>\n",
              "</table>\n",
              "<p>2837 rows × 4 columns</p>\n",
              "</div>\n",
              "    <div class=\"colab-df-buttons\">\n",
              "\n",
              "  <div class=\"colab-df-container\">\n",
              "    <button class=\"colab-df-convert\" onclick=\"convertToInteractive('df-5a9e3b4a-b30f-4408-ab7c-3b7670e49050')\"\n",
              "            title=\"Convert this dataframe to an interactive table.\"\n",
              "            style=\"display:none;\">\n",
              "\n",
              "  <svg xmlns=\"http://www.w3.org/2000/svg\" height=\"24px\" viewBox=\"0 -960 960 960\">\n",
              "    <path d=\"M120-120v-720h720v720H120Zm60-500h600v-160H180v160Zm220 220h160v-160H400v160Zm0 220h160v-160H400v160ZM180-400h160v-160H180v160Zm440 0h160v-160H620v160ZM180-180h160v-160H180v160Zm440 0h160v-160H620v160Z\"/>\n",
              "  </svg>\n",
              "    </button>\n",
              "\n",
              "  <style>\n",
              "    .colab-df-container {\n",
              "      display:flex;\n",
              "      gap: 12px;\n",
              "    }\n",
              "\n",
              "    .colab-df-convert {\n",
              "      background-color: #E8F0FE;\n",
              "      border: none;\n",
              "      border-radius: 50%;\n",
              "      cursor: pointer;\n",
              "      display: none;\n",
              "      fill: #1967D2;\n",
              "      height: 32px;\n",
              "      padding: 0 0 0 0;\n",
              "      width: 32px;\n",
              "    }\n",
              "\n",
              "    .colab-df-convert:hover {\n",
              "      background-color: #E2EBFA;\n",
              "      box-shadow: 0px 1px 2px rgba(60, 64, 67, 0.3), 0px 1px 3px 1px rgba(60, 64, 67, 0.15);\n",
              "      fill: #174EA6;\n",
              "    }\n",
              "\n",
              "    .colab-df-buttons div {\n",
              "      margin-bottom: 4px;\n",
              "    }\n",
              "\n",
              "    [theme=dark] .colab-df-convert {\n",
              "      background-color: #3B4455;\n",
              "      fill: #D2E3FC;\n",
              "    }\n",
              "\n",
              "    [theme=dark] .colab-df-convert:hover {\n",
              "      background-color: #434B5C;\n",
              "      box-shadow: 0px 1px 3px 1px rgba(0, 0, 0, 0.15);\n",
              "      filter: drop-shadow(0px 1px 2px rgba(0, 0, 0, 0.3));\n",
              "      fill: #FFFFFF;\n",
              "    }\n",
              "  </style>\n",
              "\n",
              "    <script>\n",
              "      const buttonEl =\n",
              "        document.querySelector('#df-5a9e3b4a-b30f-4408-ab7c-3b7670e49050 button.colab-df-convert');\n",
              "      buttonEl.style.display =\n",
              "        google.colab.kernel.accessAllowed ? 'block' : 'none';\n",
              "\n",
              "      async function convertToInteractive(key) {\n",
              "        const element = document.querySelector('#df-5a9e3b4a-b30f-4408-ab7c-3b7670e49050');\n",
              "        const dataTable =\n",
              "          await google.colab.kernel.invokeFunction('convertToInteractive',\n",
              "                                                    [key], {});\n",
              "        if (!dataTable) return;\n",
              "\n",
              "        const docLinkHtml = 'Like what you see? Visit the ' +\n",
              "          '<a target=\"_blank\" href=https://colab.research.google.com/notebooks/data_table.ipynb>data table notebook</a>'\n",
              "          + ' to learn more about interactive tables.';\n",
              "        element.innerHTML = '';\n",
              "        dataTable['output_type'] = 'display_data';\n",
              "        await google.colab.output.renderOutput(dataTable, element);\n",
              "        const docLink = document.createElement('div');\n",
              "        docLink.innerHTML = docLinkHtml;\n",
              "        element.appendChild(docLink);\n",
              "      }\n",
              "    </script>\n",
              "  </div>\n",
              "\n",
              "\n",
              "<div id=\"df-d18a2a5a-13b5-4130-9354-53dd81593dc9\">\n",
              "  <button class=\"colab-df-quickchart\" onclick=\"quickchart('df-d18a2a5a-13b5-4130-9354-53dd81593dc9')\"\n",
              "            title=\"Suggest charts\"\n",
              "            style=\"display:none;\">\n",
              "\n",
              "<svg xmlns=\"http://www.w3.org/2000/svg\" height=\"24px\"viewBox=\"0 0 24 24\"\n",
              "     width=\"24px\">\n",
              "    <g>\n",
              "        <path d=\"M19 3H5c-1.1 0-2 .9-2 2v14c0 1.1.9 2 2 2h14c1.1 0 2-.9 2-2V5c0-1.1-.9-2-2-2zM9 17H7v-7h2v7zm4 0h-2V7h2v10zm4 0h-2v-4h2v4z\"/>\n",
              "    </g>\n",
              "</svg>\n",
              "  </button>\n",
              "\n",
              "<style>\n",
              "  .colab-df-quickchart {\n",
              "      --bg-color: #E8F0FE;\n",
              "      --fill-color: #1967D2;\n",
              "      --hover-bg-color: #E2EBFA;\n",
              "      --hover-fill-color: #174EA6;\n",
              "      --disabled-fill-color: #AAA;\n",
              "      --disabled-bg-color: #DDD;\n",
              "  }\n",
              "\n",
              "  [theme=dark] .colab-df-quickchart {\n",
              "      --bg-color: #3B4455;\n",
              "      --fill-color: #D2E3FC;\n",
              "      --hover-bg-color: #434B5C;\n",
              "      --hover-fill-color: #FFFFFF;\n",
              "      --disabled-bg-color: #3B4455;\n",
              "      --disabled-fill-color: #666;\n",
              "  }\n",
              "\n",
              "  .colab-df-quickchart {\n",
              "    background-color: var(--bg-color);\n",
              "    border: none;\n",
              "    border-radius: 50%;\n",
              "    cursor: pointer;\n",
              "    display: none;\n",
              "    fill: var(--fill-color);\n",
              "    height: 32px;\n",
              "    padding: 0;\n",
              "    width: 32px;\n",
              "  }\n",
              "\n",
              "  .colab-df-quickchart:hover {\n",
              "    background-color: var(--hover-bg-color);\n",
              "    box-shadow: 0 1px 2px rgba(60, 64, 67, 0.3), 0 1px 3px 1px rgba(60, 64, 67, 0.15);\n",
              "    fill: var(--button-hover-fill-color);\n",
              "  }\n",
              "\n",
              "  .colab-df-quickchart-complete:disabled,\n",
              "  .colab-df-quickchart-complete:disabled:hover {\n",
              "    background-color: var(--disabled-bg-color);\n",
              "    fill: var(--disabled-fill-color);\n",
              "    box-shadow: none;\n",
              "  }\n",
              "\n",
              "  .colab-df-spinner {\n",
              "    border: 2px solid var(--fill-color);\n",
              "    border-color: transparent;\n",
              "    border-bottom-color: var(--fill-color);\n",
              "    animation:\n",
              "      spin 1s steps(1) infinite;\n",
              "  }\n",
              "\n",
              "  @keyframes spin {\n",
              "    0% {\n",
              "      border-color: transparent;\n",
              "      border-bottom-color: var(--fill-color);\n",
              "      border-left-color: var(--fill-color);\n",
              "    }\n",
              "    20% {\n",
              "      border-color: transparent;\n",
              "      border-left-color: var(--fill-color);\n",
              "      border-top-color: var(--fill-color);\n",
              "    }\n",
              "    30% {\n",
              "      border-color: transparent;\n",
              "      border-left-color: var(--fill-color);\n",
              "      border-top-color: var(--fill-color);\n",
              "      border-right-color: var(--fill-color);\n",
              "    }\n",
              "    40% {\n",
              "      border-color: transparent;\n",
              "      border-right-color: var(--fill-color);\n",
              "      border-top-color: var(--fill-color);\n",
              "    }\n",
              "    60% {\n",
              "      border-color: transparent;\n",
              "      border-right-color: var(--fill-color);\n",
              "    }\n",
              "    80% {\n",
              "      border-color: transparent;\n",
              "      border-right-color: var(--fill-color);\n",
              "      border-bottom-color: var(--fill-color);\n",
              "    }\n",
              "    90% {\n",
              "      border-color: transparent;\n",
              "      border-bottom-color: var(--fill-color);\n",
              "    }\n",
              "  }\n",
              "</style>\n",
              "\n",
              "  <script>\n",
              "    async function quickchart(key) {\n",
              "      const quickchartButtonEl =\n",
              "        document.querySelector('#' + key + ' button');\n",
              "      quickchartButtonEl.disabled = true;  // To prevent multiple clicks.\n",
              "      quickchartButtonEl.classList.add('colab-df-spinner');\n",
              "      try {\n",
              "        const charts = await google.colab.kernel.invokeFunction(\n",
              "            'suggestCharts', [key], {});\n",
              "      } catch (error) {\n",
              "        console.error('Error during call to suggestCharts:', error);\n",
              "      }\n",
              "      quickchartButtonEl.classList.remove('colab-df-spinner');\n",
              "      quickchartButtonEl.classList.add('colab-df-quickchart-complete');\n",
              "    }\n",
              "    (() => {\n",
              "      let quickchartButtonEl =\n",
              "        document.querySelector('#df-d18a2a5a-13b5-4130-9354-53dd81593dc9 button');\n",
              "      quickchartButtonEl.style.display =\n",
              "        google.colab.kernel.accessAllowed ? 'block' : 'none';\n",
              "    })();\n",
              "  </script>\n",
              "</div>\n",
              "\n",
              "  <div id=\"id_afa13f47-457b-4bd9-95b8-6a0c541362ac\">\n",
              "    <style>\n",
              "      .colab-df-generate {\n",
              "        background-color: #E8F0FE;\n",
              "        border: none;\n",
              "        border-radius: 50%;\n",
              "        cursor: pointer;\n",
              "        display: none;\n",
              "        fill: #1967D2;\n",
              "        height: 32px;\n",
              "        padding: 0 0 0 0;\n",
              "        width: 32px;\n",
              "      }\n",
              "\n",
              "      .colab-df-generate:hover {\n",
              "        background-color: #E2EBFA;\n",
              "        box-shadow: 0px 1px 2px rgba(60, 64, 67, 0.3), 0px 1px 3px 1px rgba(60, 64, 67, 0.15);\n",
              "        fill: #174EA6;\n",
              "      }\n",
              "\n",
              "      [theme=dark] .colab-df-generate {\n",
              "        background-color: #3B4455;\n",
              "        fill: #D2E3FC;\n",
              "      }\n",
              "\n",
              "      [theme=dark] .colab-df-generate:hover {\n",
              "        background-color: #434B5C;\n",
              "        box-shadow: 0px 1px 3px 1px rgba(0, 0, 0, 0.15);\n",
              "        filter: drop-shadow(0px 1px 2px rgba(0, 0, 0, 0.3));\n",
              "        fill: #FFFFFF;\n",
              "      }\n",
              "    </style>\n",
              "    <button class=\"colab-df-generate\" onclick=\"generateWithVariable('df')\"\n",
              "            title=\"Generate code using this dataframe.\"\n",
              "            style=\"display:none;\">\n",
              "\n",
              "  <svg xmlns=\"http://www.w3.org/2000/svg\" height=\"24px\"viewBox=\"0 0 24 24\"\n",
              "       width=\"24px\">\n",
              "    <path d=\"M7,19H8.4L18.45,9,17,7.55,7,17.6ZM5,21V16.75L18.45,3.32a2,2,0,0,1,2.83,0l1.4,1.43a1.91,1.91,0,0,1,.58,1.4,1.91,1.91,0,0,1-.58,1.4L9.25,21ZM18.45,9,17,7.55Zm-12,3A5.31,5.31,0,0,0,4.9,8.1,5.31,5.31,0,0,0,1,6.5,5.31,5.31,0,0,0,4.9,4.9,5.31,5.31,0,0,0,6.5,1,5.31,5.31,0,0,0,8.1,4.9,5.31,5.31,0,0,0,12,6.5,5.46,5.46,0,0,0,6.5,12Z\"/>\n",
              "  </svg>\n",
              "    </button>\n",
              "    <script>\n",
              "      (() => {\n",
              "      const buttonEl =\n",
              "        document.querySelector('#id_afa13f47-457b-4bd9-95b8-6a0c541362ac button.colab-df-generate');\n",
              "      buttonEl.style.display =\n",
              "        google.colab.kernel.accessAllowed ? 'block' : 'none';\n",
              "\n",
              "      buttonEl.onclick = () => {\n",
              "        google.colab.notebook.generateWithVariable('df');\n",
              "      }\n",
              "      })();\n",
              "    </script>\n",
              "  </div>\n",
              "\n",
              "    </div>\n",
              "  </div>\n"
            ]
          },
          "metadata": {}
        },
        {
          "output_type": "stream",
          "name": "stdout",
          "text": [
            "<class 'pandas.core.frame.DataFrame'>\n",
            "RangeIndex: 2837 entries, 0 to 2836\n",
            "Data columns (total 4 columns):\n",
            " #   Column      Non-Null Count  Dtype \n",
            "---  ------      --------------  ----- \n",
            " 0   Unnamed: 0  2837 non-null   int64 \n",
            " 1   id          2837 non-null   int64 \n",
            " 2   text        2837 non-null   object\n",
            " 3   class       2837 non-null   object\n",
            "dtypes: int64(2), object(2)\n",
            "memory usage: 88.8+ KB\n"
          ]
        }
      ]
    },
    {
      "cell_type": "code",
      "source": [
        "df.shape"
      ],
      "metadata": {
        "id": "Tvw-vtygugRM",
        "colab": {
          "base_uri": "https://localhost:8080/"
        },
        "outputId": "ee07cf62-a435-4f83-a42f-801ae99244ac"
      },
      "execution_count": 3,
      "outputs": [
        {
          "output_type": "execute_result",
          "data": {
            "text/plain": [
              "(2837, 4)"
            ]
          },
          "metadata": {},
          "execution_count": 3
        }
      ]
    },
    {
      "cell_type": "code",
      "source": [
        "df.head()"
      ],
      "metadata": {
        "id": "Dopk9h4dutKW",
        "colab": {
          "base_uri": "https://localhost:8080/",
          "height": 206
        },
        "outputId": "dbad9d15-ef57-43a6-80ae-873a93cb4eea"
      },
      "execution_count": 4,
      "outputs": [
        {
          "output_type": "execute_result",
          "data": {
            "text/plain": [
              "   Unnamed: 0   id                                               text  \\\n",
              "0           0   45   негатив к вам и горячей линии которые нафиг н...   \n",
              "1           1   97  перестаньте впаривать клиентам дополнительные ...   \n",
              "2           2  105   продавец предложил наклеить защитную плёнку з...   \n",
              "3           3  127  продавец режил продать нам товар почему то по ...   \n",
              "4           4  130  навязанные услуги ( без моего согласия) на сум...   \n",
              "\n",
              "                                     class  \n",
              "0                          Консультация КЦ  \n",
              "1  Компетентность продавцов/ консультантов  \n",
              "2  Компетентность продавцов/ консультантов  \n",
              "3  Компетентность продавцов/ консультантов  \n",
              "4  Компетентность продавцов/ консультантов  "
            ],
            "text/html": [
              "\n",
              "  <div id=\"df-65e26e29-4cad-4739-88b0-83a1b2481e8e\" class=\"colab-df-container\">\n",
              "    <div>\n",
              "<style scoped>\n",
              "    .dataframe tbody tr th:only-of-type {\n",
              "        vertical-align: middle;\n",
              "    }\n",
              "\n",
              "    .dataframe tbody tr th {\n",
              "        vertical-align: top;\n",
              "    }\n",
              "\n",
              "    .dataframe thead th {\n",
              "        text-align: right;\n",
              "    }\n",
              "</style>\n",
              "<table border=\"1\" class=\"dataframe\">\n",
              "  <thead>\n",
              "    <tr style=\"text-align: right;\">\n",
              "      <th></th>\n",
              "      <th>Unnamed: 0</th>\n",
              "      <th>id</th>\n",
              "      <th>text</th>\n",
              "      <th>class</th>\n",
              "    </tr>\n",
              "  </thead>\n",
              "  <tbody>\n",
              "    <tr>\n",
              "      <th>0</th>\n",
              "      <td>0</td>\n",
              "      <td>45</td>\n",
              "      <td>негатив к вам и горячей линии которые нафиг н...</td>\n",
              "      <td>Консультация КЦ</td>\n",
              "    </tr>\n",
              "    <tr>\n",
              "      <th>1</th>\n",
              "      <td>1</td>\n",
              "      <td>97</td>\n",
              "      <td>перестаньте впаривать клиентам дополнительные ...</td>\n",
              "      <td>Компетентность продавцов/ консультантов</td>\n",
              "    </tr>\n",
              "    <tr>\n",
              "      <th>2</th>\n",
              "      <td>2</td>\n",
              "      <td>105</td>\n",
              "      <td>продавец предложил наклеить защитную плёнку з...</td>\n",
              "      <td>Компетентность продавцов/ консультантов</td>\n",
              "    </tr>\n",
              "    <tr>\n",
              "      <th>3</th>\n",
              "      <td>3</td>\n",
              "      <td>127</td>\n",
              "      <td>продавец режил продать нам товар почему то по ...</td>\n",
              "      <td>Компетентность продавцов/ консультантов</td>\n",
              "    </tr>\n",
              "    <tr>\n",
              "      <th>4</th>\n",
              "      <td>4</td>\n",
              "      <td>130</td>\n",
              "      <td>навязанные услуги ( без моего согласия) на сум...</td>\n",
              "      <td>Компетентность продавцов/ консультантов</td>\n",
              "    </tr>\n",
              "  </tbody>\n",
              "</table>\n",
              "</div>\n",
              "    <div class=\"colab-df-buttons\">\n",
              "\n",
              "  <div class=\"colab-df-container\">\n",
              "    <button class=\"colab-df-convert\" onclick=\"convertToInteractive('df-65e26e29-4cad-4739-88b0-83a1b2481e8e')\"\n",
              "            title=\"Convert this dataframe to an interactive table.\"\n",
              "            style=\"display:none;\">\n",
              "\n",
              "  <svg xmlns=\"http://www.w3.org/2000/svg\" height=\"24px\" viewBox=\"0 -960 960 960\">\n",
              "    <path d=\"M120-120v-720h720v720H120Zm60-500h600v-160H180v160Zm220 220h160v-160H400v160Zm0 220h160v-160H400v160ZM180-400h160v-160H180v160Zm440 0h160v-160H620v160ZM180-180h160v-160H180v160Zm440 0h160v-160H620v160Z\"/>\n",
              "  </svg>\n",
              "    </button>\n",
              "\n",
              "  <style>\n",
              "    .colab-df-container {\n",
              "      display:flex;\n",
              "      gap: 12px;\n",
              "    }\n",
              "\n",
              "    .colab-df-convert {\n",
              "      background-color: #E8F0FE;\n",
              "      border: none;\n",
              "      border-radius: 50%;\n",
              "      cursor: pointer;\n",
              "      display: none;\n",
              "      fill: #1967D2;\n",
              "      height: 32px;\n",
              "      padding: 0 0 0 0;\n",
              "      width: 32px;\n",
              "    }\n",
              "\n",
              "    .colab-df-convert:hover {\n",
              "      background-color: #E2EBFA;\n",
              "      box-shadow: 0px 1px 2px rgba(60, 64, 67, 0.3), 0px 1px 3px 1px rgba(60, 64, 67, 0.15);\n",
              "      fill: #174EA6;\n",
              "    }\n",
              "\n",
              "    .colab-df-buttons div {\n",
              "      margin-bottom: 4px;\n",
              "    }\n",
              "\n",
              "    [theme=dark] .colab-df-convert {\n",
              "      background-color: #3B4455;\n",
              "      fill: #D2E3FC;\n",
              "    }\n",
              "\n",
              "    [theme=dark] .colab-df-convert:hover {\n",
              "      background-color: #434B5C;\n",
              "      box-shadow: 0px 1px 3px 1px rgba(0, 0, 0, 0.15);\n",
              "      filter: drop-shadow(0px 1px 2px rgba(0, 0, 0, 0.3));\n",
              "      fill: #FFFFFF;\n",
              "    }\n",
              "  </style>\n",
              "\n",
              "    <script>\n",
              "      const buttonEl =\n",
              "        document.querySelector('#df-65e26e29-4cad-4739-88b0-83a1b2481e8e button.colab-df-convert');\n",
              "      buttonEl.style.display =\n",
              "        google.colab.kernel.accessAllowed ? 'block' : 'none';\n",
              "\n",
              "      async function convertToInteractive(key) {\n",
              "        const element = document.querySelector('#df-65e26e29-4cad-4739-88b0-83a1b2481e8e');\n",
              "        const dataTable =\n",
              "          await google.colab.kernel.invokeFunction('convertToInteractive',\n",
              "                                                    [key], {});\n",
              "        if (!dataTable) return;\n",
              "\n",
              "        const docLinkHtml = 'Like what you see? Visit the ' +\n",
              "          '<a target=\"_blank\" href=https://colab.research.google.com/notebooks/data_table.ipynb>data table notebook</a>'\n",
              "          + ' to learn more about interactive tables.';\n",
              "        element.innerHTML = '';\n",
              "        dataTable['output_type'] = 'display_data';\n",
              "        await google.colab.output.renderOutput(dataTable, element);\n",
              "        const docLink = document.createElement('div');\n",
              "        docLink.innerHTML = docLinkHtml;\n",
              "        element.appendChild(docLink);\n",
              "      }\n",
              "    </script>\n",
              "  </div>\n",
              "\n",
              "\n",
              "<div id=\"df-abe2d4d3-6696-478d-b74b-1582d529a7ff\">\n",
              "  <button class=\"colab-df-quickchart\" onclick=\"quickchart('df-abe2d4d3-6696-478d-b74b-1582d529a7ff')\"\n",
              "            title=\"Suggest charts\"\n",
              "            style=\"display:none;\">\n",
              "\n",
              "<svg xmlns=\"http://www.w3.org/2000/svg\" height=\"24px\"viewBox=\"0 0 24 24\"\n",
              "     width=\"24px\">\n",
              "    <g>\n",
              "        <path d=\"M19 3H5c-1.1 0-2 .9-2 2v14c0 1.1.9 2 2 2h14c1.1 0 2-.9 2-2V5c0-1.1-.9-2-2-2zM9 17H7v-7h2v7zm4 0h-2V7h2v10zm4 0h-2v-4h2v4z\"/>\n",
              "    </g>\n",
              "</svg>\n",
              "  </button>\n",
              "\n",
              "<style>\n",
              "  .colab-df-quickchart {\n",
              "      --bg-color: #E8F0FE;\n",
              "      --fill-color: #1967D2;\n",
              "      --hover-bg-color: #E2EBFA;\n",
              "      --hover-fill-color: #174EA6;\n",
              "      --disabled-fill-color: #AAA;\n",
              "      --disabled-bg-color: #DDD;\n",
              "  }\n",
              "\n",
              "  [theme=dark] .colab-df-quickchart {\n",
              "      --bg-color: #3B4455;\n",
              "      --fill-color: #D2E3FC;\n",
              "      --hover-bg-color: #434B5C;\n",
              "      --hover-fill-color: #FFFFFF;\n",
              "      --disabled-bg-color: #3B4455;\n",
              "      --disabled-fill-color: #666;\n",
              "  }\n",
              "\n",
              "  .colab-df-quickchart {\n",
              "    background-color: var(--bg-color);\n",
              "    border: none;\n",
              "    border-radius: 50%;\n",
              "    cursor: pointer;\n",
              "    display: none;\n",
              "    fill: var(--fill-color);\n",
              "    height: 32px;\n",
              "    padding: 0;\n",
              "    width: 32px;\n",
              "  }\n",
              "\n",
              "  .colab-df-quickchart:hover {\n",
              "    background-color: var(--hover-bg-color);\n",
              "    box-shadow: 0 1px 2px rgba(60, 64, 67, 0.3), 0 1px 3px 1px rgba(60, 64, 67, 0.15);\n",
              "    fill: var(--button-hover-fill-color);\n",
              "  }\n",
              "\n",
              "  .colab-df-quickchart-complete:disabled,\n",
              "  .colab-df-quickchart-complete:disabled:hover {\n",
              "    background-color: var(--disabled-bg-color);\n",
              "    fill: var(--disabled-fill-color);\n",
              "    box-shadow: none;\n",
              "  }\n",
              "\n",
              "  .colab-df-spinner {\n",
              "    border: 2px solid var(--fill-color);\n",
              "    border-color: transparent;\n",
              "    border-bottom-color: var(--fill-color);\n",
              "    animation:\n",
              "      spin 1s steps(1) infinite;\n",
              "  }\n",
              "\n",
              "  @keyframes spin {\n",
              "    0% {\n",
              "      border-color: transparent;\n",
              "      border-bottom-color: var(--fill-color);\n",
              "      border-left-color: var(--fill-color);\n",
              "    }\n",
              "    20% {\n",
              "      border-color: transparent;\n",
              "      border-left-color: var(--fill-color);\n",
              "      border-top-color: var(--fill-color);\n",
              "    }\n",
              "    30% {\n",
              "      border-color: transparent;\n",
              "      border-left-color: var(--fill-color);\n",
              "      border-top-color: var(--fill-color);\n",
              "      border-right-color: var(--fill-color);\n",
              "    }\n",
              "    40% {\n",
              "      border-color: transparent;\n",
              "      border-right-color: var(--fill-color);\n",
              "      border-top-color: var(--fill-color);\n",
              "    }\n",
              "    60% {\n",
              "      border-color: transparent;\n",
              "      border-right-color: var(--fill-color);\n",
              "    }\n",
              "    80% {\n",
              "      border-color: transparent;\n",
              "      border-right-color: var(--fill-color);\n",
              "      border-bottom-color: var(--fill-color);\n",
              "    }\n",
              "    90% {\n",
              "      border-color: transparent;\n",
              "      border-bottom-color: var(--fill-color);\n",
              "    }\n",
              "  }\n",
              "</style>\n",
              "\n",
              "  <script>\n",
              "    async function quickchart(key) {\n",
              "      const quickchartButtonEl =\n",
              "        document.querySelector('#' + key + ' button');\n",
              "      quickchartButtonEl.disabled = true;  // To prevent multiple clicks.\n",
              "      quickchartButtonEl.classList.add('colab-df-spinner');\n",
              "      try {\n",
              "        const charts = await google.colab.kernel.invokeFunction(\n",
              "            'suggestCharts', [key], {});\n",
              "      } catch (error) {\n",
              "        console.error('Error during call to suggestCharts:', error);\n",
              "      }\n",
              "      quickchartButtonEl.classList.remove('colab-df-spinner');\n",
              "      quickchartButtonEl.classList.add('colab-df-quickchart-complete');\n",
              "    }\n",
              "    (() => {\n",
              "      let quickchartButtonEl =\n",
              "        document.querySelector('#df-abe2d4d3-6696-478d-b74b-1582d529a7ff button');\n",
              "      quickchartButtonEl.style.display =\n",
              "        google.colab.kernel.accessAllowed ? 'block' : 'none';\n",
              "    })();\n",
              "  </script>\n",
              "</div>\n",
              "\n",
              "    </div>\n",
              "  </div>\n"
            ]
          },
          "metadata": {},
          "execution_count": 4
        }
      ]
    },
    {
      "cell_type": "code",
      "source": [
        "print(f\"Количество дубликатов: {df.duplicated().sum()}\")"
      ],
      "metadata": {
        "id": "b1BueLcat5KY",
        "colab": {
          "base_uri": "https://localhost:8080/"
        },
        "outputId": "5eb14a97-686a-4114-ac3c-99781b4b76c6"
      },
      "execution_count": 5,
      "outputs": [
        {
          "output_type": "stream",
          "name": "stdout",
          "text": [
            "Количество дубликатов: 0\n"
          ]
        }
      ]
    },
    {
      "cell_type": "markdown",
      "source": [
        "*Посмотрим на распределение классов*"
      ],
      "metadata": {
        "id": "sCKVDzwKjmWK"
      }
    },
    {
      "cell_type": "code",
      "source": [
        "# Подсчет количества уникальных значений в столбце 'class'\n",
        "class_counts = df['class'].value_counts()\n",
        "\n",
        "# Создание графика\n",
        "plt.figure(figsize=(10, 7))\n",
        "class_counts.plot(kind='bar', color='skyblue')\n",
        "plt.title('Частота использования классов')\n",
        "plt.xlabel('Классы')\n",
        "plt.ylabel('Частота')\n",
        "plt.xticks(fontsize=8)\n",
        "plt.xticks(rotation = 35)\n",
        "plt.tight_layout()\n",
        "plt.show()"
      ],
      "metadata": {
        "id": "XpWkOGPSSN5p",
        "colab": {
          "base_uri": "https://localhost:8080/",
          "height": 707
        },
        "outputId": "5270d70f-3124-4bc4-86af-3a8f93214dc1"
      },
      "execution_count": 6,
      "outputs": [
        {
          "output_type": "display_data",
          "data": {
            "text/plain": [
              "<Figure size 1000x700 with 1 Axes>"
            ],
            "image/png": "[encoded data removed]"
          },
          "metadata": {}
        }
      ]
    },
    {
      "cell_type": "code",
      "source": [
        "print(class_counts)"
      ],
      "metadata": {
        "id": "uyvsHUwHTKZE",
        "colab": {
          "base_uri": "https://localhost:8080/"
        },
        "outputId": "e76d82c2-807f-4d3e-aade-e9bd008a6899"
      },
      "execution_count": 7,
      "outputs": [
        {
          "output_type": "stream",
          "name": "stdout",
          "text": [
            "Компетентность продавцов/ консультантов    825\n",
            "Вежливость сотрудников магазина            500\n",
            "Время ожидания у кассы                     306\n",
            "Доступность персонала в магазине           293\n",
            "Обслуживание продавцами/ консультантами    267\n",
            "Электронная очередь                        264\n",
            "Обслуживание на кассе                      212\n",
            "Консультация КЦ                            170\n",
            "Name: class, dtype: int64\n"
          ]
        }
      ]
    },
    {
      "cell_type": "markdown",
      "source": [
        "*Проверим, все ли отзывы клиентов написаны на русском языке*"
      ],
      "metadata": {
        "id": "SAyxcg-jx1mZ"
      }
    },
    {
      "cell_type": "code",
      "source": [
        "nltk.download('words')\n",
        "\n",
        "english_words = set(words.words())\n",
        "\n",
        "def has_english_words(text):\n",
        "    words_in_text = text.split()\n",
        "    for word in words_in_text:\n",
        "        if word.lower() in english_words:\n",
        "            return True\n",
        "    return False\n",
        "\n",
        "df['has_english'] = df['text'].apply(has_english_words)"
      ],
      "metadata": {
        "id": "asYANuAhxNv-",
        "colab": {
          "base_uri": "https://localhost:8080/"
        },
        "outputId": "0ce03c05-50e9-4a15-fb56-c90fad1e7386"
      },
      "execution_count": 8,
      "outputs": [
        {
          "output_type": "stream",
          "name": "stderr",
          "text": [
            "[nltk_data] Downloading package words to /root/nltk_data...\n",
            "[nltk_data]   Package words is already up-to-date!\n"
          ]
        }
      ]
    },
    {
      "cell_type": "code",
      "source": [
        "if df['has_english'].any():\n",
        "    print(\"Есть хотя бы одно значение True в колонке\")\n",
        "else:\n",
        "    print(\"Нет значений True в колонке\")"
      ],
      "metadata": {
        "id": "hiauJS3ZxR8W",
        "colab": {
          "base_uri": "https://localhost:8080/"
        },
        "outputId": "6331fc78-9266-40ca-fa81-ca2e16710bdb"
      },
      "execution_count": 9,
      "outputs": [
        {
          "output_type": "stream",
          "name": "stdout",
          "text": [
            "Есть хотя бы одно значение True в колонке\n"
          ]
        }
      ]
    },
    {
      "cell_type": "code",
      "source": [
        "filtered_texts = df[df['has_english'] == True]['text']\n",
        "print(filtered_texts)"
      ],
      "metadata": {
        "id": "4ljUvSFXyY2t",
        "colab": {
          "base_uri": "https://localhost:8080/"
        },
        "outputId": "002ce633-a58b-4a9d-dd08-5975909b37cc"
      },
      "execution_count": 10,
      "outputs": [
        {
          "output_type": "stream",
          "name": "stdout",
          "text": [
            "184     сотрудник дал не верную информацию по apple tv...\n",
            "627     очень сожалею что обратился к вам 25.12.2022 п...\n",
            "670     добрый день. хотел купить в рассрочку планшет ...\n",
            "685     расна терминале талон по выдаче интернет заказ...\n",
            "940     консультант ввел в заблуждение и продал неподх...\n",
            "1027    мне не понравилось , что на кассе меня запутал...\n",
            "1040    отвратительная работа. товар не соответствует ...\n",
            "1083    отвратительная работа сотрудников call center....\n",
            "1084    просьба вернуть мне деньги за наушники, т к оп...\n",
            "1486    сотрудники выдавшие заказ, были мягко сказать ...\n",
            "1728    товар хороший. покупал раньше. повторил заказ....\n",
            "2127    добрый день.  дважды общался с операторами кол...\n",
            "2155    ужасное качество обслуживания. сотрудники инте...\n",
            "2445    пришел в 10 утра забирать заказ, с кассовой зо...\n",
            "2541    как обычно: эл очередь живет отдельно от выдач...\n",
            "Name: text, dtype: object\n"
          ]
        }
      ]
    },
    {
      "cell_type": "markdown",
      "source": [
        "*Так как среди комментариев есть иностранные символы - очистим набор данных от них, специальных символов и заглавных букв*"
      ],
      "metadata": {
        "id": "l9r5k-NHx9bw"
      }
    },
    {
      "cell_type": "markdown",
      "source": [
        "*Очистим датафрейм от специальных символов, заглавных букв и разделителей строк*\n",
        "\n"
      ],
      "metadata": {
        "id": "Iio9Tkmyu5PV"
      }
    },
    {
      "cell_type": "code",
      "source": [
        "def cleaning(text):\n",
        "    # Удаляем переводы строк\n",
        "    text = re.sub(r\"(?:\\n|\\r)\", \" \", text)\n",
        "    # Удаляем спецсимволы и цифры, оставляем только русские и английские буквы\n",
        "    text = re.sub(r\"[^a-zA-Zа-яА-Я\\s]\", '', text)\n",
        "    # Приводим к нижнему регистру\n",
        "    text = text.lower()\n",
        "    return text\n",
        "\n",
        "df['text'] = df['text'].apply(cleaning)\n",
        "print(df.head(20))"
      ],
      "metadata": {
        "id": "hcIyLCUTu0rr",
        "colab": {
          "base_uri": "https://localhost:8080/"
        },
        "outputId": "3622bfb2-5a44-4522-8ccb-f549917710db"
      },
      "execution_count": 11,
      "outputs": [
        {
          "output_type": "stream",
          "name": "stdout",
          "text": [
            "    Unnamed: 0   id                                               text  \\\n",
            "0            0   45   негатив к вам и горячей линии которые нафиг н...   \n",
            "1            1   97  перестаньте впаривать клиентам дополнительные ...   \n",
            "2            2  105   продавец предложил наклеить защитную плнку за...   \n",
            "3            3  127  продавец режил продать нам товар почему то по ...   \n",
            "4            4  130  навязанные услуги  без моего согласия на сумму...   \n",
            "5            5  168  оператор проигнорировала информацию об ошибке ...   \n",
            "6            6  181  сотрудник мало того что задал вопросы по повод...   \n",
            "7            7  206  электронные талоны в приложении не работают пр...   \n",
            "8            8  221        приложение не работало чтобы получить талон   \n",
            "9            9  224  хотели оформить заказ через приложениено сотру...   \n",
            "10          10  230  продавцами  нет отдали товар и не предложили в...   \n",
            "11          11  241       консультантов в зале надо искать с собаками    \n",
            "12          12  250   приехала продавцы даже не здоровались назвали...   \n",
            "13          13  268                     маленькое количество персонала   \n",
            "14          14  276  не понравилось навязывание не нужных услуг и с...   \n",
            "15          15  292  мне добавили в заказ  бесплатную подписку  кот...   \n",
            "16          16  294   некорректная информация от оператора оставила...   \n",
            "17          17  296  кассир сказала что в подарок идт яндекс подпис...   \n",
            "18          18  297  при обращении к оператору внятного ответа так ...   \n",
            "19          19  299  когда при тебе проверяют стоимость товара нахо...   \n",
            "\n",
            "                                      class  has_english  \n",
            "0                           Консультация КЦ        False  \n",
            "1   Компетентность продавцов/ консультантов        False  \n",
            "2   Компетентность продавцов/ консультантов        False  \n",
            "3   Компетентность продавцов/ консультантов        False  \n",
            "4   Компетентность продавцов/ консультантов        False  \n",
            "5                           Консультация КЦ        False  \n",
            "6   Компетентность продавцов/ консультантов        False  \n",
            "7                       Электронная очередь        False  \n",
            "8                       Электронная очередь        False  \n",
            "9   Компетентность продавцов/ консультантов        False  \n",
            "10  Компетентность продавцов/ консультантов        False  \n",
            "11         Доступность персонала в магазине        False  \n",
            "12          Вежливость сотрудников магазина        False  \n",
            "13         Доступность персонала в магазине        False  \n",
            "14  Компетентность продавцов/ консультантов        False  \n",
            "15  Компетентность продавцов/ консультантов        False  \n",
            "16                          Консультация КЦ        False  \n",
            "17  Компетентность продавцов/ консультантов        False  \n",
            "18                          Консультация КЦ        False  \n",
            "19  Компетентность продавцов/ консультантов        False  \n"
          ]
        }
      ]
    },
    {
      "cell_type": "markdown",
      "source": [
        "*Добавим кодировку классов как дополнительный признак*"
      ],
      "metadata": {
        "id": "cj7vhoVifAle"
      }
    },
    {
      "cell_type": "code",
      "source": [
        "df['class_id'] = df['class'].factorize()[0]\n",
        "df['class_id'].value_counts()"
      ],
      "metadata": {
        "colab": {
          "base_uri": "https://localhost:8080/"
        },
        "id": "J4tmYZINe_a9",
        "outputId": "1eb2a44e-5cb7-4dfd-e6ed-f9b49f67d256"
      },
      "execution_count": 12,
      "outputs": [
        {
          "output_type": "execute_result",
          "data": {
            "text/plain": [
              "1    825\n",
              "4    500\n",
              "7    306\n",
              "3    293\n",
              "6    267\n",
              "2    264\n",
              "5    212\n",
              "0    170\n",
              "Name: class_id, dtype: int64"
            ]
          },
          "metadata": {},
          "execution_count": 12
        }
      ]
    },
    {
      "cell_type": "code",
      "source": [
        "class_id_data = df[['class', 'class_id']].drop_duplicates().sort_values('class_id')\n",
        "\n",
        "# Словарь для сверки id классов\n",
        "class_to_id = dict(class_id_data.values)\n",
        "id_to_class = dict(class_id_data[['class_id', 'class']].values)\n",
        "\n",
        "id_to_class"
      ],
      "metadata": {
        "colab": {
          "base_uri": "https://localhost:8080/"
        },
        "id": "oABNqeeYhJzJ",
        "outputId": "1a478e33-a6c9-41a6-c5a3-f0b49d91f614"
      },
      "execution_count": 13,
      "outputs": [
        {
          "output_type": "execute_result",
          "data": {
            "text/plain": [
              "{0: 'Консультация КЦ',\n",
              " 1: 'Компетентность продавцов/ консультантов',\n",
              " 2: 'Электронная очередь',\n",
              " 3: 'Доступность персонала в магазине',\n",
              " 4: 'Вежливость сотрудников магазина',\n",
              " 5: 'Обслуживание на кассе',\n",
              " 6: 'Обслуживание продавцами/ консультантами',\n",
              " 7: 'Время ожидания у кассы'}"
            ]
          },
          "metadata": {},
          "execution_count": 13
        }
      ]
    },
    {
      "cell_type": "markdown",
      "source": [
        "*Приступим к лемматизации текста*"
      ],
      "metadata": {
        "id": "1d-oH0nIqQux"
      }
    },
    {
      "cell_type": "code",
      "source": [
        "mystem = Mystem()\n",
        "\n",
        "def lemmatize_text(text):\n",
        "    # Лемматизация текста с помощью Mystem\n",
        "    lemmas = mystem.lemmatize(text)\n",
        "    # Объединение лемм в строку и удаление лишних символов\n",
        "    processed_text = ''.join(lemmas).replace(' \\n', '').strip()\n",
        "    return processed_text\n",
        "\n",
        "# Применение лемматизации к столбцу 'text'\n",
        "df['lemmatized_text'] = df['text'].apply(lemmatize_text)\n",
        "print(df)"
      ],
      "metadata": {
        "id": "8CusOKqMwFkh",
        "colab": {
          "base_uri": "https://localhost:8080/"
        },
        "outputId": "c28cdec1-b182-4d27-a778-75a5c3c08c91"
      },
      "execution_count": 14,
      "outputs": [
        {
          "output_type": "stream",
          "name": "stdout",
          "text": [
            "      Unnamed: 0     id                                               text  \\\n",
            "0              0     45   негатив к вам и горячей линии которые нафиг н...   \n",
            "1              1     97  перестаньте впаривать клиентам дополнительные ...   \n",
            "2              2    105   продавец предложил наклеить защитную плнку за...   \n",
            "3              3    127  продавец режил продать нам товар почему то по ...   \n",
            "4              4    130  навязанные услуги  без моего согласия на сумму...   \n",
            "...          ...    ...                                                ...   \n",
            "2832        2832  17570  почему отключили электронную очередь через пол...   \n",
            "2833        2833  17579  очередь на кассе продавцы не торопятся с заказ...   \n",
            "2834        2834  17586  профессионализма менеджеру бы да и внимания к ...   \n",
            "2835        2835  17591  сотрудник на выдаче заказа потребовал документ...   \n",
            "2836        2836  17594                           клиентоориентированность   \n",
            "\n",
            "                                        class  has_english  class_id  \\\n",
            "0                             Консультация КЦ        False         0   \n",
            "1     Компетентность продавцов/ консультантов        False         1   \n",
            "2     Компетентность продавцов/ консультантов        False         1   \n",
            "3     Компетентность продавцов/ консультантов        False         1   \n",
            "4     Компетентность продавцов/ консультантов        False         1   \n",
            "...                                       ...          ...       ...   \n",
            "2832                      Электронная очередь        False         2   \n",
            "2833                   Время ожидания у кассы        False         7   \n",
            "2834  Обслуживание продавцами/ консультантами        False         6   \n",
            "2835                      Электронная очередь        False         2   \n",
            "2836  Компетентность продавцов/ консультантов        False         1   \n",
            "\n",
            "                                        lemmatized_text  \n",
            "0     негатив к вы и горячий линия который нафиг не ...  \n",
            "1     переставать впаривать клиент дополнительный то...  \n",
            "2     продавец предлагать наклеивать защитный плнка ...  \n",
            "3     продавец реживать продавать мы товар почему то...  \n",
            "4     навязывать услуга  без мой согласие на сумма  ...  \n",
            "...                                                 ...  \n",
            "2832  почему отключать электронный очередь через пол...  \n",
            "2833  очередь на касса продавец не торопиться с зака...  \n",
            "2834  профессионализм менеджер бы да и внимание к кл...  \n",
            "2835  сотрудник на выдача заказ потребовать документ...  \n",
            "2836                           клиентоориентированность  \n",
            "\n",
            "[2837 rows x 7 columns]\n"
          ]
        }
      ]
    },
    {
      "cell_type": "markdown",
      "source": [
        "*Удалим ненужные колонки*"
      ],
      "metadata": {
        "id": "MVIBQRhhglvv"
      }
    },
    {
      "cell_type": "code",
      "source": [
        "df.columns"
      ],
      "metadata": {
        "id": "N1x-JIOu12KY",
        "colab": {
          "base_uri": "https://localhost:8080/"
        },
        "outputId": "c2cdc907-89c0-4dfc-b3c5-266c2648b892"
      },
      "execution_count": 15,
      "outputs": [
        {
          "output_type": "execute_result",
          "data": {
            "text/plain": [
              "Index(['Unnamed: 0', 'id', 'text', 'class', 'has_english', 'class_id',\n",
              "       'lemmatized_text'],\n",
              "      dtype='object')"
            ]
          },
          "metadata": {},
          "execution_count": 15
        }
      ]
    },
    {
      "cell_type": "code",
      "source": [
        "df = df.drop(['id', 'Unnamed: 0','text','has_english'], axis=1)\n",
        "\n",
        "df.columns"
      ],
      "metadata": {
        "id": "X7RWXHeuu8yV",
        "colab": {
          "base_uri": "https://localhost:8080/"
        },
        "outputId": "2b863d78-698e-4aff-f5d4-e673ab775082"
      },
      "execution_count": 16,
      "outputs": [
        {
          "output_type": "execute_result",
          "data": {
            "text/plain": [
              "Index(['class', 'class_id', 'lemmatized_text'], dtype='object')"
            ]
          },
          "metadata": {},
          "execution_count": 16
        }
      ]
    },
    {
      "cell_type": "code",
      "source": [
        "target = df['class']\n",
        "features = df.drop(['class'], axis=1)\n",
        "stopwords = stopwords.words('english')\n",
        "\n",
        "features_train, features_test, target_train, target_test=train_test_split(df, target,test_size=0.1,random_state=42)\n",
        "\n",
        "count_tf_idf = TfidfVectorizer(stop_words=stopwords)\n",
        "\n",
        "features_train = count_tf_idf.fit_transform(features_train['lemmatized_text'])\n",
        "features_test = count_tf_idf.transform(features_test['lemmatized_text'])\n",
        "\n",
        "print(features_train.shape)\n",
        "print(features_test.shape)"
      ],
      "metadata": {
        "id": "jMJIaN3-4v-U",
        "colab": {
          "base_uri": "https://localhost:8080/"
        },
        "outputId": "ea56dcb4-8b34-402e-c783-2fa0dfd42845"
      },
      "execution_count": 17,
      "outputs": [
        {
          "output_type": "stream",
          "name": "stdout",
          "text": [
            "(2553, 6127)\n",
            "(284, 6127)\n"
          ]
        }
      ]
    },
    {
      "cell_type": "code",
      "source": [
        "cv_counts = 10\n",
        "model = LogisticRegression(class_weight='balanced')\n",
        "scorer = make_scorer(f1_score, average='weighted')\n",
        "\n",
        "train_f1_balanced = cross_val_score(model,\n",
        "                                    features_train,\n",
        "                                    target_train,\n",
        "                                    cv=cv_counts,\n",
        "                                    scoring=scorer).mean()\n",
        "print('F1 на CV с балансированными классами', train_f1_balanced)"
      ],
      "metadata": {
        "id": "2H7gILpF8iYM",
        "colab": {
          "base_uri": "https://localhost:8080/"
        },
        "outputId": "3fe28542-704f-4945-ebcc-155a2d552501"
      },
      "execution_count": 18,
      "outputs": [
        {
          "output_type": "stream",
          "name": "stdout",
          "text": [
            "F1 на CV с балансированными классами 0.7955575609067231\n"
          ]
        }
      ]
    },
    {
      "cell_type": "markdown",
      "source": [
        "**Итог первого этапа**"
      ],
      "metadata": {
        "id": "kV6amqAntVEm"
      }
    },
    {
      "cell_type": "markdown",
      "source": [
        "На данном этапе мы ознакомились с данными, узнали их тип, общее количество строк. Проверили на дубликаты, очистили данные от специальных символов, заглавных букв и разделителей строк, а затем провели лемматизацию текста. Выявили дисбаланс классов, ресемплировали данные и высчитали предварительную F1 меру с помощью кроссвалидации."
      ],
      "metadata": {
        "id": "IX3eI4dKtg2v"
      }
    },
    {
      "cell_type": "markdown",
      "source": [
        "**Обучение**"
      ],
      "metadata": {
        "id": "Jg4tMAq4Ad1Y"
      }
    },
    {
      "cell_type": "code",
      "source": [
        "%%time\n",
        "# Создание пайплайна с моделью LogisticRegression\n",
        "pipe = Pipeline([\n",
        "    ('model', LogisticRegression(random_state=42, solver='liblinear', max_iter=1000))\n",
        "])\n",
        "# Создание параметров для GridSearchCV\n",
        "param_grid = [\n",
        "    {\n",
        "        'model__penalty': ['l1', 'l2'],\n",
        "        'model__C': list(range(1, 15, 3))\n",
        "    }\n",
        "]\n",
        "\n",
        "# Создание метрики f1_weighted с помощью make_scorer\n",
        "scorer = make_scorer(f1_score, average='weighted')\n",
        "\n",
        "# Создание объекта GridSearchCV с указанием метрики scorer\n",
        "grid = GridSearchCV(pipe, param_grid=param_grid, scoring=scorer, cv=cv_counts, verbose=True, n_jobs=-1)\n",
        "\n",
        "# Обучение модели\n",
        "best_grid = grid.fit(features_train, target_train)\n",
        "\n",
        "print('Лучшие параметры:', grid.best_params_)\n",
        "print('Лучшая метрика (F1 weighted):', grid.best_score_)"
      ],
      "metadata": {
        "id": "JNjqYmJ3teaW",
        "colab": {
          "base_uri": "https://localhost:8080/"
        },
        "outputId": "aca1b4f8-4cf8-4971-f63b-021c95a021cf"
      },
      "execution_count": 21,
      "outputs": [
        {
          "output_type": "stream",
          "name": "stdout",
          "text": [
            "Fitting 10 folds for each of 10 candidates, totalling 100 fits\n",
            "Лучшие параметры: {'model__C': 10, 'model__penalty': 'l1'}\n",
            "Лучшая метрика (F1 weighted): 0.7846524449384404\n",
            "CPU times: user 5.41 s, sys: 1.16 s, total: 6.57 s\n",
            "Wall time: 9min 21s\n"
          ]
        }
      ]
    },
    {
      "cell_type": "code",
      "source": [
        "# Получение предсказаний на тестовых данных\n",
        "predicted = best_grid.predict(features_test)\n",
        "\n",
        "# Вычисление confusion matrix\n",
        "cm = confusion_matrix(target_test, predicted)\n",
        "print(cm)"
      ],
      "metadata": {
        "colab": {
          "base_uri": "https://localhost:8080/"
        },
        "id": "KK4lXoteOSxI",
        "outputId": "2827f654-c298-456b-e974-5710aae60450"
      },
      "execution_count": 22,
      "outputs": [
        {
          "output_type": "stream",
          "name": "stdout",
          "text": [
            "[[38  0  1 13  0  1  1  2]\n",
            " [ 0 23  0  0  0  1  0  0]\n",
            " [ 0  0 26  3  0  1  0  0]\n",
            " [ 4  2  2 77  1  0  6  1]\n",
            " [ 0  0  0  2 21  0  0  0]\n",
            " [ 6  0  0  2  0  6  3  0]\n",
            " [ 1  0  3  4  0  0  8  0]\n",
            " [ 0  0  0  2  0  1  0 22]]\n"
          ]
        }
      ]
    },
    {
      "cell_type": "code",
      "source": [
        "# Создание и обучение модели RandomForestClassifier\n",
        "rfc_model = RandomForestClassifier(n_estimators=200, max_depth=3, random_state=42)\n",
        "rfc_model.fit(features_train, target_train)\n",
        "\n",
        "# Предсказание на тестовом наборе данных\n",
        "y_pred = rfc_model.predict(features_test)\n",
        "\n",
        "# Рассчет F1-меры\n",
        "f1 = f1_score(target_test, y_pred, average='weighted')\n",
        "print(\"F1-score:\", f1)"
      ],
      "metadata": {
        "colab": {
          "base_uri": "https://localhost:8080/"
        },
        "id": "bWCm48ciXWf7",
        "outputId": "7078e2d8-6324-4acf-bd40-bbe5d2079d9b"
      },
      "execution_count": 24,
      "outputs": [
        {
          "output_type": "stream",
          "name": "stdout",
          "text": [
            "F1-score: 0.16875112376385976\n"
          ]
        }
      ]
    },
    {
      "cell_type": "code",
      "source": [
        "df = df.sample(frac=1)\n",
        "df.head()"
      ],
      "metadata": {
        "colab": {
          "base_uri": "https://localhost:8080/",
          "height": 206
        },
        "id": "wR_wEZALe0d8",
        "outputId": "10386968-f78e-4fa4-e5a9-d07daaa6d02e"
      },
      "execution_count": 25,
      "outputs": [
        {
          "output_type": "execute_result",
          "data": {
            "text/plain": [
              "                                        class  class_id  \\\n",
              "1107  Компетентность продавцов/ консультантов         1   \n",
              "1112  Обслуживание продавцами/ консультантами         6   \n",
              "2594                          Консультация КЦ         0   \n",
              "387           Вежливость сотрудников магазина         4   \n",
              "206   Компетентность продавцов/ консультантов         1   \n",
              "\n",
              "                                        lemmatized_text  \n",
              "1107  не компетентный не внимательный и не знающий с...  \n",
              "1112  сотрудник озеров сергей быть не приветливый и ...  \n",
              "2594  ваш сотрудник когда звонить для актуальность з...  \n",
              "387                  охранник отпугивать сразу и всемxd  \n",
              "206   не навязывать дополнительный услуга на который...  "
            ],
            "text/html": [
              "\n",
              "  <div id=\"df-bcfeee80-4279-4278-afea-ba189bfab5ee\" class=\"colab-df-container\">\n",
              "    <div>\n",
              "<style scoped>\n",
              "    .dataframe tbody tr th:only-of-type {\n",
              "        vertical-align: middle;\n",
              "    }\n",
              "\n",
              "    .dataframe tbody tr th {\n",
              "        vertical-align: top;\n",
              "    }\n",
              "\n",
              "    .dataframe thead th {\n",
              "        text-align: right;\n",
              "    }\n",
              "</style>\n",
              "<table border=\"1\" class=\"dataframe\">\n",
              "  <thead>\n",
              "    <tr style=\"text-align: right;\">\n",
              "      <th></th>\n",
              "      <th>class</th>\n",
              "      <th>class_id</th>\n",
              "      <th>lemmatized_text</th>\n",
              "    </tr>\n",
              "  </thead>\n",
              "  <tbody>\n",
              "    <tr>\n",
              "      <th>1107</th>\n",
              "      <td>Компетентность продавцов/ консультантов</td>\n",
              "      <td>1</td>\n",
              "      <td>не компетентный не внимательный и не знающий с...</td>\n",
              "    </tr>\n",
              "    <tr>\n",
              "      <th>1112</th>\n",
              "      <td>Обслуживание продавцами/ консультантами</td>\n",
              "      <td>6</td>\n",
              "      <td>сотрудник озеров сергей быть не приветливый и ...</td>\n",
              "    </tr>\n",
              "    <tr>\n",
              "      <th>2594</th>\n",
              "      <td>Консультация КЦ</td>\n",
              "      <td>0</td>\n",
              "      <td>ваш сотрудник когда звонить для актуальность з...</td>\n",
              "    </tr>\n",
              "    <tr>\n",
              "      <th>387</th>\n",
              "      <td>Вежливость сотрудников магазина</td>\n",
              "      <td>4</td>\n",
              "      <td>охранник отпугивать сразу и всемxd</td>\n",
              "    </tr>\n",
              "    <tr>\n",
              "      <th>206</th>\n",
              "      <td>Компетентность продавцов/ консультантов</td>\n",
              "      <td>1</td>\n",
              "      <td>не навязывать дополнительный услуга на который...</td>\n",
              "    </tr>\n",
              "  </tbody>\n",
              "</table>\n",
              "</div>\n",
              "    <div class=\"colab-df-buttons\">\n",
              "\n",
              "  <div class=\"colab-df-container\">\n",
              "    <button class=\"colab-df-convert\" onclick=\"convertToInteractive('df-bcfeee80-4279-4278-afea-ba189bfab5ee')\"\n",
              "            title=\"Convert this dataframe to an interactive table.\"\n",
              "            style=\"display:none;\">\n",
              "\n",
              "  <svg xmlns=\"http://www.w3.org/2000/svg\" height=\"24px\" viewBox=\"0 -960 960 960\">\n",
              "    <path d=\"M120-120v-720h720v720H120Zm60-500h600v-160H180v160Zm220 220h160v-160H400v160Zm0 220h160v-160H400v160ZM180-400h160v-160H180v160Zm440 0h160v-160H620v160ZM180-180h160v-160H180v160Zm440 0h160v-160H620v160Z\"/>\n",
              "  </svg>\n",
              "    </button>\n",
              "\n",
              "  <style>\n",
              "    .colab-df-container {\n",
              "      display:flex;\n",
              "      gap: 12px;\n",
              "    }\n",
              "\n",
              "    .colab-df-convert {\n",
              "      background-color: #E8F0FE;\n",
              "      border: none;\n",
              "      border-radius: 50%;\n",
              "      cursor: pointer;\n",
              "      display: none;\n",
              "      fill: #1967D2;\n",
              "      height: 32px;\n",
              "      padding: 0 0 0 0;\n",
              "      width: 32px;\n",
              "    }\n",
              "\n",
              "    .colab-df-convert:hover {\n",
              "      background-color: #E2EBFA;\n",
              "      box-shadow: 0px 1px 2px rgba(60, 64, 67, 0.3), 0px 1px 3px 1px rgba(60, 64, 67, 0.15);\n",
              "      fill: #174EA6;\n",
              "    }\n",
              "\n",
              "    .colab-df-buttons div {\n",
              "      margin-bottom: 4px;\n",
              "    }\n",
              "\n",
              "    [theme=dark] .colab-df-convert {\n",
              "      background-color: #3B4455;\n",
              "      fill: #D2E3FC;\n",
              "    }\n",
              "\n",
              "    [theme=dark] .colab-df-convert:hover {\n",
              "      background-color: #434B5C;\n",
              "      box-shadow: 0px 1px 3px 1px rgba(0, 0, 0, 0.15);\n",
              "      filter: drop-shadow(0px 1px 2px rgba(0, 0, 0, 0.3));\n",
              "      fill: #FFFFFF;\n",
              "    }\n",
              "  </style>\n",
              "\n",
              "    <script>\n",
              "      const buttonEl =\n",
              "        document.querySelector('#df-bcfeee80-4279-4278-afea-ba189bfab5ee button.colab-df-convert');\n",
              "      buttonEl.style.display =\n",
              "        google.colab.kernel.accessAllowed ? 'block' : 'none';\n",
              "\n",
              "      async function convertToInteractive(key) {\n",
              "        const element = document.querySelector('#df-bcfeee80-4279-4278-afea-ba189bfab5ee');\n",
              "        const dataTable =\n",
              "          await google.colab.kernel.invokeFunction('convertToInteractive',\n",
              "                                                    [key], {});\n",
              "        if (!dataTable) return;\n",
              "\n",
              "        const docLinkHtml = 'Like what you see? Visit the ' +\n",
              "          '<a target=\"_blank\" href=https://colab.research.google.com/notebooks/data_table.ipynb>data table notebook</a>'\n",
              "          + ' to learn more about interactive tables.';\n",
              "        element.innerHTML = '';\n",
              "        dataTable['output_type'] = 'display_data';\n",
              "        await google.colab.output.renderOutput(dataTable, element);\n",
              "        const docLink = document.createElement('div');\n",
              "        docLink.innerHTML = docLinkHtml;\n",
              "        element.appendChild(docLink);\n",
              "      }\n",
              "    </script>\n",
              "  </div>\n",
              "\n",
              "\n",
              "<div id=\"df-ecd94ee3-02a5-4c35-ae15-cb2b283d7704\">\n",
              "  <button class=\"colab-df-quickchart\" onclick=\"quickchart('df-ecd94ee3-02a5-4c35-ae15-cb2b283d7704')\"\n",
              "            title=\"Suggest charts\"\n",
              "            style=\"display:none;\">\n",
              "\n",
              "<svg xmlns=\"http://www.w3.org/2000/svg\" height=\"24px\"viewBox=\"0 0 24 24\"\n",
              "     width=\"24px\">\n",
              "    <g>\n",
              "        <path d=\"M19 3H5c-1.1 0-2 .9-2 2v14c0 1.1.9 2 2 2h14c1.1 0 2-.9 2-2V5c0-1.1-.9-2-2-2zM9 17H7v-7h2v7zm4 0h-2V7h2v10zm4 0h-2v-4h2v4z\"/>\n",
              "    </g>\n",
              "</svg>\n",
              "  </button>\n",
              "\n",
              "<style>\n",
              "  .colab-df-quickchart {\n",
              "      --bg-color: #E8F0FE;\n",
              "      --fill-color: #1967D2;\n",
              "      --hover-bg-color: #E2EBFA;\n",
              "      --hover-fill-color: #174EA6;\n",
              "      --disabled-fill-color: #AAA;\n",
              "      --disabled-bg-color: #DDD;\n",
              "  }\n",
              "\n",
              "  [theme=dark] .colab-df-quickchart {\n",
              "      --bg-color: #3B4455;\n",
              "      --fill-color: #D2E3FC;\n",
              "      --hover-bg-color: #434B5C;\n",
              "      --hover-fill-color: #FFFFFF;\n",
              "      --disabled-bg-color: #3B4455;\n",
              "      --disabled-fill-color: #666;\n",
              "  }\n",
              "\n",
              "  .colab-df-quickchart {\n",
              "    background-color: var(--bg-color);\n",
              "    border: none;\n",
              "    border-radius: 50%;\n",
              "    cursor: pointer;\n",
              "    display: none;\n",
              "    fill: var(--fill-color);\n",
              "    height: 32px;\n",
              "    padding: 0;\n",
              "    width: 32px;\n",
              "  }\n",
              "\n",
              "  .colab-df-quickchart:hover {\n",
              "    background-color: var(--hover-bg-color);\n",
              "    box-shadow: 0 1px 2px rgba(60, 64, 67, 0.3), 0 1px 3px 1px rgba(60, 64, 67, 0.15);\n",
              "    fill: var(--button-hover-fill-color);\n",
              "  }\n",
              "\n",
              "  .colab-df-quickchart-complete:disabled,\n",
              "  .colab-df-quickchart-complete:disabled:hover {\n",
              "    background-color: var(--disabled-bg-color);\n",
              "    fill: var(--disabled-fill-color);\n",
              "    box-shadow: none;\n",
              "  }\n",
              "\n",
              "  .colab-df-spinner {\n",
              "    border: 2px solid var(--fill-color);\n",
              "    border-color: transparent;\n",
              "    border-bottom-color: var(--fill-color);\n",
              "    animation:\n",
              "      spin 1s steps(1) infinite;\n",
              "  }\n",
              "\n",
              "  @keyframes spin {\n",
              "    0% {\n",
              "      border-color: transparent;\n",
              "      border-bottom-color: var(--fill-color);\n",
              "      border-left-color: var(--fill-color);\n",
              "    }\n",
              "    20% {\n",
              "      border-color: transparent;\n",
              "      border-left-color: var(--fill-color);\n",
              "      border-top-color: var(--fill-color);\n",
              "    }\n",
              "    30% {\n",
              "      border-color: transparent;\n",
              "      border-left-color: var(--fill-color);\n",
              "      border-top-color: var(--fill-color);\n",
              "      border-right-color: var(--fill-color);\n",
              "    }\n",
              "    40% {\n",
              "      border-color: transparent;\n",
              "      border-right-color: var(--fill-color);\n",
              "      border-top-color: var(--fill-color);\n",
              "    }\n",
              "    60% {\n",
              "      border-color: transparent;\n",
              "      border-right-color: var(--fill-color);\n",
              "    }\n",
              "    80% {\n",
              "      border-color: transparent;\n",
              "      border-right-color: var(--fill-color);\n",
              "      border-bottom-color: var(--fill-color);\n",
              "    }\n",
              "    90% {\n",
              "      border-color: transparent;\n",
              "      border-bottom-color: var(--fill-color);\n",
              "    }\n",
              "  }\n",
              "</style>\n",
              "\n",
              "  <script>\n",
              "    async function quickchart(key) {\n",
              "      const quickchartButtonEl =\n",
              "        document.querySelector('#' + key + ' button');\n",
              "      quickchartButtonEl.disabled = true;  // To prevent multiple clicks.\n",
              "      quickchartButtonEl.classList.add('colab-df-spinner');\n",
              "      try {\n",
              "        const charts = await google.colab.kernel.invokeFunction(\n",
              "            'suggestCharts', [key], {});\n",
              "      } catch (error) {\n",
              "        console.error('Error during call to suggestCharts:', error);\n",
              "      }\n",
              "      quickchartButtonEl.classList.remove('colab-df-spinner');\n",
              "      quickchartButtonEl.classList.add('colab-df-quickchart-complete');\n",
              "    }\n",
              "    (() => {\n",
              "      let quickchartButtonEl =\n",
              "        document.querySelector('#df-ecd94ee3-02a5-4c35-ae15-cb2b283d7704 button');\n",
              "      quickchartButtonEl.style.display =\n",
              "        google.colab.kernel.accessAllowed ? 'block' : 'none';\n",
              "    })();\n",
              "  </script>\n",
              "</div>\n",
              "\n",
              "    </div>\n",
              "  </div>\n"
            ]
          },
          "metadata": {},
          "execution_count": 25
        }
      ]
    },
    {
      "cell_type": "code",
      "source": [
        "%%time\n",
        "params_forest = {\n",
        "    'n_estimators': list(range(50,500,50)),\n",
        "    'max_depth':[3,15],\n",
        "    'max_features' : list(range(1,20, 2))\n",
        "}\n",
        "\n",
        "\n",
        "model = RandomForestClassifier(random_state=42)\n",
        "\n",
        "grid = GridSearchCV(model, param_grid=params_forest, scoring='f1', cv=10, verbose=True, n_jobs=-1)\n",
        "best_grid = grid.fit(features_train, target_train)\n",
        "print('Лучшие параметры:', grid.best_params_)\n",
        "print('Лучшая метрика:', grid.best_score_)"
      ],
      "metadata": {
        "colab": {
          "base_uri": "https://localhost:8080/"
        },
        "id": "MvQC_sh0yPGI",
        "outputId": "482279ba-ce1e-48bd-d8f6-ac31ec39d995"
      },
      "execution_count": null,
      "outputs": [
        {
          "output_type": "stream",
          "name": "stdout",
          "text": [
            "Fitting 10 folds for each of 180 candidates, totalling 1800 fits\n"
          ]
        }
      ]
    },
    {
      "cell_type": "code",
      "source": [],
      "metadata": {
        "id": "gSCE5nqeytLi"
      },
      "execution_count": null,
      "outputs": []
    }
  ]
}