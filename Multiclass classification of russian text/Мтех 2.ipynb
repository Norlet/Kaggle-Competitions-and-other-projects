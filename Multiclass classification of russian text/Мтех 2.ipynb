{
  "nbformat": 4,
  "nbformat_minor": 0,
  "metadata": {
    "colab": {
      "provenance": []
    },
    "kernelspec": {
      "name": "python3",
      "display_name": "Python 3"
    },
    "language_info": {
      "name": "python"
    },
    "widgets": {
      "application/vnd.jupyter.widget-state+json": {
        "3c5e4048e6e44df38924564a52aa110a": {
          "model_module": "@jupyter-widgets/controls",
          "model_name": "HBoxModel",
          "model_module_version": "1.5.0",
          "state": {
            "_dom_classes": [],
            "_model_module": "@jupyter-widgets/controls",
            "_model_module_version": "1.5.0",
            "_model_name": "HBoxModel",
            "_view_count": null,
            "_view_module": "@jupyter-widgets/controls",
            "_view_module_version": "1.5.0",
            "_view_name": "HBoxView",
            "box_style": "",
            "children": [
              "IPY_MODEL_b63cdcd6b4c54c74a6974e6fa7a59df4",
              "IPY_MODEL_39ad6c46bf454639af292817734121c0",
              "IPY_MODEL_e6304259fc5948fa9e1e37d7be9f6108"
            ],
            "layout": "IPY_MODEL_96a611a41278407f971f84c64421e599"
          }
        },
        "b63cdcd6b4c54c74a6974e6fa7a59df4": {
          "model_module": "@jupyter-widgets/controls",
          "model_name": "HTMLModel",
          "model_module_version": "1.5.0",
          "state": {
            "_dom_classes": [],
            "_model_module": "@jupyter-widgets/controls",
            "_model_module_version": "1.5.0",
            "_model_name": "HTMLModel",
            "_view_count": null,
            "_view_module": "@jupyter-widgets/controls",
            "_view_module_version": "1.5.0",
            "_view_name": "HTMLView",
            "description": "",
            "description_tooltip": null,
            "layout": "IPY_MODEL_45a26413b5ff46bba2932f97b855e254",
            "placeholder": "​",
            "style": "IPY_MODEL_0d736e01a3de4050871c2456b6ff34c2",
            "value": "Best trial: 19. Best value: 0.832031: 100%"
          }
        },
        "39ad6c46bf454639af292817734121c0": {
          "model_module": "@jupyter-widgets/controls",
          "model_name": "FloatProgressModel",
          "model_module_version": "1.5.0",
          "state": {
            "_dom_classes": [],
            "_model_module": "@jupyter-widgets/controls",
            "_model_module_version": "1.5.0",
            "_model_name": "FloatProgressModel",
            "_view_count": null,
            "_view_module": "@jupyter-widgets/controls",
            "_view_module_version": "1.5.0",
            "_view_name": "ProgressView",
            "bar_style": "success",
            "description": "",
            "description_tooltip": null,
            "layout": "IPY_MODEL_a322fddbdb4a4a48a72460cee7bc0ebc",
            "max": 50,
            "min": 0,
            "orientation": "horizontal",
            "style": "IPY_MODEL_4c765a868b61419d801b5727104075b0",
            "value": 50
          }
        },
        "e6304259fc5948fa9e1e37d7be9f6108": {
          "model_module": "@jupyter-widgets/controls",
          "model_name": "HTMLModel",
          "model_module_version": "1.5.0",
          "state": {
            "_dom_classes": [],
            "_model_module": "@jupyter-widgets/controls",
            "_model_module_version": "1.5.0",
            "_model_name": "HTMLModel",
            "_view_count": null,
            "_view_module": "@jupyter-widgets/controls",
            "_view_module_version": "1.5.0",
            "_view_name": "HTMLView",
            "description": "",
            "description_tooltip": null,
            "layout": "IPY_MODEL_dba6708e3a6d4ad8bf6807dd677e923d",
            "placeholder": "​",
            "style": "IPY_MODEL_ca99e82423ff413e99707d8305a96db1",
            "value": " 50/50 [00:24&lt;00:00,  3.61it/s]"
          }
        },
        "96a611a41278407f971f84c64421e599": {
          "model_module": "@jupyter-widgets/base",
          "model_name": "LayoutModel",
          "model_module_version": "1.2.0",
          "state": {
            "_model_module": "@jupyter-widgets/base",
            "_model_module_version": "1.2.0",
            "_model_name": "LayoutModel",
            "_view_count": null,
            "_view_module": "@jupyter-widgets/base",
            "_view_module_version": "1.2.0",
            "_view_name": "LayoutView",
            "align_content": null,
            "align_items": null,
            "align_self": null,
            "border": null,
            "bottom": null,
            "display": null,
            "flex": null,
            "flex_flow": null,
            "grid_area": null,
            "grid_auto_columns": null,
            "grid_auto_flow": null,
            "grid_auto_rows": null,
            "grid_column": null,
            "grid_gap": null,
            "grid_row": null,
            "grid_template_areas": null,
            "grid_template_columns": null,
            "grid_template_rows": null,
            "height": null,
            "justify_content": null,
            "justify_items": null,
            "left": null,
            "margin": null,
            "max_height": null,
            "max_width": null,
            "min_height": null,
            "min_width": null,
            "object_fit": null,
            "object_position": null,
            "order": null,
            "overflow": null,
            "overflow_x": null,
            "overflow_y": null,
            "padding": null,
            "right": null,
            "top": null,
            "visibility": null,
            "width": null
          }
        },
        "45a26413b5ff46bba2932f97b855e254": {
          "model_module": "@jupyter-widgets/base",
          "model_name": "LayoutModel",
          "model_module_version": "1.2.0",
          "state": {
            "_model_module": "@jupyter-widgets/base",
            "_model_module_version": "1.2.0",
            "_model_name": "LayoutModel",
            "_view_count": null,
            "_view_module": "@jupyter-widgets/base",
            "_view_module_version": "1.2.0",
            "_view_name": "LayoutView",
            "align_content": null,
            "align_items": null,
            "align_self": null,
            "border": null,
            "bottom": null,
            "display": null,
            "flex": null,
            "flex_flow": null,
            "grid_area": null,
            "grid_auto_columns": null,
            "grid_auto_flow": null,
            "grid_auto_rows": null,
            "grid_column": null,
            "grid_gap": null,
            "grid_row": null,
            "grid_template_areas": null,
            "grid_template_columns": null,
            "grid_template_rows": null,
            "height": null,
            "justify_content": null,
            "justify_items": null,
            "left": null,
            "margin": null,
            "max_height": null,
            "max_width": null,
            "min_height": null,
            "min_width": null,
            "object_fit": null,
            "object_position": null,
            "order": null,
            "overflow": null,
            "overflow_x": null,
            "overflow_y": null,
            "padding": null,
            "right": null,
            "top": null,
            "visibility": null,
            "width": null
          }
        },
        "0d736e01a3de4050871c2456b6ff34c2": {
          "model_module": "@jupyter-widgets/controls",
          "model_name": "DescriptionStyleModel",
          "model_module_version": "1.5.0",
          "state": {
            "_model_module": "@jupyter-widgets/controls",
            "_model_module_version": "1.5.0",
            "_model_name": "DescriptionStyleModel",
            "_view_count": null,
            "_view_module": "@jupyter-widgets/base",
            "_view_module_version": "1.2.0",
            "_view_name": "StyleView",
            "description_width": ""
          }
        },
        "a322fddbdb4a4a48a72460cee7bc0ebc": {
          "model_module": "@jupyter-widgets/base",
          "model_name": "LayoutModel",
          "model_module_version": "1.2.0",
          "state": {
            "_model_module": "@jupyter-widgets/base",
            "_model_module_version": "1.2.0",
            "_model_name": "LayoutModel",
            "_view_count": null,
            "_view_module": "@jupyter-widgets/base",
            "_view_module_version": "1.2.0",
            "_view_name": "LayoutView",
            "align_content": null,
            "align_items": null,
            "align_self": null,
            "border": null,
            "bottom": null,
            "display": null,
            "flex": null,
            "flex_flow": null,
            "grid_area": null,
            "grid_auto_columns": null,
            "grid_auto_flow": null,
            "grid_auto_rows": null,
            "grid_column": null,
            "grid_gap": null,
            "grid_row": null,
            "grid_template_areas": null,
            "grid_template_columns": null,
            "grid_template_rows": null,
            "height": null,
            "justify_content": null,
            "justify_items": null,
            "left": null,
            "margin": null,
            "max_height": null,
            "max_width": null,
            "min_height": null,
            "min_width": null,
            "object_fit": null,
            "object_position": null,
            "order": null,
            "overflow": null,
            "overflow_x": null,
            "overflow_y": null,
            "padding": null,
            "right": null,
            "top": null,
            "visibility": null,
            "width": null
          }
        },
        "4c765a868b61419d801b5727104075b0": {
          "model_module": "@jupyter-widgets/controls",
          "model_name": "ProgressStyleModel",
          "model_module_version": "1.5.0",
          "state": {
            "_model_module": "@jupyter-widgets/controls",
            "_model_module_version": "1.5.0",
            "_model_name": "ProgressStyleModel",
            "_view_count": null,
            "_view_module": "@jupyter-widgets/base",
            "_view_module_version": "1.2.0",
            "_view_name": "StyleView",
            "bar_color": null,
            "description_width": ""
          }
        },
        "dba6708e3a6d4ad8bf6807dd677e923d": {
          "model_module": "@jupyter-widgets/base",
          "model_name": "LayoutModel",
          "model_module_version": "1.2.0",
          "state": {
            "_model_module": "@jupyter-widgets/base",
            "_model_module_version": "1.2.0",
            "_model_name": "LayoutModel",
            "_view_count": null,
            "_view_module": "@jupyter-widgets/base",
            "_view_module_version": "1.2.0",
            "_view_name": "LayoutView",
            "align_content": null,
            "align_items": null,
            "align_self": null,
            "border": null,
            "bottom": null,
            "display": null,
            "flex": null,
            "flex_flow": null,
            "grid_area": null,
            "grid_auto_columns": null,
            "grid_auto_flow": null,
            "grid_auto_rows": null,
            "grid_column": null,
            "grid_gap": null,
            "grid_row": null,
            "grid_template_areas": null,
            "grid_template_columns": null,
            "grid_template_rows": null,
            "height": null,
            "justify_content": null,
            "justify_items": null,
            "left": null,
            "margin": null,
            "max_height": null,
            "max_width": null,
            "min_height": null,
            "min_width": null,
            "object_fit": null,
            "object_position": null,
            "order": null,
            "overflow": null,
            "overflow_x": null,
            "overflow_y": null,
            "padding": null,
            "right": null,
            "top": null,
            "visibility": null,
            "width": null
          }
        },
        "ca99e82423ff413e99707d8305a96db1": {
          "model_module": "@jupyter-widgets/controls",
          "model_name": "DescriptionStyleModel",
          "model_module_version": "1.5.0",
          "state": {
            "_model_module": "@jupyter-widgets/controls",
            "_model_module_version": "1.5.0",
            "_model_name": "DescriptionStyleModel",
            "_view_count": null,
            "_view_module": "@jupyter-widgets/base",
            "_view_module_version": "1.2.0",
            "_view_name": "StyleView",
            "description_width": ""
          }
        }
      }
    }
  },
  "cells": [
    {
      "cell_type": "markdown",
      "source": [
        "**Классификация негативных комментариев**"
      ],
      "metadata": {
        "id": "7aXcic9OuGl2"
      }
    },
    {
      "cell_type": "markdown",
      "source": [
        "**Подготовка данных**"
      ],
      "metadata": {
        "id": "YKGYwMShuJWK"
      }
    },
    {
      "cell_type": "markdown",
      "source": [
        "*Импорт библиотек*"
      ],
      "metadata": {
        "id": "RvcgAizOuRyn"
      }
    },
    {
      "cell_type": "code",
      "execution_count": null,
      "metadata": {
        "colab": {
          "base_uri": "https://localhost:8080/"
        },
        "id": "Jjl46356qKJ0",
        "outputId": "68f5bdee-3d67-4e79-a3ab-94d4686d2ec3"
      },
      "outputs": [
        {
          "output_type": "stream",
          "name": "stdout",
          "text": [
            "Requirement already satisfied: seaborn in /usr/local/lib/python3.10/dist-packages (0.12.2)\n",
            "Requirement already satisfied: numpy!=1.24.0,>=1.17 in /usr/local/lib/python3.10/dist-packages (from seaborn) (1.23.5)\n",
            "Requirement already satisfied: pandas>=0.25 in /usr/local/lib/python3.10/dist-packages (from seaborn) (1.5.3)\n",
            "Requirement already satisfied: matplotlib!=3.6.1,>=3.1 in /usr/local/lib/python3.10/dist-packages (from seaborn) (3.7.1)\n",
            "Requirement already satisfied: contourpy>=1.0.1 in /usr/local/lib/python3.10/dist-packages (from matplotlib!=3.6.1,>=3.1->seaborn) (1.2.0)\n",
            "Requirement already satisfied: cycler>=0.10 in /usr/local/lib/python3.10/dist-packages (from matplotlib!=3.6.1,>=3.1->seaborn) (0.12.1)\n",
            "Requirement already satisfied: fonttools>=4.22.0 in /usr/local/lib/python3.10/dist-packages (from matplotlib!=3.6.1,>=3.1->seaborn) (4.46.0)\n",
            "Requirement already satisfied: kiwisolver>=1.0.1 in /usr/local/lib/python3.10/dist-packages (from matplotlib!=3.6.1,>=3.1->seaborn) (1.4.5)\n",
            "Requirement already satisfied: packaging>=20.0 in /usr/local/lib/python3.10/dist-packages (from matplotlib!=3.6.1,>=3.1->seaborn) (23.2)\n",
            "Requirement already satisfied: pillow>=6.2.0 in /usr/local/lib/python3.10/dist-packages (from matplotlib!=3.6.1,>=3.1->seaborn) (9.4.0)\n",
            "Requirement already satisfied: pyparsing>=2.3.1 in /usr/local/lib/python3.10/dist-packages (from matplotlib!=3.6.1,>=3.1->seaborn) (3.1.1)\n",
            "Requirement already satisfied: python-dateutil>=2.7 in /usr/local/lib/python3.10/dist-packages (from matplotlib!=3.6.1,>=3.1->seaborn) (2.8.2)\n",
            "Requirement already satisfied: pytz>=2020.1 in /usr/local/lib/python3.10/dist-packages (from pandas>=0.25->seaborn) (2023.3.post1)\n",
            "Requirement already satisfied: six>=1.5 in /usr/local/lib/python3.10/dist-packages (from python-dateutil>=2.7->matplotlib!=3.6.1,>=3.1->seaborn) (1.16.0)\n",
            "Requirement already satisfied: catboost in /usr/local/lib/python3.10/dist-packages (1.2.2)\n",
            "Requirement already satisfied: graphviz in /usr/local/lib/python3.10/dist-packages (from catboost) (0.20.1)\n",
            "Requirement already satisfied: matplotlib in /usr/local/lib/python3.10/dist-packages (from catboost) (3.7.1)\n",
            "Requirement already satisfied: numpy>=1.16.0 in /usr/local/lib/python3.10/dist-packages (from catboost) (1.23.5)\n",
            "Requirement already satisfied: pandas>=0.24 in /usr/local/lib/python3.10/dist-packages (from catboost) (1.5.3)\n",
            "Requirement already satisfied: scipy in /usr/local/lib/python3.10/dist-packages (from catboost) (1.11.4)\n",
            "Requirement already satisfied: plotly in /usr/local/lib/python3.10/dist-packages (from catboost) (5.15.0)\n",
            "Requirement already satisfied: six in /usr/local/lib/python3.10/dist-packages (from catboost) (1.16.0)\n",
            "Requirement already satisfied: python-dateutil>=2.8.1 in /usr/local/lib/python3.10/dist-packages (from pandas>=0.24->catboost) (2.8.2)\n",
            "Requirement already satisfied: pytz>=2020.1 in /usr/local/lib/python3.10/dist-packages (from pandas>=0.24->catboost) (2023.3.post1)\n",
            "Requirement already satisfied: contourpy>=1.0.1 in /usr/local/lib/python3.10/dist-packages (from matplotlib->catboost) (1.2.0)\n",
            "Requirement already satisfied: cycler>=0.10 in /usr/local/lib/python3.10/dist-packages (from matplotlib->catboost) (0.12.1)\n",
            "Requirement already satisfied: fonttools>=4.22.0 in /usr/local/lib/python3.10/dist-packages (from matplotlib->catboost) (4.46.0)\n",
            "Requirement already satisfied: kiwisolver>=1.0.1 in /usr/local/lib/python3.10/dist-packages (from matplotlib->catboost) (1.4.5)\n",
            "Requirement already satisfied: packaging>=20.0 in /usr/local/lib/python3.10/dist-packages (from matplotlib->catboost) (23.2)\n",
            "Requirement already satisfied: pillow>=6.2.0 in /usr/local/lib/python3.10/dist-packages (from matplotlib->catboost) (9.4.0)\n",
            "Requirement already satisfied: pyparsing>=2.3.1 in /usr/local/lib/python3.10/dist-packages (from matplotlib->catboost) (3.1.1)\n",
            "Requirement already satisfied: tenacity>=6.2.0 in /usr/local/lib/python3.10/dist-packages (from plotly->catboost) (8.2.3)\n"
          ]
        },
        {
          "output_type": "stream",
          "name": "stderr",
          "text": [
            "[nltk_data] Downloading package stopwords to /root/nltk_data...\n",
            "[nltk_data]   Package stopwords is already up-to-date!\n"
          ]
        },
        {
          "output_type": "stream",
          "name": "stdout",
          "text": [
            "Requirement already satisfied: torch in /usr/local/lib/python3.10/dist-packages (2.1.0+cu121)\n",
            "Requirement already satisfied: filelock in /usr/local/lib/python3.10/dist-packages (from torch) (3.13.1)\n",
            "Requirement already satisfied: typing-extensions in /usr/local/lib/python3.10/dist-packages (from torch) (4.5.0)\n",
            "Requirement already satisfied: sympy in /usr/local/lib/python3.10/dist-packages (from torch) (1.12)\n",
            "Requirement already satisfied: networkx in /usr/local/lib/python3.10/dist-packages (from torch) (3.2.1)\n",
            "Requirement already satisfied: jinja2 in /usr/local/lib/python3.10/dist-packages (from torch) (3.1.2)\n",
            "Requirement already satisfied: fsspec in /usr/local/lib/python3.10/dist-packages (from torch) (2023.6.0)\n",
            "Requirement already satisfied: triton==2.1.0 in /usr/local/lib/python3.10/dist-packages (from torch) (2.1.0)\n",
            "Requirement already satisfied: MarkupSafe>=2.0 in /usr/local/lib/python3.10/dist-packages (from jinja2->torch) (2.1.3)\n",
            "Requirement already satisfied: mpmath>=0.19 in /usr/local/lib/python3.10/dist-packages (from sympy->torch) (1.3.0)\n",
            "Requirement already satisfied: sentencepiece in /usr/local/lib/python3.10/dist-packages (0.1.99)\n",
            "Requirement already satisfied: sacremoses in /usr/local/lib/python3.10/dist-packages (0.1.1)\n",
            "Requirement already satisfied: regex in /usr/local/lib/python3.10/dist-packages (from sacremoses) (2023.6.3)\n",
            "Requirement already satisfied: click in /usr/local/lib/python3.10/dist-packages (from sacremoses) (8.1.7)\n",
            "Requirement already satisfied: joblib in /usr/local/lib/python3.10/dist-packages (from sacremoses) (1.3.2)\n",
            "Requirement already satisfied: tqdm in /usr/local/lib/python3.10/dist-packages (from sacremoses) (4.66.1)\n"
          ]
        }
      ],
      "source": [
        "from train import dummy_mod\n",
        "from train import logreg_mod\n",
        "from train import rf_model\n",
        "from train import mnb_model\n",
        "from train import svm_model\n",
        "from train import knn_model\n",
        "import numpy as np\n",
        "import pandas as pd\n",
        "from matplotlib import pyplot as plt\n",
        "%pip install seaborn\n",
        "import nltk\n",
        "import re\n",
        "from tqdm import tqdm\n",
        "from sklearn.metrics import make_scorer\n",
        "from sklearn.metrics import f1_score\n",
        "from sklearn.model_selection import train_test_split, cross_val_score, GridSearchCV\n",
        "from sklearn.linear_model import LogisticRegression\n",
        "from sklearn.ensemble import RandomForestClassifier\n",
        "from sklearn.svm import SVC\n",
        "from sklearn.feature_extraction.text import TfidfVectorizer\n",
        "from sklearn.feature_extraction.text import CountVectorizer\n",
        "from sklearn.utils import shuffle\n",
        "from sklearn.pipeline import Pipeline\n",
        "!pip install catboost\n",
        "from catboost import CatBoostClassifier\n",
        "from nltk.corpus import words\n",
        "from pymystem3 import Mystem\n",
        "from nltk.corpus import stopwords\n",
        "from nltk.stem import WordNetLemmatizer\n",
        "nltk.download('stopwords')\n",
        "from sklearn.metrics import confusion_matrix\n",
        "!pip install torch\n",
        "import torch\n",
        "from torch.utils.data import TensorDataset, DataLoader\n",
        "from torch.utils.data.sampler import RandomSampler, SequentialSampler\n",
        "from keras.preprocessing.sequence import pad_sequences\n",
        "!pip install sentencepiece sacremoses\n",
        "from sklearn.neighbors import KNeighborsClassifier\n",
        "import seaborn as sns\n",
        "from sklearn.dummy import DummyClassifier\n",
        "from sklearn.naive_bayes import MultinomialNB\n",
        "!pip install scikit-learn-intelex --progress-bar off >> /tmp/pip_sklearnex.log\n",
        "from sklearnex import patch_sklearn\n",
        "from sklearn.svm import SVC\n",
        "!pip install optuna\n",
        "import optuna\n",
        "from sklearn.preprocessing import LabelEncoder\n"
      ]
    },
    {
      "cell_type": "markdown",
      "source": [
        "\n",
        "# Загрузка и знакомство с данными"
      ],
      "metadata": {
        "id": "rcLiyCTH6i63"
      }
    },
    {
      "cell_type": "code",
      "source": [
        "df = pd.read_excel('/content/М.Тех_ТЗ_Датасет_DS_NLP.xlsx')\n",
        "df_backup = pd.read_excel('/content/М.Тех_ТЗ_Датасет_DS_NLP.xlsx')\n",
        "display(df)\n",
        "df.info()"
      ],
      "metadata": {
        "colab": {
          "base_uri": "https://localhost:8080/",
          "height": 615
        },
        "id": "ne-svXtYsy5B",
        "outputId": "9f88de93-d549-450e-cfb1-e50969de49db"
      },
      "execution_count": null,
      "outputs": [
        {
          "output_type": "display_data",
          "data": {
            "text/plain": [
              "      Unnamed: 0     id                                               text  \\\n",
              "0              0     45   негатив к вам и горячей линии которые нафиг н...   \n",
              "1              1     97  перестаньте впаривать клиентам дополнительные ...   \n",
              "2              2    105   продавец предложил наклеить защитную плёнку з...   \n",
              "3              3    127  продавец режил продать нам товар почему то по ...   \n",
              "4              4    130  навязанные услуги ( без моего согласия) на сум...   \n",
              "...          ...    ...                                                ...   \n",
              "2832        2832  17570  почему отключили электронную очередь через пол...   \n",
              "2833        2833  17579  очередь на кассе. продавцы не торопятся с зака...   \n",
              "2834        2834  17586  профессионализма менеджеру бы, да и внимания к...   \n",
              "2835        2835  17591  сотрудник на выдаче заказа потребовал документ...   \n",
              "2836        2836  17594                           клиентоориентированность   \n",
              "\n",
              "                                        class  \n",
              "0                             Консультация КЦ  \n",
              "1     Компетентность продавцов/ консультантов  \n",
              "2     Компетентность продавцов/ консультантов  \n",
              "3     Компетентность продавцов/ консультантов  \n",
              "4     Компетентность продавцов/ консультантов  \n",
              "...                                       ...  \n",
              "2832                      Электронная очередь  \n",
              "2833                   Время ожидания у кассы  \n",
              "2834  Обслуживание продавцами/ консультантами  \n",
              "2835                      Электронная очередь  \n",
              "2836  Компетентность продавцов/ консультантов  \n",
              "\n",
              "[2837 rows x 4 columns]"
            ],
            "text/html": [
              "\n",
              "  <div id=\"df-bff60476-b8a4-4380-befc-f0824f9e9f72\" class=\"colab-df-container\">\n",
              "    <div>\n",
              "<style scoped>\n",
              "    .dataframe tbody tr th:only-of-type {\n",
              "        vertical-align: middle;\n",
              "    }\n",
              "\n",
              "    .dataframe tbody tr th {\n",
              "        vertical-align: top;\n",
              "    }\n",
              "\n",
              "    .dataframe thead th {\n",
              "        text-align: right;\n",
              "    }\n",
              "</style>\n",
              "<table border=\"1\" class=\"dataframe\">\n",
              "  <thead>\n",
              "    <tr style=\"text-align: right;\">\n",
              "      <th></th>\n",
              "      <th>Unnamed: 0</th>\n",
              "      <th>id</th>\n",
              "      <th>text</th>\n",
              "      <th>class</th>\n",
              "    </tr>\n",
              "  </thead>\n",
              "  <tbody>\n",
              "    <tr>\n",
              "      <th>0</th>\n",
              "      <td>0</td>\n",
              "      <td>45</td>\n",
              "      <td>негатив к вам и горячей линии которые нафиг н...</td>\n",
              "      <td>Консультация КЦ</td>\n",
              "    </tr>\n",
              "    <tr>\n",
              "      <th>1</th>\n",
              "      <td>1</td>\n",
              "      <td>97</td>\n",
              "      <td>перестаньте впаривать клиентам дополнительные ...</td>\n",
              "      <td>Компетентность продавцов/ консультантов</td>\n",
              "    </tr>\n",
              "    <tr>\n",
              "      <th>2</th>\n",
              "      <td>2</td>\n",
              "      <td>105</td>\n",
              "      <td>продавец предложил наклеить защитную плёнку з...</td>\n",
              "      <td>Компетентность продавцов/ консультантов</td>\n",
              "    </tr>\n",
              "    <tr>\n",
              "      <th>3</th>\n",
              "      <td>3</td>\n",
              "      <td>127</td>\n",
              "      <td>продавец режил продать нам товар почему то по ...</td>\n",
              "      <td>Компетентность продавцов/ консультантов</td>\n",
              "    </tr>\n",
              "    <tr>\n",
              "      <th>4</th>\n",
              "      <td>4</td>\n",
              "      <td>130</td>\n",
              "      <td>навязанные услуги ( без моего согласия) на сум...</td>\n",
              "      <td>Компетентность продавцов/ консультантов</td>\n",
              "    </tr>\n",
              "    <tr>\n",
              "      <th>...</th>\n",
              "      <td>...</td>\n",
              "      <td>...</td>\n",
              "      <td>...</td>\n",
              "      <td>...</td>\n",
              "    </tr>\n",
              "    <tr>\n",
              "      <th>2832</th>\n",
              "      <td>2832</td>\n",
              "      <td>17570</td>\n",
              "      <td>почему отключили электронную очередь через пол...</td>\n",
              "      <td>Электронная очередь</td>\n",
              "    </tr>\n",
              "    <tr>\n",
              "      <th>2833</th>\n",
              "      <td>2833</td>\n",
              "      <td>17579</td>\n",
              "      <td>очередь на кассе. продавцы не торопятся с зака...</td>\n",
              "      <td>Время ожидания у кассы</td>\n",
              "    </tr>\n",
              "    <tr>\n",
              "      <th>2834</th>\n",
              "      <td>2834</td>\n",
              "      <td>17586</td>\n",
              "      <td>профессионализма менеджеру бы, да и внимания к...</td>\n",
              "      <td>Обслуживание продавцами/ консультантами</td>\n",
              "    </tr>\n",
              "    <tr>\n",
              "      <th>2835</th>\n",
              "      <td>2835</td>\n",
              "      <td>17591</td>\n",
              "      <td>сотрудник на выдаче заказа потребовал документ...</td>\n",
              "      <td>Электронная очередь</td>\n",
              "    </tr>\n",
              "    <tr>\n",
              "      <th>2836</th>\n",
              "      <td>2836</td>\n",
              "      <td>17594</td>\n",
              "      <td>клиентоориентированность</td>\n",
              "      <td>Компетентность продавцов/ консультантов</td>\n",
              "    </tr>\n",
              "  </tbody>\n",
              "</table>\n",
              "<p>2837 rows × 4 columns</p>\n",
              "</div>\n",
              "    <div class=\"colab-df-buttons\">\n",
              "\n",
              "  <div class=\"colab-df-container\">\n",
              "    <button class=\"colab-df-convert\" onclick=\"convertToInteractive('df-bff60476-b8a4-4380-befc-f0824f9e9f72')\"\n",
              "            title=\"Convert this dataframe to an interactive table.\"\n",
              "            style=\"display:none;\">\n",
              "\n",
              "  <svg xmlns=\"http://www.w3.org/2000/svg\" height=\"24px\" viewBox=\"0 -960 960 960\">\n",
              "    <path d=\"M120-120v-720h720v720H120Zm60-500h600v-160H180v160Zm220 220h160v-160H400v160Zm0 220h160v-160H400v160ZM180-400h160v-160H180v160Zm440 0h160v-160H620v160ZM180-180h160v-160H180v160Zm440 0h160v-160H620v160Z\"/>\n",
              "  </svg>\n",
              "    </button>\n",
              "\n",
              "  <style>\n",
              "    .colab-df-container {\n",
              "      display:flex;\n",
              "      gap: 12px;\n",
              "    }\n",
              "\n",
              "    .colab-df-convert {\n",
              "      background-color: #E8F0FE;\n",
              "      border: none;\n",
              "      border-radius: 50%;\n",
              "      cursor: pointer;\n",
              "      display: none;\n",
              "      fill: #1967D2;\n",
              "      height: 32px;\n",
              "      padding: 0 0 0 0;\n",
              "      width: 32px;\n",
              "    }\n",
              "\n",
              "    .colab-df-convert:hover {\n",
              "      background-color: #E2EBFA;\n",
              "      box-shadow: 0px 1px 2px rgba(60, 64, 67, 0.3), 0px 1px 3px 1px rgba(60, 64, 67, 0.15);\n",
              "      fill: #174EA6;\n",
              "    }\n",
              "\n",
              "    .colab-df-buttons div {\n",
              "      margin-bottom: 4px;\n",
              "    }\n",
              "\n",
              "    [theme=dark] .colab-df-convert {\n",
              "      background-color: #3B4455;\n",
              "      fill: #D2E3FC;\n",
              "    }\n",
              "\n",
              "    [theme=dark] .colab-df-convert:hover {\n",
              "      background-color: #434B5C;\n",
              "      box-shadow: 0px 1px 3px 1px rgba(0, 0, 0, 0.15);\n",
              "      filter: drop-shadow(0px 1px 2px rgba(0, 0, 0, 0.3));\n",
              "      fill: #FFFFFF;\n",
              "    }\n",
              "  </style>\n",
              "\n",
              "    <script>\n",
              "      const buttonEl =\n",
              "        document.querySelector('#df-bff60476-b8a4-4380-befc-f0824f9e9f72 button.colab-df-convert');\n",
              "      buttonEl.style.display =\n",
              "        google.colab.kernel.accessAllowed ? 'block' : 'none';\n",
              "\n",
              "      async function convertToInteractive(key) {\n",
              "        const element = document.querySelector('#df-bff60476-b8a4-4380-befc-f0824f9e9f72');\n",
              "        const dataTable =\n",
              "          await google.colab.kernel.invokeFunction('convertToInteractive',\n",
              "                                                    [key], {});\n",
              "        if (!dataTable) return;\n",
              "\n",
              "        const docLinkHtml = 'Like what you see? Visit the ' +\n",
              "          '<a target=\"_blank\" href=https://colab.research.google.com/notebooks/data_table.ipynb>data table notebook</a>'\n",
              "          + ' to learn more about interactive tables.';\n",
              "        element.innerHTML = '';\n",
              "        dataTable['output_type'] = 'display_data';\n",
              "        await google.colab.output.renderOutput(dataTable, element);\n",
              "        const docLink = document.createElement('div');\n",
              "        docLink.innerHTML = docLinkHtml;\n",
              "        element.appendChild(docLink);\n",
              "      }\n",
              "    </script>\n",
              "  </div>\n",
              "\n",
              "\n",
              "<div id=\"df-61976eaa-b291-447d-9e5f-e4ff225fa458\">\n",
              "  <button class=\"colab-df-quickchart\" onclick=\"quickchart('df-61976eaa-b291-447d-9e5f-e4ff225fa458')\"\n",
              "            title=\"Suggest charts\"\n",
              "            style=\"display:none;\">\n",
              "\n",
              "<svg xmlns=\"http://www.w3.org/2000/svg\" height=\"24px\"viewBox=\"0 0 24 24\"\n",
              "     width=\"24px\">\n",
              "    <g>\n",
              "        <path d=\"M19 3H5c-1.1 0-2 .9-2 2v14c0 1.1.9 2 2 2h14c1.1 0 2-.9 2-2V5c0-1.1-.9-2-2-2zM9 17H7v-7h2v7zm4 0h-2V7h2v10zm4 0h-2v-4h2v4z\"/>\n",
              "    </g>\n",
              "</svg>\n",
              "  </button>\n",
              "\n",
              "<style>\n",
              "  .colab-df-quickchart {\n",
              "      --bg-color: #E8F0FE;\n",
              "      --fill-color: #1967D2;\n",
              "      --hover-bg-color: #E2EBFA;\n",
              "      --hover-fill-color: #174EA6;\n",
              "      --disabled-fill-color: #AAA;\n",
              "      --disabled-bg-color: #DDD;\n",
              "  }\n",
              "\n",
              "  [theme=dark] .colab-df-quickchart {\n",
              "      --bg-color: #3B4455;\n",
              "      --fill-color: #D2E3FC;\n",
              "      --hover-bg-color: #434B5C;\n",
              "      --hover-fill-color: #FFFFFF;\n",
              "      --disabled-bg-color: #3B4455;\n",
              "      --disabled-fill-color: #666;\n",
              "  }\n",
              "\n",
              "  .colab-df-quickchart {\n",
              "    background-color: var(--bg-color);\n",
              "    border: none;\n",
              "    border-radius: 50%;\n",
              "    cursor: pointer;\n",
              "    display: none;\n",
              "    fill: var(--fill-color);\n",
              "    height: 32px;\n",
              "    padding: 0;\n",
              "    width: 32px;\n",
              "  }\n",
              "\n",
              "  .colab-df-quickchart:hover {\n",
              "    background-color: var(--hover-bg-color);\n",
              "    box-shadow: 0 1px 2px rgba(60, 64, 67, 0.3), 0 1px 3px 1px rgba(60, 64, 67, 0.15);\n",
              "    fill: var(--button-hover-fill-color);\n",
              "  }\n",
              "\n",
              "  .colab-df-quickchart-complete:disabled,\n",
              "  .colab-df-quickchart-complete:disabled:hover {\n",
              "    background-color: var(--disabled-bg-color);\n",
              "    fill: var(--disabled-fill-color);\n",
              "    box-shadow: none;\n",
              "  }\n",
              "\n",
              "  .colab-df-spinner {\n",
              "    border: 2px solid var(--fill-color);\n",
              "    border-color: transparent;\n",
              "    border-bottom-color: var(--fill-color);\n",
              "    animation:\n",
              "      spin 1s steps(1) infinite;\n",
              "  }\n",
              "\n",
              "  @keyframes spin {\n",
              "    0% {\n",
              "      border-color: transparent;\n",
              "      border-bottom-color: var(--fill-color);\n",
              "      border-left-color: var(--fill-color);\n",
              "    }\n",
              "    20% {\n",
              "      border-color: transparent;\n",
              "      border-left-color: var(--fill-color);\n",
              "      border-top-color: var(--fill-color);\n",
              "    }\n",
              "    30% {\n",
              "      border-color: transparent;\n",
              "      border-left-color: var(--fill-color);\n",
              "      border-top-color: var(--fill-color);\n",
              "      border-right-color: var(--fill-color);\n",
              "    }\n",
              "    40% {\n",
              "      border-color: transparent;\n",
              "      border-right-color: var(--fill-color);\n",
              "      border-top-color: var(--fill-color);\n",
              "    }\n",
              "    60% {\n",
              "      border-color: transparent;\n",
              "      border-right-color: var(--fill-color);\n",
              "    }\n",
              "    80% {\n",
              "      border-color: transparent;\n",
              "      border-right-color: var(--fill-color);\n",
              "      border-bottom-color: var(--fill-color);\n",
              "    }\n",
              "    90% {\n",
              "      border-color: transparent;\n",
              "      border-bottom-color: var(--fill-color);\n",
              "    }\n",
              "  }\n",
              "</style>\n",
              "\n",
              "  <script>\n",
              "    async function quickchart(key) {\n",
              "      const quickchartButtonEl =\n",
              "        document.querySelector('#' + key + ' button');\n",
              "      quickchartButtonEl.disabled = true;  // To prevent multiple clicks.\n",
              "      quickchartButtonEl.classList.add('colab-df-spinner');\n",
              "      try {\n",
              "        const charts = await google.colab.kernel.invokeFunction(\n",
              "            'suggestCharts', [key], {});\n",
              "      } catch (error) {\n",
              "        console.error('Error during call to suggestCharts:', error);\n",
              "      }\n",
              "      quickchartButtonEl.classList.remove('colab-df-spinner');\n",
              "      quickchartButtonEl.classList.add('colab-df-quickchart-complete');\n",
              "    }\n",
              "    (() => {\n",
              "      let quickchartButtonEl =\n",
              "        document.querySelector('#df-61976eaa-b291-447d-9e5f-e4ff225fa458 button');\n",
              "      quickchartButtonEl.style.display =\n",
              "        google.colab.kernel.accessAllowed ? 'block' : 'none';\n",
              "    })();\n",
              "  </script>\n",
              "</div>\n",
              "\n",
              "  <div id=\"id_a5b51532-4a68-4117-9778-d917064ea7c9\">\n",
              "    <style>\n",
              "      .colab-df-generate {\n",
              "        background-color: #E8F0FE;\n",
              "        border: none;\n",
              "        border-radius: 50%;\n",
              "        cursor: pointer;\n",
              "        display: none;\n",
              "        fill: #1967D2;\n",
              "        height: 32px;\n",
              "        padding: 0 0 0 0;\n",
              "        width: 32px;\n",
              "      }\n",
              "\n",
              "      .colab-df-generate:hover {\n",
              "        background-color: #E2EBFA;\n",
              "        box-shadow: 0px 1px 2px rgba(60, 64, 67, 0.3), 0px 1px 3px 1px rgba(60, 64, 67, 0.15);\n",
              "        fill: #174EA6;\n",
              "      }\n",
              "\n",
              "      [theme=dark] .colab-df-generate {\n",
              "        background-color: #3B4455;\n",
              "        fill: #D2E3FC;\n",
              "      }\n",
              "\n",
              "      [theme=dark] .colab-df-generate:hover {\n",
              "        background-color: #434B5C;\n",
              "        box-shadow: 0px 1px 3px 1px rgba(0, 0, 0, 0.15);\n",
              "        filter: drop-shadow(0px 1px 2px rgba(0, 0, 0, 0.3));\n",
              "        fill: #FFFFFF;\n",
              "      }\n",
              "    </style>\n",
              "    <button class=\"colab-df-generate\" onclick=\"generateWithVariable('df')\"\n",
              "            title=\"Generate code using this dataframe.\"\n",
              "            style=\"display:none;\">\n",
              "\n",
              "  <svg xmlns=\"http://www.w3.org/2000/svg\" height=\"24px\"viewBox=\"0 0 24 24\"\n",
              "       width=\"24px\">\n",
              "    <path d=\"M7,19H8.4L18.45,9,17,7.55,7,17.6ZM5,21V16.75L18.45,3.32a2,2,0,0,1,2.83,0l1.4,1.43a1.91,1.91,0,0,1,.58,1.4,1.91,1.91,0,0,1-.58,1.4L9.25,21ZM18.45,9,17,7.55Zm-12,3A5.31,5.31,0,0,0,4.9,8.1,5.31,5.31,0,0,0,1,6.5,5.31,5.31,0,0,0,4.9,4.9,5.31,5.31,0,0,0,6.5,1,5.31,5.31,0,0,0,8.1,4.9,5.31,5.31,0,0,0,12,6.5,5.46,5.46,0,0,0,6.5,12Z\"/>\n",
              "  </svg>\n",
              "    </button>\n",
              "    <script>\n",
              "      (() => {\n",
              "      const buttonEl =\n",
              "        document.querySelector('#id_a5b51532-4a68-4117-9778-d917064ea7c9 button.colab-df-generate');\n",
              "      buttonEl.style.display =\n",
              "        google.colab.kernel.accessAllowed ? 'block' : 'none';\n",
              "\n",
              "      buttonEl.onclick = () => {\n",
              "        google.colab.notebook.generateWithVariable('df');\n",
              "      }\n",
              "      })();\n",
              "    </script>\n",
              "  </div>\n",
              "\n",
              "    </div>\n",
              "  </div>\n"
            ]
          },
          "metadata": {}
        },
        {
          "output_type": "stream",
          "name": "stdout",
          "text": [
            "<class 'pandas.core.frame.DataFrame'>\n",
            "RangeIndex: 2837 entries, 0 to 2836\n",
            "Data columns (total 4 columns):\n",
            " #   Column      Non-Null Count  Dtype \n",
            "---  ------      --------------  ----- \n",
            " 0   Unnamed: 0  2837 non-null   int64 \n",
            " 1   id          2837 non-null   int64 \n",
            " 2   text        2837 non-null   object\n",
            " 3   class       2837 non-null   object\n",
            "dtypes: int64(2), object(2)\n",
            "memory usage: 88.8+ KB\n"
          ]
        }
      ]
    },
    {
      "cell_type": "code",
      "source": [
        "df.shape"
      ],
      "metadata": {
        "id": "Tvw-vtygugRM",
        "colab": {
          "base_uri": "https://localhost:8080/"
        },
        "outputId": "5dcedd26-cb91-4866-9992-599c9dedcc20"
      },
      "execution_count": null,
      "outputs": [
        {
          "output_type": "execute_result",
          "data": {
            "text/plain": [
              "(2837, 4)"
            ]
          },
          "metadata": {},
          "execution_count": 3
        }
      ]
    },
    {
      "cell_type": "code",
      "source": [
        "df.head()"
      ],
      "metadata": {
        "id": "Dopk9h4dutKW",
        "colab": {
          "base_uri": "https://localhost:8080/",
          "height": 206
        },
        "outputId": "60b757c0-fc41-4077-8c5a-ae4f5ed7f0a1"
      },
      "execution_count": null,
      "outputs": [
        {
          "output_type": "execute_result",
          "data": {
            "text/plain": [
              "   Unnamed: 0   id                                               text  \\\n",
              "0           0   45   негатив к вам и горячей линии которые нафиг н...   \n",
              "1           1   97  перестаньте впаривать клиентам дополнительные ...   \n",
              "2           2  105   продавец предложил наклеить защитную плёнку з...   \n",
              "3           3  127  продавец режил продать нам товар почему то по ...   \n",
              "4           4  130  навязанные услуги ( без моего согласия) на сум...   \n",
              "\n",
              "                                     class  \n",
              "0                          Консультация КЦ  \n",
              "1  Компетентность продавцов/ консультантов  \n",
              "2  Компетентность продавцов/ консультантов  \n",
              "3  Компетентность продавцов/ консультантов  \n",
              "4  Компетентность продавцов/ консультантов  "
            ],
            "text/html": [
              "\n",
              "  <div id=\"df-b5657752-d859-4062-87e4-fd74355a80f0\" class=\"colab-df-container\">\n",
              "    <div>\n",
              "<style scoped>\n",
              "    .dataframe tbody tr th:only-of-type {\n",
              "        vertical-align: middle;\n",
              "    }\n",
              "\n",
              "    .dataframe tbody tr th {\n",
              "        vertical-align: top;\n",
              "    }\n",
              "\n",
              "    .dataframe thead th {\n",
              "        text-align: right;\n",
              "    }\n",
              "</style>\n",
              "<table border=\"1\" class=\"dataframe\">\n",
              "  <thead>\n",
              "    <tr style=\"text-align: right;\">\n",
              "      <th></th>\n",
              "      <th>Unnamed: 0</th>\n",
              "      <th>id</th>\n",
              "      <th>text</th>\n",
              "      <th>class</th>\n",
              "    </tr>\n",
              "  </thead>\n",
              "  <tbody>\n",
              "    <tr>\n",
              "      <th>0</th>\n",
              "      <td>0</td>\n",
              "      <td>45</td>\n",
              "      <td>негатив к вам и горячей линии которые нафиг н...</td>\n",
              "      <td>Консультация КЦ</td>\n",
              "    </tr>\n",
              "    <tr>\n",
              "      <th>1</th>\n",
              "      <td>1</td>\n",
              "      <td>97</td>\n",
              "      <td>перестаньте впаривать клиентам дополнительные ...</td>\n",
              "      <td>Компетентность продавцов/ консультантов</td>\n",
              "    </tr>\n",
              "    <tr>\n",
              "      <th>2</th>\n",
              "      <td>2</td>\n",
              "      <td>105</td>\n",
              "      <td>продавец предложил наклеить защитную плёнку з...</td>\n",
              "      <td>Компетентность продавцов/ консультантов</td>\n",
              "    </tr>\n",
              "    <tr>\n",
              "      <th>3</th>\n",
              "      <td>3</td>\n",
              "      <td>127</td>\n",
              "      <td>продавец режил продать нам товар почему то по ...</td>\n",
              "      <td>Компетентность продавцов/ консультантов</td>\n",
              "    </tr>\n",
              "    <tr>\n",
              "      <th>4</th>\n",
              "      <td>4</td>\n",
              "      <td>130</td>\n",
              "      <td>навязанные услуги ( без моего согласия) на сум...</td>\n",
              "      <td>Компетентность продавцов/ консультантов</td>\n",
              "    </tr>\n",
              "  </tbody>\n",
              "</table>\n",
              "</div>\n",
              "    <div class=\"colab-df-buttons\">\n",
              "\n",
              "  <div class=\"colab-df-container\">\n",
              "    <button class=\"colab-df-convert\" onclick=\"convertToInteractive('df-b5657752-d859-4062-87e4-fd74355a80f0')\"\n",
              "            title=\"Convert this dataframe to an interactive table.\"\n",
              "            style=\"display:none;\">\n",
              "\n",
              "  <svg xmlns=\"http://www.w3.org/2000/svg\" height=\"24px\" viewBox=\"0 -960 960 960\">\n",
              "    <path d=\"M120-120v-720h720v720H120Zm60-500h600v-160H180v160Zm220 220h160v-160H400v160Zm0 220h160v-160H400v160ZM180-400h160v-160H180v160Zm440 0h160v-160H620v160ZM180-180h160v-160H180v160Zm440 0h160v-160H620v160Z\"/>\n",
              "  </svg>\n",
              "    </button>\n",
              "\n",
              "  <style>\n",
              "    .colab-df-container {\n",
              "      display:flex;\n",
              "      gap: 12px;\n",
              "    }\n",
              "\n",
              "    .colab-df-convert {\n",
              "      background-color: #E8F0FE;\n",
              "      border: none;\n",
              "      border-radius: 50%;\n",
              "      cursor: pointer;\n",
              "      display: none;\n",
              "      fill: #1967D2;\n",
              "      height: 32px;\n",
              "      padding: 0 0 0 0;\n",
              "      width: 32px;\n",
              "    }\n",
              "\n",
              "    .colab-df-convert:hover {\n",
              "      background-color: #E2EBFA;\n",
              "      box-shadow: 0px 1px 2px rgba(60, 64, 67, 0.3), 0px 1px 3px 1px rgba(60, 64, 67, 0.15);\n",
              "      fill: #174EA6;\n",
              "    }\n",
              "\n",
              "    .colab-df-buttons div {\n",
              "      margin-bottom: 4px;\n",
              "    }\n",
              "\n",
              "    [theme=dark] .colab-df-convert {\n",
              "      background-color: #3B4455;\n",
              "      fill: #D2E3FC;\n",
              "    }\n",
              "\n",
              "    [theme=dark] .colab-df-convert:hover {\n",
              "      background-color: #434B5C;\n",
              "      box-shadow: 0px 1px 3px 1px rgba(0, 0, 0, 0.15);\n",
              "      filter: drop-shadow(0px 1px 2px rgba(0, 0, 0, 0.3));\n",
              "      fill: #FFFFFF;\n",
              "    }\n",
              "  </style>\n",
              "\n",
              "    <script>\n",
              "      const buttonEl =\n",
              "        document.querySelector('#df-b5657752-d859-4062-87e4-fd74355a80f0 button.colab-df-convert');\n",
              "      buttonEl.style.display =\n",
              "        google.colab.kernel.accessAllowed ? 'block' : 'none';\n",
              "\n",
              "      async function convertToInteractive(key) {\n",
              "        const element = document.querySelector('#df-b5657752-d859-4062-87e4-fd74355a80f0');\n",
              "        const dataTable =\n",
              "          await google.colab.kernel.invokeFunction('convertToInteractive',\n",
              "                                                    [key], {});\n",
              "        if (!dataTable) return;\n",
              "\n",
              "        const docLinkHtml = 'Like what you see? Visit the ' +\n",
              "          '<a target=\"_blank\" href=https://colab.research.google.com/notebooks/data_table.ipynb>data table notebook</a>'\n",
              "          + ' to learn more about interactive tables.';\n",
              "        element.innerHTML = '';\n",
              "        dataTable['output_type'] = 'display_data';\n",
              "        await google.colab.output.renderOutput(dataTable, element);\n",
              "        const docLink = document.createElement('div');\n",
              "        docLink.innerHTML = docLinkHtml;\n",
              "        element.appendChild(docLink);\n",
              "      }\n",
              "    </script>\n",
              "  </div>\n",
              "\n",
              "\n",
              "<div id=\"df-c2a3842b-1479-42c7-9722-e0c066e88ded\">\n",
              "  <button class=\"colab-df-quickchart\" onclick=\"quickchart('df-c2a3842b-1479-42c7-9722-e0c066e88ded')\"\n",
              "            title=\"Suggest charts\"\n",
              "            style=\"display:none;\">\n",
              "\n",
              "<svg xmlns=\"http://www.w3.org/2000/svg\" height=\"24px\"viewBox=\"0 0 24 24\"\n",
              "     width=\"24px\">\n",
              "    <g>\n",
              "        <path d=\"M19 3H5c-1.1 0-2 .9-2 2v14c0 1.1.9 2 2 2h14c1.1 0 2-.9 2-2V5c0-1.1-.9-2-2-2zM9 17H7v-7h2v7zm4 0h-2V7h2v10zm4 0h-2v-4h2v4z\"/>\n",
              "    </g>\n",
              "</svg>\n",
              "  </button>\n",
              "\n",
              "<style>\n",
              "  .colab-df-quickchart {\n",
              "      --bg-color: #E8F0FE;\n",
              "      --fill-color: #1967D2;\n",
              "      --hover-bg-color: #E2EBFA;\n",
              "      --hover-fill-color: #174EA6;\n",
              "      --disabled-fill-color: #AAA;\n",
              "      --disabled-bg-color: #DDD;\n",
              "  }\n",
              "\n",
              "  [theme=dark] .colab-df-quickchart {\n",
              "      --bg-color: #3B4455;\n",
              "      --fill-color: #D2E3FC;\n",
              "      --hover-bg-color: #434B5C;\n",
              "      --hover-fill-color: #FFFFFF;\n",
              "      --disabled-bg-color: #3B4455;\n",
              "      --disabled-fill-color: #666;\n",
              "  }\n",
              "\n",
              "  .colab-df-quickchart {\n",
              "    background-color: var(--bg-color);\n",
              "    border: none;\n",
              "    border-radius: 50%;\n",
              "    cursor: pointer;\n",
              "    display: none;\n",
              "    fill: var(--fill-color);\n",
              "    height: 32px;\n",
              "    padding: 0;\n",
              "    width: 32px;\n",
              "  }\n",
              "\n",
              "  .colab-df-quickchart:hover {\n",
              "    background-color: var(--hover-bg-color);\n",
              "    box-shadow: 0 1px 2px rgba(60, 64, 67, 0.3), 0 1px 3px 1px rgba(60, 64, 67, 0.15);\n",
              "    fill: var(--button-hover-fill-color);\n",
              "  }\n",
              "\n",
              "  .colab-df-quickchart-complete:disabled,\n",
              "  .colab-df-quickchart-complete:disabled:hover {\n",
              "    background-color: var(--disabled-bg-color);\n",
              "    fill: var(--disabled-fill-color);\n",
              "    box-shadow: none;\n",
              "  }\n",
              "\n",
              "  .colab-df-spinner {\n",
              "    border: 2px solid var(--fill-color);\n",
              "    border-color: transparent;\n",
              "    border-bottom-color: var(--fill-color);\n",
              "    animation:\n",
              "      spin 1s steps(1) infinite;\n",
              "  }\n",
              "\n",
              "  @keyframes spin {\n",
              "    0% {\n",
              "      border-color: transparent;\n",
              "      border-bottom-color: var(--fill-color);\n",
              "      border-left-color: var(--fill-color);\n",
              "    }\n",
              "    20% {\n",
              "      border-color: transparent;\n",
              "      border-left-color: var(--fill-color);\n",
              "      border-top-color: var(--fill-color);\n",
              "    }\n",
              "    30% {\n",
              "      border-color: transparent;\n",
              "      border-left-color: var(--fill-color);\n",
              "      border-top-color: var(--fill-color);\n",
              "      border-right-color: var(--fill-color);\n",
              "    }\n",
              "    40% {\n",
              "      border-color: transparent;\n",
              "      border-right-color: var(--fill-color);\n",
              "      border-top-color: var(--fill-color);\n",
              "    }\n",
              "    60% {\n",
              "      border-color: transparent;\n",
              "      border-right-color: var(--fill-color);\n",
              "    }\n",
              "    80% {\n",
              "      border-color: transparent;\n",
              "      border-right-color: var(--fill-color);\n",
              "      border-bottom-color: var(--fill-color);\n",
              "    }\n",
              "    90% {\n",
              "      border-color: transparent;\n",
              "      border-bottom-color: var(--fill-color);\n",
              "    }\n",
              "  }\n",
              "</style>\n",
              "\n",
              "  <script>\n",
              "    async function quickchart(key) {\n",
              "      const quickchartButtonEl =\n",
              "        document.querySelector('#' + key + ' button');\n",
              "      quickchartButtonEl.disabled = true;  // To prevent multiple clicks.\n",
              "      quickchartButtonEl.classList.add('colab-df-spinner');\n",
              "      try {\n",
              "        const charts = await google.colab.kernel.invokeFunction(\n",
              "            'suggestCharts', [key], {});\n",
              "      } catch (error) {\n",
              "        console.error('Error during call to suggestCharts:', error);\n",
              "      }\n",
              "      quickchartButtonEl.classList.remove('colab-df-spinner');\n",
              "      quickchartButtonEl.classList.add('colab-df-quickchart-complete');\n",
              "    }\n",
              "    (() => {\n",
              "      let quickchartButtonEl =\n",
              "        document.querySelector('#df-c2a3842b-1479-42c7-9722-e0c066e88ded button');\n",
              "      quickchartButtonEl.style.display =\n",
              "        google.colab.kernel.accessAllowed ? 'block' : 'none';\n",
              "    })();\n",
              "  </script>\n",
              "</div>\n",
              "\n",
              "    </div>\n",
              "  </div>\n"
            ]
          },
          "metadata": {},
          "execution_count": 4
        }
      ]
    },
    {
      "cell_type": "code",
      "source": [
        "print(f\"Количество дубликатов: {df.duplicated().sum()}\")"
      ],
      "metadata": {
        "id": "b1BueLcat5KY",
        "colab": {
          "base_uri": "https://localhost:8080/"
        },
        "outputId": "b97da031-60e3-40c7-8d7c-7af6fa28cf3a"
      },
      "execution_count": null,
      "outputs": [
        {
          "output_type": "stream",
          "name": "stdout",
          "text": [
            "Количество дубликатов: 0\n"
          ]
        }
      ]
    },
    {
      "cell_type": "markdown",
      "source": [
        "*Посмотрим на распределение классов*"
      ],
      "metadata": {
        "id": "sCKVDzwKjmWK"
      }
    },
    {
      "cell_type": "code",
      "source": [
        "# Подсчет количества уникальных значений в столбце 'class'\n",
        "class_counts = df['class'].value_counts()\n",
        "\n",
        "# Создание графика\n",
        "plt.figure(figsize=(10, 7))\n",
        "class_counts.plot(kind='bar', color='skyblue')\n",
        "plt.title('Частота использования классов')\n",
        "plt.xlabel('Классы')\n",
        "plt.ylabel('Частота')\n",
        "plt.xticks(fontsize=8)\n",
        "plt.xticks(rotation = 35)\n",
        "plt.tight_layout()\n",
        "plt.show()"
      ],
      "metadata": {
        "id": "XpWkOGPSSN5p",
        "colab": {
          "base_uri": "https://localhost:8080/",
          "height": 707
        },
        "outputId": "ca55629d-f493-468f-cc1f-d3815c3a4d86"
      },
      "execution_count": null,
      "outputs": [
        {
          "output_type": "display_data",
          "data": {
            "text/plain": [
              "<Figure size 1000x700 with 1 Axes>"
            ],
            "image/png": "[encoded data removed]"
          },
          "metadata": {}
        }
      ]
    },
    {
      "cell_type": "code",
      "source": [
        "print(class_counts)"
      ],
      "metadata": {
        "id": "uyvsHUwHTKZE",
        "colab": {
          "base_uri": "https://localhost:8080/"
        },
        "outputId": "a7aaa0cb-5aec-4746-da27-11319a563edd"
      },
      "execution_count": null,
      "outputs": [
        {
          "output_type": "stream",
          "name": "stdout",
          "text": [
            "Компетентность продавцов/ консультантов    825\n",
            "Вежливость сотрудников магазина            500\n",
            "Время ожидания у кассы                     306\n",
            "Доступность персонала в магазине           293\n",
            "Обслуживание продавцами/ консультантами    267\n",
            "Электронная очередь                        264\n",
            "Обслуживание на кассе                      212\n",
            "Консультация КЦ                            170\n",
            "Name: class, dtype: int64\n"
          ]
        }
      ]
    },
    {
      "cell_type": "markdown",
      "source": [
        "*Проверим, все ли отзывы клиентов написаны на русском языке*"
      ],
      "metadata": {
        "id": "SAyxcg-jx1mZ"
      }
    },
    {
      "cell_type": "code",
      "source": [
        "nltk.download('words')\n",
        "\n",
        "english_words = set(words.words())\n",
        "\n",
        "def has_english_words(text):\n",
        "    words_in_text = text.split()\n",
        "    for word in words_in_text:\n",
        "        if word.lower() in english_words:\n",
        "            return True\n",
        "    return False\n",
        "\n",
        "df['has_english'] = df['text'].apply(has_english_words)"
      ],
      "metadata": {
        "id": "asYANuAhxNv-",
        "colab": {
          "base_uri": "https://localhost:8080/"
        },
        "outputId": "eaa03042-33a5-418e-ba6c-442860e8adc5"
      },
      "execution_count": null,
      "outputs": [
        {
          "output_type": "stream",
          "name": "stderr",
          "text": [
            "[nltk_data] Downloading package words to /root/nltk_data...\n",
            "[nltk_data]   Package words is already up-to-date!\n"
          ]
        }
      ]
    },
    {
      "cell_type": "code",
      "source": [
        "if df['has_english'].any():\n",
        "    print(\"Есть хотя бы одно значение True в колонке\")\n",
        "else:\n",
        "    print(\"Нет значений True в колонке\")"
      ],
      "metadata": {
        "id": "hiauJS3ZxR8W",
        "colab": {
          "base_uri": "https://localhost:8080/"
        },
        "outputId": "a914029d-1e86-47a4-a825-06273ece3e68"
      },
      "execution_count": null,
      "outputs": [
        {
          "output_type": "stream",
          "name": "stdout",
          "text": [
            "Есть хотя бы одно значение True в колонке\n"
          ]
        }
      ]
    },
    {
      "cell_type": "code",
      "source": [
        "filtered_texts = df[df['has_english'] == True]['text']\n",
        "print(filtered_texts)"
      ],
      "metadata": {
        "id": "4ljUvSFXyY2t",
        "colab": {
          "base_uri": "https://localhost:8080/"
        },
        "outputId": "526b1311-847e-4aed-d393-fec994aea869"
      },
      "execution_count": null,
      "outputs": [
        {
          "output_type": "stream",
          "name": "stdout",
          "text": [
            "184     сотрудник дал не верную информацию по apple tv...\n",
            "627     очень сожалею что обратился к вам 25.12.2022 п...\n",
            "670     добрый день. хотел купить в рассрочку планшет ...\n",
            "685     расна терминале талон по выдаче интернет заказ...\n",
            "940     консультант ввел в заблуждение и продал неподх...\n",
            "1027    мне не понравилось , что на кассе меня запутал...\n",
            "1040    отвратительная работа. товар не соответствует ...\n",
            "1083    отвратительная работа сотрудников call center....\n",
            "1084    просьба вернуть мне деньги за наушники, т к оп...\n",
            "1486    сотрудники выдавшие заказ, были мягко сказать ...\n",
            "1728    товар хороший. покупал раньше. повторил заказ....\n",
            "2127    добрый день.  дважды общался с операторами кол...\n",
            "2155    ужасное качество обслуживания. сотрудники инте...\n",
            "2445    пришел в 10 утра забирать заказ, с кассовой зо...\n",
            "2541    как обычно: эл очередь живет отдельно от выдач...\n",
            "Name: text, dtype: object\n"
          ]
        }
      ]
    },
    {
      "cell_type": "markdown",
      "source": [
        "*Так как среди комментариев есть иностранные символы - очистим набор данных от них, специальных символов и заглавных букв*"
      ],
      "metadata": {
        "id": "l9r5k-NHx9bw"
      }
    },
    {
      "cell_type": "markdown",
      "source": [
        "*Очистим датафрейм от специальных символов, заглавных букв и разделителей строк*\n",
        "\n"
      ],
      "metadata": {
        "id": "Iio9Tkmyu5PV"
      }
    },
    {
      "cell_type": "code",
      "source": [
        "def cleaning(text):\n",
        "    # Удаляем переводы строк\n",
        "    text = re.sub(r\"(?:\\n|\\r)\", \" \", text)\n",
        "    # Удаляем спецсимволы и цифры, оставляем только русские и английские буквы\n",
        "    text = re.sub(r\"[^a-zA-Zа-яА-Я\\s]\", '', text)\n",
        "    # Приводим к нижнему регистру\n",
        "    text = text.lower()\n",
        "    return text\n",
        "\n",
        "df['text'] = df['text'].apply(cleaning)\n",
        "df_backup['text'] = df_backup['text'].apply(cleaning)\n",
        "print(df.head(20))"
      ],
      "metadata": {
        "id": "hcIyLCUTu0rr",
        "colab": {
          "base_uri": "https://localhost:8080/"
        },
        "outputId": "b5c9afa1-01c0-4fc9-dfb0-f7d63746fde6"
      },
      "execution_count": null,
      "outputs": [
        {
          "output_type": "stream",
          "name": "stdout",
          "text": [
            "    Unnamed: 0   id                                               text  \\\n",
            "0            0   45   негатив к вам и горячей линии которые нафиг н...   \n",
            "1            1   97  перестаньте впаривать клиентам дополнительные ...   \n",
            "2            2  105   продавец предложил наклеить защитную плнку за...   \n",
            "3            3  127  продавец режил продать нам товар почему то по ...   \n",
            "4            4  130  навязанные услуги  без моего согласия на сумму...   \n",
            "5            5  168  оператор проигнорировала информацию об ошибке ...   \n",
            "6            6  181  сотрудник мало того что задал вопросы по повод...   \n",
            "7            7  206  электронные талоны в приложении не работают пр...   \n",
            "8            8  221        приложение не работало чтобы получить талон   \n",
            "9            9  224  хотели оформить заказ через приложениено сотру...   \n",
            "10          10  230  продавцами  нет отдали товар и не предложили в...   \n",
            "11          11  241       консультантов в зале надо искать с собаками    \n",
            "12          12  250   приехала продавцы даже не здоровались назвали...   \n",
            "13          13  268                     маленькое количество персонала   \n",
            "14          14  276  не понравилось навязывание не нужных услуг и с...   \n",
            "15          15  292  мне добавили в заказ  бесплатную подписку  кот...   \n",
            "16          16  294   некорректная информация от оператора оставила...   \n",
            "17          17  296  кассир сказала что в подарок идт яндекс подпис...   \n",
            "18          18  297  при обращении к оператору внятного ответа так ...   \n",
            "19          19  299  когда при тебе проверяют стоимость товара нахо...   \n",
            "\n",
            "                                      class  has_english  \n",
            "0                           Консультация КЦ        False  \n",
            "1   Компетентность продавцов/ консультантов        False  \n",
            "2   Компетентность продавцов/ консультантов        False  \n",
            "3   Компетентность продавцов/ консультантов        False  \n",
            "4   Компетентность продавцов/ консультантов        False  \n",
            "5                           Консультация КЦ        False  \n",
            "6   Компетентность продавцов/ консультантов        False  \n",
            "7                       Электронная очередь        False  \n",
            "8                       Электронная очередь        False  \n",
            "9   Компетентность продавцов/ консультантов        False  \n",
            "10  Компетентность продавцов/ консультантов        False  \n",
            "11         Доступность персонала в магазине        False  \n",
            "12          Вежливость сотрудников магазина        False  \n",
            "13         Доступность персонала в магазине        False  \n",
            "14  Компетентность продавцов/ консультантов        False  \n",
            "15  Компетентность продавцов/ консультантов        False  \n",
            "16                          Консультация КЦ        False  \n",
            "17  Компетентность продавцов/ консультантов        False  \n",
            "18                          Консультация КЦ        False  \n",
            "19  Компетентность продавцов/ консультантов        False  \n"
          ]
        }
      ]
    },
    {
      "cell_type": "markdown",
      "source": [
        "*Добавим кодировку классов как дополнительный признак*"
      ],
      "metadata": {
        "id": "cj7vhoVifAle"
      }
    },
    {
      "cell_type": "code",
      "source": [
        "df['class_id'] = df['class'].factorize()[0]\n",
        "df['class_id'].value_counts()\n",
        "\n",
        "\n",
        "df_backup['class_id'] = df_backup['class'].factorize()[0]"
      ],
      "metadata": {
        "id": "J4tmYZINe_a9"
      },
      "execution_count": null,
      "outputs": []
    },
    {
      "cell_type": "code",
      "source": [
        "class_id_data = df[['class', 'class_id']].drop_duplicates().sort_values('class_id')\n",
        "class_id_data_backup = df_backup[['class','class_id']].drop_duplicates().sort_values('class_id')\n",
        "# Словарь для сверки id классов\n",
        "class_to_id = dict(class_id_data.values)\n",
        "id_to_class = dict(class_id_data[['class_id', 'class']].values)\n",
        "\n",
        "id_to_class"
      ],
      "metadata": {
        "colab": {
          "base_uri": "https://localhost:8080/"
        },
        "id": "oABNqeeYhJzJ",
        "outputId": "8d52646d-0533-4e76-b6b3-cfa44601bd3c"
      },
      "execution_count": null,
      "outputs": [
        {
          "output_type": "execute_result",
          "data": {
            "text/plain": [
              "{0: 'Консультация КЦ',\n",
              " 1: 'Компетентность продавцов/ консультантов',\n",
              " 2: 'Электронная очередь',\n",
              " 3: 'Доступность персонала в магазине',\n",
              " 4: 'Вежливость сотрудников магазина',\n",
              " 5: 'Обслуживание на кассе',\n",
              " 6: 'Обслуживание продавцами/ консультантами',\n",
              " 7: 'Время ожидания у кассы'}"
            ]
          },
          "metadata": {},
          "execution_count": 13
        }
      ]
    },
    {
      "cell_type": "markdown",
      "source": [
        "*Приступим к лемматизации текста*"
      ],
      "metadata": {
        "id": "1d-oH0nIqQux"
      }
    },
    {
      "cell_type": "code",
      "source": [
        "mystem = Mystem()\n",
        "\n",
        "def lemmatize_text(text):\n",
        "    # Лемматизация текста с помощью Mystem\n",
        "    lemmas = mystem.lemmatize(text)\n",
        "    # Объединение лемм в строку и удаление лишних символов\n",
        "    processed_text = ''.join(lemmas).replace(' \\n', '').strip()\n",
        "    return processed_text\n",
        "\n",
        "# Применение лемматизации к столбцу 'text'\n",
        "df['lemmatized_text'] = df['text'].apply(lemmatize_text)\n",
        "print(df)"
      ],
      "metadata": {
        "id": "8CusOKqMwFkh",
        "colab": {
          "base_uri": "https://localhost:8080/"
        },
        "outputId": "e0e168ea-24a2-4fb6-aa78-f66c2f2c8dea"
      },
      "execution_count": null,
      "outputs": [
        {
          "output_type": "stream",
          "name": "stdout",
          "text": [
            "      Unnamed: 0     id                                               text  \\\n",
            "0              0     45   негатив к вам и горячей линии которые нафиг н...   \n",
            "1              1     97  перестаньте впаривать клиентам дополнительные ...   \n",
            "2              2    105   продавец предложил наклеить защитную плнку за...   \n",
            "3              3    127  продавец режил продать нам товар почему то по ...   \n",
            "4              4    130  навязанные услуги  без моего согласия на сумму...   \n",
            "...          ...    ...                                                ...   \n",
            "2832        2832  17570  почему отключили электронную очередь через пол...   \n",
            "2833        2833  17579  очередь на кассе продавцы не торопятся с заказ...   \n",
            "2834        2834  17586  профессионализма менеджеру бы да и внимания к ...   \n",
            "2835        2835  17591  сотрудник на выдаче заказа потребовал документ...   \n",
            "2836        2836  17594                           клиентоориентированность   \n",
            "\n",
            "                                        class  has_english  class_id  \\\n",
            "0                             Консультация КЦ        False         0   \n",
            "1     Компетентность продавцов/ консультантов        False         1   \n",
            "2     Компетентность продавцов/ консультантов        False         1   \n",
            "3     Компетентность продавцов/ консультантов        False         1   \n",
            "4     Компетентность продавцов/ консультантов        False         1   \n",
            "...                                       ...          ...       ...   \n",
            "2832                      Электронная очередь        False         2   \n",
            "2833                   Время ожидания у кассы        False         7   \n",
            "2834  Обслуживание продавцами/ консультантами        False         6   \n",
            "2835                      Электронная очередь        False         2   \n",
            "2836  Компетентность продавцов/ консультантов        False         1   \n",
            "\n",
            "                                        lemmatized_text  \n",
            "0     негатив к вы и горячий линия который нафиг не ...  \n",
            "1     переставать впаривать клиент дополнительный то...  \n",
            "2     продавец предлагать наклеивать защитный плнка ...  \n",
            "3     продавец реживать продавать мы товар почему то...  \n",
            "4     навязывать услуга  без мой согласие на сумма  ...  \n",
            "...                                                 ...  \n",
            "2832  почему отключать электронный очередь через пол...  \n",
            "2833  очередь на касса продавец не торопиться с зака...  \n",
            "2834  профессионализм менеджер бы да и внимание к кл...  \n",
            "2835  сотрудник на выдача заказ потребовать документ...  \n",
            "2836                           клиентоориентированность  \n",
            "\n",
            "[2837 rows x 7 columns]\n"
          ]
        }
      ]
    },
    {
      "cell_type": "markdown",
      "source": [
        "*Посмотрим на среднюю длину комментариев в символах в столбце лемматизированного текста*"
      ],
      "metadata": {
        "id": "y2n4TZscM8Al"
      }
    },
    {
      "cell_type": "code",
      "source": [
        "average_length = df['lemmatized_text'].apply(lambda x: len(x)).mean()\n",
        "print(\"Длина символов в столбце lemmatized_text:\", average_length)"
      ],
      "metadata": {
        "colab": {
          "base_uri": "https://localhost:8080/"
        },
        "id": "48ci1f3VMxLc",
        "outputId": "409d7e9c-c631-4e1a-f938-916366a085c0"
      },
      "execution_count": null,
      "outputs": [
        {
          "output_type": "stream",
          "name": "stdout",
          "text": [
            "Средняя длина символов в столбце lemmatized_text: 200.00105745505817\n"
          ]
        }
      ]
    },
    {
      "cell_type": "markdown",
      "source": [
        "*Добавим переменные для удобства*"
      ],
      "metadata": {
        "id": "a4sfgohqptZo"
      }
    },
    {
      "cell_type": "code",
      "source": [
        "sentences = df_backup['text']\n",
        "labels = df_backup['class_id']\n",
        "print(sentences[22], labels[22])"
      ],
      "metadata": {
        "colab": {
          "base_uri": "https://localhost:8080/"
        },
        "id": "YwcN_orCprCK",
        "outputId": "97468d96-e46b-4bad-9e1c-7fe38f22d931"
      },
      "execution_count": null,
      "outputs": [
        {
          "output_type": "stream",
          "name": "stdout",
          "text": [
            "продавец подсунул в чек какуюто электронную подписку за  рублей 1\n"
          ]
        }
      ]
    },
    {
      "cell_type": "markdown",
      "source": [
        "*Удалим ненужные колонки*"
      ],
      "metadata": {
        "id": "MVIBQRhhglvv"
      }
    },
    {
      "cell_type": "code",
      "source": [
        "df.columns"
      ],
      "metadata": {
        "id": "N1x-JIOu12KY",
        "colab": {
          "base_uri": "https://localhost:8080/"
        },
        "outputId": "e54fa0c5-8f4b-4d89-967b-38be64e893bb"
      },
      "execution_count": null,
      "outputs": [
        {
          "output_type": "execute_result",
          "data": {
            "text/plain": [
              "Index(['Unnamed: 0', 'id', 'text', 'class', 'has_english', 'class_id',\n",
              "       'lemmatized_text'],\n",
              "      dtype='object')"
            ]
          },
          "metadata": {},
          "execution_count": 17
        }
      ]
    },
    {
      "cell_type": "code",
      "source": [
        "df = df.drop(['id', 'Unnamed: 0','text','has_english'], axis=1)\n",
        "\n",
        "df.columns"
      ],
      "metadata": {
        "id": "X7RWXHeuu8yV",
        "colab": {
          "base_uri": "https://localhost:8080/"
        },
        "outputId": "dcb11e81-9ecb-43f8-bb50-a2d8419b8780"
      },
      "execution_count": null,
      "outputs": [
        {
          "output_type": "execute_result",
          "data": {
            "text/plain": [
              "Index(['class', 'class_id', 'lemmatized_text'], dtype='object')"
            ]
          },
          "metadata": {},
          "execution_count": 18
        }
      ]
    },
    {
      "cell_type": "code",
      "source": [
        "target = df['class']\n",
        "features = df.drop(['class'], axis=1)\n",
        "stopwords = stopwords.words('english')\n",
        "\n",
        "features_train, features_test, target_train, target_test=train_test_split(df, target,test_size=0.1,random_state=42)\n",
        "\n",
        "count_tf_idf = TfidfVectorizer(stop_words=stopwords)\n",
        "\n",
        "features_train_idf = count_tf_idf.fit_transform(features_train['lemmatized_text'])\n",
        "features_test_idf = count_tf_idf.transform(features_test['lemmatized_text'])\n",
        "\n",
        "print(features_train.shape)\n",
        "print(features_test.shape)"
      ],
      "metadata": {
        "id": "jMJIaN3-4v-U",
        "colab": {
          "base_uri": "https://localhost:8080/"
        },
        "outputId": "05782f37-2781-47e7-af0f-68244443d690"
      },
      "execution_count": null,
      "outputs": [
        {
          "output_type": "stream",
          "name": "stdout",
          "text": [
            "(2553, 3)\n",
            "(284, 3)\n"
          ]
        }
      ]
    },
    {
      "cell_type": "code",
      "source": [
        "label_encoder = LabelEncoder()\n",
        "\n",
        "# Преобразование текстовых меток классов в числовые значения\n",
        "target_train_encoded = label_encoder.fit_transform(target_train)\n",
        "target_test_encoded = label_encoder.transform(target_test)"
      ],
      "metadata": {
        "id": "MNrggXqdniqI"
      },
      "execution_count": null,
      "outputs": []
    },
    {
      "cell_type": "markdown",
      "source": [
        "**Итог первого этапа**"
      ],
      "metadata": {
        "id": "kV6amqAntVEm"
      }
    },
    {
      "cell_type": "markdown",
      "source": [
        "На данном этапе мы ознакомились с данными, узнали их тип, общее количество строк. Проверили на дубликаты, очистили данные от специальных символов, заглавных букв и разделителей строк, а затем провели лемматизацию текста. Выявили дисбаланс классов, ресемплировали данные и высчитали предварительную F1 меру с помощью кроссвалидации."
      ],
      "metadata": {
        "id": "IX3eI4dKtg2v"
      }
    },
    {
      "cell_type": "markdown",
      "source": [
        "**Обучение**"
      ],
      "metadata": {
        "id": "Jg4tMAq4Ad1Y"
      }
    },
    {
      "cell_type": "markdown",
      "source": [
        "*Взглянем на показатель DummyClassifier*"
      ],
      "metadata": {
        "id": "yzPpc_gPsPF-"
      }
    },
    {
      "cell_type": "code",
      "source": [
        "#from sklearn.dummy import DummyClassifier\n",
        "#dummy_grid = {\n",
        " #   'strategy': ['most_frequent', 'stratified', 'prior', 'uniform', 'constant'],\n",
        " #   'constant': ['Вежливость сотрудников магазина', 'Время ожидания у кассы']\n",
        "#}\n",
        "\n",
        "#dummy = DummyClassifier(random_state=42)\n",
        "#dummy_gs = GridSearchCV(dummy, param_grid=dummy_grid, cv=5)\n",
        "#dummy_gs.fit(features_train, target_train)\n",
        "\n",
        "#print(dummy_gs.best_score_)"
      ],
      "metadata": {
        "id": "QUxDOZEWrNNm"
      },
      "execution_count": null,
      "outputs": []
    },
    {
      "cell_type": "code",
      "source": [
        "dummy_grid = {\n",
        "    'strategy': ['most_frequent', 'stratified', 'prior', 'uniform', 'constant'],\n",
        "    'constant': ['Вежливость сотрудников магазина', 'Время ожидания у кассы']\n",
        "}\n",
        "\n",
        "dummy_model = DummyClassifier(random_state=42)\n",
        "best_dummy_model = dummy_mod(dummy_model, dummy_grid, features_train, target_train)"
      ],
      "metadata": {
        "id": "vGzzgaUFm8o5"
      },
      "execution_count": null,
      "outputs": []
    },
    {
      "cell_type": "markdown",
      "source": [
        "*Logistic Regression*"
      ],
      "metadata": {
        "id": "dkv6F8mtF04d"
      }
    },
    {
      "cell_type": "code",
      "source": [
        "%%time\n",
        "# Создание пайплайна с моделью LogisticRegression\n",
        "#pipe = Pipeline([\n",
        "#    ('model', LogisticRegression(random_state=42, solver='liblinear', max_iter=1000))\n",
        "#])\n",
        "# Создание параметров для GridSearchCV\n",
        "#param_grid = [\n",
        "#    {\n",
        "#        'model__penalty': ['l1', 'l2'],\n",
        " #       'model__C': list(range(1, 15, 3))\n",
        "#   }\n",
        "#]\n",
        "\n",
        "# Создание метрики f1_weighted с помощью make_scorer\n",
        "#scorer = make_scorer(f1_score, average='weighted')\n",
        "\n",
        "# Создание объекта GridSearchCV с указанием метрики scorer\n",
        "#grid = GridSearchCV(pipe, param_grid=param_grid, scoring=scorer, cv=10, verbose=True, n_jobs=-1)\n",
        "\n",
        "# Обучение модели\n",
        "#best_grid = grid.fit(features_train_idf, target_train)\n",
        "\n",
        "#print('Лучшие параметры:', grid.best_params_)\n",
        "#print('Лучшая метрика (F1 weighted):', grid.best_score_)"
      ],
      "metadata": {
        "id": "JNjqYmJ3teaW"
      },
      "execution_count": null,
      "outputs": []
    },
    {
      "cell_type": "code",
      "source": [
        "logreg_model = LogisticRegression(random_state=42, solver='liblinear', max_iter=1000)\n",
        "param_grid = {'model__penalty': ['l1', 'l2'], 'model__C': list(range(1, 15, 3))}\n",
        "\n",
        "best_logreg_model, logreg_predictions = logreg_mod(logreg_model, param_grid, features_train_idf, target_train_encoded, features_test_idf)"
      ],
      "metadata": {
        "id": "kfNQ-mvnnIO4"
      },
      "execution_count": null,
      "outputs": []
    },
    {
      "cell_type": "code",
      "source": [
        "# Получение прогнозов на тестовой выборке\n",
        "#predictions = best_grid.predict(features_test_idf)\n",
        "\n",
        "# Вычисление F1-скора на тестовой выборке\n",
        "#f1_test_score = f1_score(target_test, predictions, average='weighted')\n",
        "#print('F1-скор на тестовой выборке:', f1_test_score)"
      ],
      "metadata": {
        "id": "NXDHHOMTZA1n"
      },
      "execution_count": null,
      "outputs": []
    },
    {
      "cell_type": "code",
      "source": [
        "# Получение предсказаний на тестовых данных\n",
        "#predicted = best_grid.predict(features_test_idf)\n",
        "\n",
        "# Вычисление confusion matrix\n",
        "#cm = confusion_matrix(target_test, predicted)\n",
        "#print(cm)"
      ],
      "metadata": {
        "id": "KK4lXoteOSxI"
      },
      "execution_count": null,
      "outputs": []
    },
    {
      "cell_type": "markdown",
      "source": [
        "*Random Forest*"
      ],
      "metadata": {
        "id": "ScLriGkGG2nD"
      }
    },
    {
      "cell_type": "code",
      "source": [
        "# Создание и обучение модели RandomForestClassifier\n",
        "#rfc_model = RandomForestClassifier(n_estimators=200, max_depth=3, random_state=42)\n",
        "#rfc_model.fit(features_train_idf, target_train)\n",
        "\n",
        "# Предсказание на тестовом наборе данных\n",
        "#y_pred = rfc_model.predict(features_test_idf)\n",
        "\n",
        "# Рассчет F1-меры\n",
        "#f1 = f1_score(target_test, y_pred, average='weighted')\n",
        "#print(\"F1-score:\", f1)"
      ],
      "metadata": {
        "id": "bWCm48ciXWf7"
      },
      "execution_count": null,
      "outputs": []
    },
    {
      "cell_type": "code",
      "source": [
        "best_rf_model, rf_predictions = rf_model(features_train_idf, target_train, features_test_idf, target_test)\n"
      ],
      "metadata": {
        "id": "6B0cTYugnUyg"
      },
      "execution_count": null,
      "outputs": []
    },
    {
      "cell_type": "markdown",
      "source": [
        "*KNN*"
      ],
      "metadata": {
        "id": "gTA8UY5If4NI"
      }
    },
    {
      "cell_type": "code",
      "source": [
        "# Определение функции для оценки модели и вывода F1-меры\n",
        "#def calculate_f1_score(true, predicted):\n",
        " #   return f1_score(true, predicted, average='weighted')\n",
        "\n",
        "# Функция для обучения модели и получения предсказаний\n",
        "#def modeling(model, params, features_train_idf, target_train_encoded, features_test_idf):\n",
        "  #  grid = GridSearchCV(estimator=model, param_grid=params, scoring='f1_macro', cv=5)\n",
        "  #  grid.fit(features_train_idf, target_train_encoded)\n",
        " #   print(f'Лучшие параметры: {grid.best_params_}')\n",
        "\n",
        "  #  best_model = grid.best_estimator_\n",
        " #   best_model.fit(features_train_idf, target_train_encoded)\n",
        " #   predictions = best_model.predict(features_test_idf)\n",
        "  #  return best_model, predictions\n",
        "\n",
        "\n",
        "#KNN_model = KNeighborsClassifier()\n",
        "#KNN_params = {'n_neighbors': np.arange(3, 50, 2)}\n",
        "\n",
        "#best_KNN_model, KNN_y = modeling(KNN_model, KNN_params, features_train_idf, target_train_encoded, features_test_idf)\n",
        "#f1 = calculate_f1_score(target_test_encoded, KNN_y)\n",
        "#print(f'F1-мера: {f1}')"
      ],
      "metadata": {
        "id": "yx4XWfDZZeb6"
      },
      "execution_count": null,
      "outputs": []
    },
    {
      "cell_type": "code",
      "source": [
        "KNN_model = KNeighborsClassifier()\n",
        "KNN_params = {'n_neighbors': np.arange(3, 50, 2)}\n",
        "\n",
        "best_KNN_model, KNN_y = modeling(KNN_model, KNN_params, features_train_idf, target_train_encoded, features_test_idf)\n",
        "f1 = calculate_f1_score(target_test_encoded, KNN_y)\n",
        "print(f'F1-мера: {f1}')\n"
      ],
      "metadata": {
        "id": "4bq86ToinpD4"
      },
      "execution_count": null,
      "outputs": []
    },
    {
      "cell_type": "markdown",
      "source": [
        "*Multinominal Naive Bayes*"
      ],
      "metadata": {
        "id": "6okFGBQPtb3k"
      }
    },
    {
      "cell_type": "code",
      "source": [
        "# Создание сетки параметров\n",
        "#mnb_grid = {\n",
        "#    'alpha': [0.1, 0.2, 0.5, 0.8, 1.0],\n",
        "#    'fit_prior': [True, False],\n",
        "#    'class_prior': [None]\n",
        "#}\n",
        "\n",
        "#mnb = MultinomialNB()\n",
        "\n",
        "#mnb_tfidf_gs = GridSearchCV(mnb, param_grid=mnb_grid, cv=5)\n",
        "#mnb_tfidf_gs.fit(features_train_idf, target_train)\n",
        "#print(mnb_tfidf_gs.best_score_)"
      ],
      "metadata": {
        "id": "ooeDHBEya3mp"
      },
      "execution_count": null,
      "outputs": []
    },
    {
      "cell_type": "code",
      "source": [
        "# Создание сетки параметров\n",
        "mnb_grid = {\n",
        "    'alpha': [0.1, 0.2, 0.5, 0.8, 1.0],\n",
        "    'fit_prior': [True, False],\n",
        "    'class_prior': [None]\n",
        "}\n",
        "\n",
        "mnb = MultinomialNB()\n",
        "\n",
        "# Использование функции для обучения модели\n",
        "best_mnb_model, mnb_predictions = mnb_model(mnb, mnb_grid, features_train_idf, target_train, features_test_idf, target_test)"
      ],
      "metadata": {
        "id": "OapGx9BGntX4"
      },
      "execution_count": null,
      "outputs": []
    },
    {
      "cell_type": "markdown",
      "source": [
        "*SVM*"
      ],
      "metadata": {
        "id": "p4x5RH6pwviU"
      }
    },
    {
      "cell_type": "code",
      "source": [
        "features_train_sub, features_val, target_train_sub, target_val = train_test_split(features_train_idf, target_train, random_state = 42, test_size=0.10)"
      ],
      "metadata": {
        "id": "FD9KuYqS1NDr"
      },
      "execution_count": null,
      "outputs": []
    },
    {
      "cell_type": "code",
      "source": [
        "def objective(trial):\n",
        "    from sklearn.svm import SVC\n",
        "    params = {\n",
        "        'C': trial.suggest_loguniform('C', 1e-4, 1e4),\n",
        "        'gamma': trial.suggest_loguniform('gamma', 1e-4, 1e4),\n",
        "        'kernel': trial.suggest_categorical(\"kernel\", [\"linear\", \"rbf\"])\n",
        "    }\n",
        "\n",
        "    svc = SVC(**params)\n",
        "    svc.fit(features_train_sub, target_train_sub)\n",
        "    return svc.score(features_val, target_val)"
      ],
      "metadata": {
        "id": "5lkPL37A0wKA"
      },
      "execution_count": null,
      "outputs": []
    },
    {
      "cell_type": "code",
      "source": [
        "study = optuna.create_study(sampler=optuna.samplers.TPESampler(seed=123),\n",
        "                            direction=\"maximize\",\n",
        "                            pruner=optuna.pruners.MedianPruner())\n",
        "study.optimize(objective, n_trials=50, show_progress_bar=True)"
      ],
      "metadata": {
        "colab": {
          "base_uri": "https://localhost:8080/",
          "height": 1000,
          "referenced_widgets": [
            "3c5e4048e6e44df38924564a52aa110a",
            "b63cdcd6b4c54c74a6974e6fa7a59df4",
            "39ad6c46bf454639af292817734121c0",
            "e6304259fc5948fa9e1e37d7be9f6108",
            "96a611a41278407f971f84c64421e599",
            "45a26413b5ff46bba2932f97b855e254",
            "0d736e01a3de4050871c2456b6ff34c2",
            "a322fddbdb4a4a48a72460cee7bc0ebc",
            "4c765a868b61419d801b5727104075b0",
            "dba6708e3a6d4ad8bf6807dd677e923d",
            "ca99e82423ff413e99707d8305a96db1"
          ]
        },
        "id": "toJC4cNrx8gD",
        "outputId": "8b77ae8f-e621-437c-d23d-eaaa3a176303"
      },
      "execution_count": null,
      "outputs": [
        {
          "output_type": "stream",
          "name": "stdout",
          "text": [
            "Requirement already satisfied: optuna in /usr/local/lib/python3.10/dist-packages (3.5.0)\n",
            "Requirement already satisfied: alembic>=1.5.0 in /usr/local/lib/python3.10/dist-packages (from optuna) (1.13.0)\n",
            "Requirement already satisfied: colorlog in /usr/local/lib/python3.10/dist-packages (from optuna) (6.8.0)\n",
            "Requirement already satisfied: numpy in /usr/local/lib/python3.10/dist-packages (from optuna) (1.23.5)\n",
            "Requirement already satisfied: packaging>=20.0 in /usr/local/lib/python3.10/dist-packages (from optuna) (23.2)\n",
            "Requirement already satisfied: sqlalchemy>=1.3.0 in /usr/local/lib/python3.10/dist-packages (from optuna) (2.0.23)\n",
            "Requirement already satisfied: tqdm in /usr/local/lib/python3.10/dist-packages (from optuna) (4.66.1)\n",
            "Requirement already satisfied: PyYAML in /usr/local/lib/python3.10/dist-packages (from optuna) (6.0.1)\n",
            "Requirement already satisfied: Mako in /usr/local/lib/python3.10/dist-packages (from alembic>=1.5.0->optuna) (1.3.0)\n",
            "Requirement already satisfied: typing-extensions>=4 in /usr/local/lib/python3.10/dist-packages (from alembic>=1.5.0->optuna) (4.5.0)\n",
            "Requirement already satisfied: greenlet!=0.4.17 in /usr/local/lib/python3.10/dist-packages (from sqlalchemy>=1.3.0->optuna) (3.0.2)\n",
            "Requirement already satisfied: MarkupSafe>=0.9.2 in /usr/local/lib/python3.10/dist-packages (from Mako->alembic>=1.5.0->optuna) (2.1.3)\n"
          ]
        },
        {
          "output_type": "stream",
          "name": "stderr",
          "text": [
            "[I 2023-12-17 19:16:31,127] A new study created in memory with name: no-name-de0afdf2-4105-45a7-b598-63408f215c2a\n"
          ]
        },
        {
          "output_type": "display_data",
          "data": {
            "text/plain": [
              "  0%|          | 0/50 [00:00<?, ?it/s]"
            ],
            "application/vnd.jupyter.widget-view+json": {
              "version_major": 2,
              "version_minor": 0,
              "model_id": "3c5e4048e6e44df38924564a52aa110a"
            }
          },
          "metadata": {}
        },
        {
          "output_type": "stream",
          "name": "stderr",
          "text": [
            "<ipython-input-48-b65d2512e882>:4: FutureWarning: suggest_loguniform has been deprecated in v3.0.0. This feature will be removed in v6.0.0. See https://github.com/optuna/optuna/releases/tag/v3.0.0. Use suggest_float(..., log=True) instead.\n",
            "  'C': trial.suggest_loguniform('C', 1e-4, 1e4),\n",
            "<ipython-input-48-b65d2512e882>:5: FutureWarning: suggest_loguniform has been deprecated in v3.0.0. This feature will be removed in v6.0.0. See https://github.com/optuna/optuna/releases/tag/v3.0.0. Use suggest_float(..., log=True) instead.\n",
            "  'gamma': trial.suggest_loguniform('gamma', 1e-4, 1e4),\n"
          ]
        },
        {
          "output_type": "stream",
          "name": "stdout",
          "text": [
            "[I 2023-12-17 19:16:32,072] Trial 0 finished with value: 0.8125 and parameters: {'C': 37.30383528143735, 'gamma': 0.01945873840348015, 'kernel': 'rbf'}. Best is trial 0 with value: 0.8125.\n"
          ]
        },
        {
          "output_type": "stream",
          "name": "stderr",
          "text": [
            "<ipython-input-48-b65d2512e882>:4: FutureWarning: suggest_loguniform has been deprecated in v3.0.0. This feature will be removed in v6.0.0. See https://github.com/optuna/optuna/releases/tag/v3.0.0. Use suggest_float(..., log=True) instead.\n",
            "  'C': trial.suggest_loguniform('C', 1e-4, 1e4),\n",
            "<ipython-input-48-b65d2512e882>:5: FutureWarning: suggest_loguniform has been deprecated in v3.0.0. This feature will be removed in v6.0.0. See https://github.com/optuna/optuna/releases/tag/v3.0.0. Use suggest_float(..., log=True) instead.\n",
            "  'gamma': trial.suggest_loguniform('gamma', 1e-4, 1e4),\n"
          ]
        },
        {
          "output_type": "stream",
          "name": "stdout",
          "text": [
            "[I 2023-12-17 19:16:32,865] Trial 1 finished with value: 0.828125 and parameters: {'C': 56.98384608345693, 'gamma': 0.24257815076676031, 'kernel': 'linear'}. Best is trial 1 with value: 0.828125.\n"
          ]
        },
        {
          "output_type": "stream",
          "name": "stderr",
          "text": [
            "<ipython-input-48-b65d2512e882>:4: FutureWarning: suggest_loguniform has been deprecated in v3.0.0. This feature will be removed in v6.0.0. See https://github.com/optuna/optuna/releases/tag/v3.0.0. Use suggest_float(..., log=True) instead.\n",
            "  'C': trial.suggest_loguniform('C', 1e-4, 1e4),\n",
            "<ipython-input-48-b65d2512e882>:5: FutureWarning: suggest_loguniform has been deprecated in v3.0.0. This feature will be removed in v6.0.0. See https://github.com/optuna/optuna/releases/tag/v3.0.0. Use suggest_float(..., log=True) instead.\n",
            "  'gamma': trial.suggest_loguniform('gamma', 1e-4, 1e4),\n"
          ]
        },
        {
          "output_type": "stream",
          "name": "stdout",
          "text": [
            "[I 2023-12-17 19:16:33,896] Trial 2 finished with value: 0.59765625 and parameters: {'C': 0.7038096413827089, 'gamma': 0.13706928443177713, 'kernel': 'rbf'}. Best is trial 1 with value: 0.828125.\n"
          ]
        },
        {
          "output_type": "stream",
          "name": "stderr",
          "text": [
            "<ipython-input-48-b65d2512e882>:4: FutureWarning: suggest_loguniform has been deprecated in v3.0.0. This feature will be removed in v6.0.0. See https://github.com/optuna/optuna/releases/tag/v3.0.0. Use suggest_float(..., log=True) instead.\n",
            "  'C': trial.suggest_loguniform('C', 1e-4, 1e4),\n",
            "<ipython-input-48-b65d2512e882>:5: FutureWarning: suggest_loguniform has been deprecated in v3.0.0. This feature will be removed in v6.0.0. See https://github.com/optuna/optuna/releases/tag/v3.0.0. Use suggest_float(..., log=True) instead.\n",
            "  'gamma': trial.suggest_loguniform('gamma', 1e-4, 1e4),\n"
          ]
        },
        {
          "output_type": "stream",
          "name": "stdout",
          "text": [
            "[I 2023-12-17 19:16:35,413] Trial 3 finished with value: 0.25 and parameters: {'C': 0.32253582308744194, 'gamma': 0.0003002086301848454, 'kernel': 'rbf'}. Best is trial 1 with value: 0.828125.\n"
          ]
        },
        {
          "output_type": "stream",
          "name": "stderr",
          "text": [
            "<ipython-input-48-b65d2512e882>:4: FutureWarning: suggest_loguniform has been deprecated in v3.0.0. This feature will be removed in v6.0.0. See https://github.com/optuna/optuna/releases/tag/v3.0.0. Use suggest_float(..., log=True) instead.\n",
            "  'C': trial.suggest_loguniform('C', 1e-4, 1e4),\n",
            "<ipython-input-48-b65d2512e882>:5: FutureWarning: suggest_loguniform has been deprecated in v3.0.0. This feature will be removed in v6.0.0. See https://github.com/optuna/optuna/releases/tag/v3.0.0. Use suggest_float(..., log=True) instead.\n",
            "  'gamma': trial.suggest_loguniform('gamma', 1e-4, 1e4),\n"
          ]
        },
        {
          "output_type": "stream",
          "name": "stdout",
          "text": [
            "[I 2023-12-17 19:16:36,104] Trial 4 finished with value: 0.25 and parameters: {'C': 0.0028835922101179585, 'gamma': 0.0025328767014880767, 'kernel': 'rbf'}. Best is trial 1 with value: 0.828125.\n"
          ]
        },
        {
          "output_type": "stream",
          "name": "stderr",
          "text": [
            "<ipython-input-48-b65d2512e882>:4: FutureWarning: suggest_loguniform has been deprecated in v3.0.0. This feature will be removed in v6.0.0. See https://github.com/optuna/optuna/releases/tag/v3.0.0. Use suggest_float(..., log=True) instead.\n",
            "  'C': trial.suggest_loguniform('C', 1e-4, 1e4),\n",
            "<ipython-input-48-b65d2512e882>:5: FutureWarning: suggest_loguniform has been deprecated in v3.0.0. This feature will be removed in v6.0.0. See https://github.com/optuna/optuna/releases/tag/v3.0.0. Use suggest_float(..., log=True) instead.\n",
            "  'gamma': trial.suggest_loguniform('gamma', 1e-4, 1e4),\n"
          ]
        },
        {
          "output_type": "stream",
          "name": "stdout",
          "text": [
            "[I 2023-12-17 19:16:37,024] Trial 5 finished with value: 0.828125 and parameters: {'C': 11.890706744202372, 'gamma': 624.3877193292781, 'kernel': 'linear'}. Best is trial 1 with value: 0.828125.\n"
          ]
        },
        {
          "output_type": "stream",
          "name": "stderr",
          "text": [
            "<ipython-input-48-b65d2512e882>:4: FutureWarning: suggest_loguniform has been deprecated in v3.0.0. This feature will be removed in v6.0.0. See https://github.com/optuna/optuna/releases/tag/v3.0.0. Use suggest_float(..., log=True) instead.\n",
            "  'C': trial.suggest_loguniform('C', 1e-4, 1e4),\n",
            "<ipython-input-48-b65d2512e882>:5: FutureWarning: suggest_loguniform has been deprecated in v3.0.0. This feature will be removed in v6.0.0. See https://github.com/optuna/optuna/releases/tag/v3.0.0. Use suggest_float(..., log=True) instead.\n",
            "  'gamma': trial.suggest_loguniform('gamma', 1e-4, 1e4),\n"
          ]
        },
        {
          "output_type": "stream",
          "name": "stdout",
          "text": [
            "[I 2023-12-17 19:16:37,642] Trial 6 finished with value: 0.828125 and parameters: {'C': 60.19314852321079, 'gamma': 0.03834169523641596, 'kernel': 'linear'}. Best is trial 1 with value: 0.828125.\n"
          ]
        },
        {
          "output_type": "stream",
          "name": "stderr",
          "text": [
            "<ipython-input-48-b65d2512e882>:4: FutureWarning: suggest_loguniform has been deprecated in v3.0.0. This feature will be removed in v6.0.0. See https://github.com/optuna/optuna/releases/tag/v3.0.0. Use suggest_float(..., log=True) instead.\n",
            "  'C': trial.suggest_loguniform('C', 1e-4, 1e4),\n",
            "<ipython-input-48-b65d2512e882>:5: FutureWarning: suggest_loguniform has been deprecated in v3.0.0. This feature will be removed in v6.0.0. See https://github.com/optuna/optuna/releases/tag/v3.0.0. Use suggest_float(..., log=True) instead.\n",
            "  'gamma': trial.suggest_loguniform('gamma', 1e-4, 1e4),\n"
          ]
        },
        {
          "output_type": "stream",
          "name": "stdout",
          "text": [
            "[I 2023-12-17 19:16:38,250] Trial 7 finished with value: 0.25 and parameters: {'C': 0.0223723894683578, 'gamma': 11.163721427400015, 'kernel': 'rbf'}. Best is trial 1 with value: 0.828125.\n"
          ]
        },
        {
          "output_type": "stream",
          "name": "stderr",
          "text": [
            "<ipython-input-48-b65d2512e882>:4: FutureWarning: suggest_loguniform has been deprecated in v3.0.0. This feature will be removed in v6.0.0. See https://github.com/optuna/optuna/releases/tag/v3.0.0. Use suggest_float(..., log=True) instead.\n",
            "  'C': trial.suggest_loguniform('C', 1e-4, 1e4),\n",
            "<ipython-input-48-b65d2512e882>:5: FutureWarning: suggest_loguniform has been deprecated in v3.0.0. This feature will be removed in v6.0.0. See https://github.com/optuna/optuna/releases/tag/v3.0.0. Use suggest_float(..., log=True) instead.\n",
            "  'gamma': trial.suggest_loguniform('gamma', 1e-4, 1e4),\n"
          ]
        },
        {
          "output_type": "stream",
          "name": "stdout",
          "text": [
            "[I 2023-12-17 19:16:38,712] Trial 8 finished with value: 0.67578125 and parameters: {'C': 0.27983504785193886, 'gamma': 0.8901860438096811, 'kernel': 'linear'}. Best is trial 1 with value: 0.828125.\n"
          ]
        },
        {
          "output_type": "stream",
          "name": "stderr",
          "text": [
            "<ipython-input-48-b65d2512e882>:4: FutureWarning: suggest_loguniform has been deprecated in v3.0.0. This feature will be removed in v6.0.0. See https://github.com/optuna/optuna/releases/tag/v3.0.0. Use suggest_float(..., log=True) instead.\n",
            "  'C': trial.suggest_loguniform('C', 1e-4, 1e4),\n",
            "<ipython-input-48-b65d2512e882>:5: FutureWarning: suggest_loguniform has been deprecated in v3.0.0. This feature will be removed in v6.0.0. See https://github.com/optuna/optuna/releases/tag/v3.0.0. Use suggest_float(..., log=True) instead.\n",
            "  'gamma': trial.suggest_loguniform('gamma', 1e-4, 1e4),\n"
          ]
        },
        {
          "output_type": "stream",
          "name": "stdout",
          "text": [
            "[I 2023-12-17 19:16:39,225] Trial 9 finished with value: 0.66015625 and parameters: {'C': 0.25751969879039616, 'gamma': 1403.1797383500177, 'kernel': 'linear'}. Best is trial 1 with value: 0.828125.\n"
          ]
        },
        {
          "output_type": "stream",
          "name": "stderr",
          "text": [
            "<ipython-input-48-b65d2512e882>:4: FutureWarning: suggest_loguniform has been deprecated in v3.0.0. This feature will be removed in v6.0.0. See https://github.com/optuna/optuna/releases/tag/v3.0.0. Use suggest_float(..., log=True) instead.\n",
            "  'C': trial.suggest_loguniform('C', 1e-4, 1e4),\n",
            "<ipython-input-48-b65d2512e882>:5: FutureWarning: suggest_loguniform has been deprecated in v3.0.0. This feature will be removed in v6.0.0. See https://github.com/optuna/optuna/releases/tag/v3.0.0. Use suggest_float(..., log=True) instead.\n",
            "  'gamma': trial.suggest_loguniform('gamma', 1e-4, 1e4),\n"
          ]
        },
        {
          "output_type": "stream",
          "name": "stdout",
          "text": [
            "[I 2023-12-17 19:16:39,703] Trial 10 finished with value: 0.828125 and parameters: {'C': 7496.147874229745, 'gamma': 30.23061853671138, 'kernel': 'linear'}. Best is trial 1 with value: 0.828125.\n"
          ]
        },
        {
          "output_type": "stream",
          "name": "stderr",
          "text": [
            "<ipython-input-48-b65d2512e882>:4: FutureWarning: suggest_loguniform has been deprecated in v3.0.0. This feature will be removed in v6.0.0. See https://github.com/optuna/optuna/releases/tag/v3.0.0. Use suggest_float(..., log=True) instead.\n",
            "  'C': trial.suggest_loguniform('C', 1e-4, 1e4),\n",
            "<ipython-input-48-b65d2512e882>:5: FutureWarning: suggest_loguniform has been deprecated in v3.0.0. This feature will be removed in v6.0.0. See https://github.com/optuna/optuna/releases/tag/v3.0.0. Use suggest_float(..., log=True) instead.\n",
            "  'gamma': trial.suggest_loguniform('gamma', 1e-4, 1e4),\n"
          ]
        },
        {
          "output_type": "stream",
          "name": "stdout",
          "text": [
            "[I 2023-12-17 19:16:40,180] Trial 11 finished with value: 0.828125 and parameters: {'C': 89.43501730677391, 'gamma': 8032.817764730678, 'kernel': 'linear'}. Best is trial 1 with value: 0.828125.\n"
          ]
        },
        {
          "output_type": "stream",
          "name": "stderr",
          "text": [
            "<ipython-input-48-b65d2512e882>:4: FutureWarning: suggest_loguniform has been deprecated in v3.0.0. This feature will be removed in v6.0.0. See https://github.com/optuna/optuna/releases/tag/v3.0.0. Use suggest_float(..., log=True) instead.\n",
            "  'C': trial.suggest_loguniform('C', 1e-4, 1e4),\n",
            "<ipython-input-48-b65d2512e882>:5: FutureWarning: suggest_loguniform has been deprecated in v3.0.0. This feature will be removed in v6.0.0. See https://github.com/optuna/optuna/releases/tag/v3.0.0. Use suggest_float(..., log=True) instead.\n",
            "  'gamma': trial.suggest_loguniform('gamma', 1e-4, 1e4),\n"
          ]
        },
        {
          "output_type": "stream",
          "name": "stdout",
          "text": [
            "[I 2023-12-17 19:16:40,686] Trial 12 finished with value: 0.828125 and parameters: {'C': 2084.7339754759873, 'gamma': 86.94556002712592, 'kernel': 'linear'}. Best is trial 1 with value: 0.828125.\n"
          ]
        },
        {
          "output_type": "stream",
          "name": "stderr",
          "text": [
            "<ipython-input-48-b65d2512e882>:4: FutureWarning: suggest_loguniform has been deprecated in v3.0.0. This feature will be removed in v6.0.0. See https://github.com/optuna/optuna/releases/tag/v3.0.0. Use suggest_float(..., log=True) instead.\n",
            "  'C': trial.suggest_loguniform('C', 1e-4, 1e4),\n",
            "<ipython-input-48-b65d2512e882>:5: FutureWarning: suggest_loguniform has been deprecated in v3.0.0. This feature will be removed in v6.0.0. See https://github.com/optuna/optuna/releases/tag/v3.0.0. Use suggest_float(..., log=True) instead.\n",
            "  'gamma': trial.suggest_loguniform('gamma', 1e-4, 1e4),\n"
          ]
        },
        {
          "output_type": "stream",
          "name": "stdout",
          "text": [
            "[I 2023-12-17 19:16:40,976] Trial 13 finished with value: 0.828125 and parameters: {'C': 12.80621951427453, 'gamma': 4.354491272223255, 'kernel': 'linear'}. Best is trial 1 with value: 0.828125.\n"
          ]
        },
        {
          "output_type": "stream",
          "name": "stderr",
          "text": [
            "<ipython-input-48-b65d2512e882>:4: FutureWarning: suggest_loguniform has been deprecated in v3.0.0. This feature will be removed in v6.0.0. See https://github.com/optuna/optuna/releases/tag/v3.0.0. Use suggest_float(..., log=True) instead.\n",
            "  'C': trial.suggest_loguniform('C', 1e-4, 1e4),\n",
            "<ipython-input-48-b65d2512e882>:5: FutureWarning: suggest_loguniform has been deprecated in v3.0.0. This feature will be removed in v6.0.0. See https://github.com/optuna/optuna/releases/tag/v3.0.0. Use suggest_float(..., log=True) instead.\n",
            "  'gamma': trial.suggest_loguniform('gamma', 1e-4, 1e4),\n"
          ]
        },
        {
          "output_type": "stream",
          "name": "stdout",
          "text": [
            "[I 2023-12-17 19:16:41,498] Trial 14 finished with value: 0.828125 and parameters: {'C': 909.3477558609468, 'gamma': 377.1344364033317, 'kernel': 'linear'}. Best is trial 1 with value: 0.828125.\n"
          ]
        },
        {
          "output_type": "stream",
          "name": "stderr",
          "text": [
            "<ipython-input-48-b65d2512e882>:4: FutureWarning: suggest_loguniform has been deprecated in v3.0.0. This feature will be removed in v6.0.0. See https://github.com/optuna/optuna/releases/tag/v3.0.0. Use suggest_float(..., log=True) instead.\n",
            "  'C': trial.suggest_loguniform('C', 1e-4, 1e4),\n",
            "<ipython-input-48-b65d2512e882>:5: FutureWarning: suggest_loguniform has been deprecated in v3.0.0. This feature will be removed in v6.0.0. See https://github.com/optuna/optuna/releases/tag/v3.0.0. Use suggest_float(..., log=True) instead.\n",
            "  'gamma': trial.suggest_loguniform('gamma', 1e-4, 1e4),\n"
          ]
        },
        {
          "output_type": "stream",
          "name": "stdout",
          "text": [
            "[I 2023-12-17 19:16:42,032] Trial 15 finished with value: 0.828125 and parameters: {'C': 13.075393455924235, 'gamma': 0.5473361356086304, 'kernel': 'linear'}. Best is trial 1 with value: 0.828125.\n"
          ]
        },
        {
          "output_type": "stream",
          "name": "stderr",
          "text": [
            "<ipython-input-48-b65d2512e882>:4: FutureWarning: suggest_loguniform has been deprecated in v3.0.0. This feature will be removed in v6.0.0. See https://github.com/optuna/optuna/releases/tag/v3.0.0. Use suggest_float(..., log=True) instead.\n",
            "  'C': trial.suggest_loguniform('C', 1e-4, 1e4),\n",
            "<ipython-input-48-b65d2512e882>:5: FutureWarning: suggest_loguniform has been deprecated in v3.0.0. This feature will be removed in v6.0.0. See https://github.com/optuna/optuna/releases/tag/v3.0.0. Use suggest_float(..., log=True) instead.\n",
            "  'gamma': trial.suggest_loguniform('gamma', 1e-4, 1e4),\n"
          ]
        },
        {
          "output_type": "stream",
          "name": "stdout",
          "text": [
            "[I 2023-12-17 19:16:42,628] Trial 16 finished with value: 0.828125 and parameters: {'C': 256.95121007694956, 'gamma': 9325.72633835406, 'kernel': 'linear'}. Best is trial 1 with value: 0.828125.\n"
          ]
        },
        {
          "output_type": "stream",
          "name": "stderr",
          "text": [
            "<ipython-input-48-b65d2512e882>:4: FutureWarning: suggest_loguniform has been deprecated in v3.0.0. This feature will be removed in v6.0.0. See https://github.com/optuna/optuna/releases/tag/v3.0.0. Use suggest_float(..., log=True) instead.\n",
            "  'C': trial.suggest_loguniform('C', 1e-4, 1e4),\n",
            "<ipython-input-48-b65d2512e882>:5: FutureWarning: suggest_loguniform has been deprecated in v3.0.0. This feature will be removed in v6.0.0. See https://github.com/optuna/optuna/releases/tag/v3.0.0. Use suggest_float(..., log=True) instead.\n",
            "  'gamma': trial.suggest_loguniform('gamma', 1e-4, 1e4),\n"
          ]
        },
        {
          "output_type": "stream",
          "name": "stdout",
          "text": [
            "[I 2023-12-17 19:16:43,240] Trial 17 finished with value: 0.25 and parameters: {'C': 0.00010766468109931833, 'gamma': 0.0036708911461566965, 'kernel': 'linear'}. Best is trial 1 with value: 0.828125.\n"
          ]
        },
        {
          "output_type": "stream",
          "name": "stderr",
          "text": [
            "<ipython-input-48-b65d2512e882>:4: FutureWarning: suggest_loguniform has been deprecated in v3.0.0. This feature will be removed in v6.0.0. See https://github.com/optuna/optuna/releases/tag/v3.0.0. Use suggest_float(..., log=True) instead.\n",
            "  'C': trial.suggest_loguniform('C', 1e-4, 1e4),\n",
            "<ipython-input-48-b65d2512e882>:5: FutureWarning: suggest_loguniform has been deprecated in v3.0.0. This feature will be removed in v6.0.0. See https://github.com/optuna/optuna/releases/tag/v3.0.0. Use suggest_float(..., log=True) instead.\n",
            "  'gamma': trial.suggest_loguniform('gamma', 1e-4, 1e4),\n"
          ]
        },
        {
          "output_type": "stream",
          "name": "stdout",
          "text": [
            "[I 2023-12-17 19:16:43,684] Trial 18 finished with value: 0.82421875 and parameters: {'C': 3.173946982582924, 'gamma': 146.00194352553152, 'kernel': 'linear'}. Best is trial 1 with value: 0.828125.\n"
          ]
        },
        {
          "output_type": "stream",
          "name": "stderr",
          "text": [
            "<ipython-input-48-b65d2512e882>:4: FutureWarning: suggest_loguniform has been deprecated in v3.0.0. This feature will be removed in v6.0.0. See https://github.com/optuna/optuna/releases/tag/v3.0.0. Use suggest_float(..., log=True) instead.\n",
            "  'C': trial.suggest_loguniform('C', 1e-4, 1e4),\n",
            "<ipython-input-48-b65d2512e882>:5: FutureWarning: suggest_loguniform has been deprecated in v3.0.0. This feature will be removed in v6.0.0. See https://github.com/optuna/optuna/releases/tag/v3.0.0. Use suggest_float(..., log=True) instead.\n",
            "  'gamma': trial.suggest_loguniform('gamma', 1e-4, 1e4),\n"
          ]
        },
        {
          "output_type": "stream",
          "name": "stdout",
          "text": [
            "[I 2023-12-17 19:16:44,128] Trial 19 finished with value: 0.83203125 and parameters: {'C': 4.378712388921824, 'gamma': 3.239606544876332, 'kernel': 'linear'}. Best is trial 19 with value: 0.83203125.\n"
          ]
        },
        {
          "output_type": "stream",
          "name": "stderr",
          "text": [
            "<ipython-input-48-b65d2512e882>:4: FutureWarning: suggest_loguniform has been deprecated in v3.0.0. This feature will be removed in v6.0.0. See https://github.com/optuna/optuna/releases/tag/v3.0.0. Use suggest_float(..., log=True) instead.\n",
            "  'C': trial.suggest_loguniform('C', 1e-4, 1e4),\n",
            "<ipython-input-48-b65d2512e882>:5: FutureWarning: suggest_loguniform has been deprecated in v3.0.0. This feature will be removed in v6.0.0. See https://github.com/optuna/optuna/releases/tag/v3.0.0. Use suggest_float(..., log=True) instead.\n",
            "  'gamma': trial.suggest_loguniform('gamma', 1e-4, 1e4),\n"
          ]
        },
        {
          "output_type": "stream",
          "name": "stdout",
          "text": [
            "[I 2023-12-17 19:16:44,507] Trial 20 finished with value: 0.25 and parameters: {'C': 0.014595134262841751, 'gamma': 4.372379960154772, 'kernel': 'linear'}. Best is trial 19 with value: 0.83203125.\n"
          ]
        },
        {
          "output_type": "stream",
          "name": "stderr",
          "text": [
            "<ipython-input-48-b65d2512e882>:4: FutureWarning: suggest_loguniform has been deprecated in v3.0.0. This feature will be removed in v6.0.0. See https://github.com/optuna/optuna/releases/tag/v3.0.0. Use suggest_float(..., log=True) instead.\n",
            "  'C': trial.suggest_loguniform('C', 1e-4, 1e4),\n",
            "<ipython-input-48-b65d2512e882>:5: FutureWarning: suggest_loguniform has been deprecated in v3.0.0. This feature will be removed in v6.0.0. See https://github.com/optuna/optuna/releases/tag/v3.0.0. Use suggest_float(..., log=True) instead.\n",
            "  'gamma': trial.suggest_loguniform('gamma', 1e-4, 1e4),\n"
          ]
        },
        {
          "output_type": "stream",
          "name": "stdout",
          "text": [
            "[I 2023-12-17 19:16:44,937] Trial 21 finished with value: 0.82421875 and parameters: {'C': 3.0004871777664848, 'gamma': 0.28553434864652166, 'kernel': 'linear'}. Best is trial 19 with value: 0.83203125.\n"
          ]
        },
        {
          "output_type": "stream",
          "name": "stderr",
          "text": [
            "<ipython-input-48-b65d2512e882>:4: FutureWarning: suggest_loguniform has been deprecated in v3.0.0. This feature will be removed in v6.0.0. See https://github.com/optuna/optuna/releases/tag/v3.0.0. Use suggest_float(..., log=True) instead.\n",
            "  'C': trial.suggest_loguniform('C', 1e-4, 1e4),\n",
            "<ipython-input-48-b65d2512e882>:5: FutureWarning: suggest_loguniform has been deprecated in v3.0.0. This feature will be removed in v6.0.0. See https://github.com/optuna/optuna/releases/tag/v3.0.0. Use suggest_float(..., log=True) instead.\n",
            "  'gamma': trial.suggest_loguniform('gamma', 1e-4, 1e4),\n"
          ]
        },
        {
          "output_type": "stream",
          "name": "stdout",
          "text": [
            "[I 2023-12-17 19:16:45,507] Trial 22 finished with value: 0.83203125 and parameters: {'C': 4.358701060230022, 'gamma': 934.4814377051886, 'kernel': 'linear'}. Best is trial 19 with value: 0.83203125.\n"
          ]
        },
        {
          "output_type": "stream",
          "name": "stderr",
          "text": [
            "<ipython-input-48-b65d2512e882>:4: FutureWarning: suggest_loguniform has been deprecated in v3.0.0. This feature will be removed in v6.0.0. See https://github.com/optuna/optuna/releases/tag/v3.0.0. Use suggest_float(..., log=True) instead.\n",
            "  'C': trial.suggest_loguniform('C', 1e-4, 1e4),\n",
            "<ipython-input-48-b65d2512e882>:5: FutureWarning: suggest_loguniform has been deprecated in v3.0.0. This feature will be removed in v6.0.0. See https://github.com/optuna/optuna/releases/tag/v3.0.0. Use suggest_float(..., log=True) instead.\n",
            "  'gamma': trial.suggest_loguniform('gamma', 1e-4, 1e4),\n"
          ]
        },
        {
          "output_type": "stream",
          "name": "stdout",
          "text": [
            "[I 2023-12-17 19:16:46,024] Trial 23 finished with value: 0.828125 and parameters: {'C': 333.44999707664283, 'gamma': 2.810765720541182, 'kernel': 'linear'}. Best is trial 19 with value: 0.83203125.\n"
          ]
        },
        {
          "output_type": "stream",
          "name": "stderr",
          "text": [
            "<ipython-input-48-b65d2512e882>:4: FutureWarning: suggest_loguniform has been deprecated in v3.0.0. This feature will be removed in v6.0.0. See https://github.com/optuna/optuna/releases/tag/v3.0.0. Use suggest_float(..., log=True) instead.\n",
            "  'C': trial.suggest_loguniform('C', 1e-4, 1e4),\n",
            "<ipython-input-48-b65d2512e882>:5: FutureWarning: suggest_loguniform has been deprecated in v3.0.0. This feature will be removed in v6.0.0. See https://github.com/optuna/optuna/releases/tag/v3.0.0. Use suggest_float(..., log=True) instead.\n",
            "  'gamma': trial.suggest_loguniform('gamma', 1e-4, 1e4),\n"
          ]
        },
        {
          "output_type": "stream",
          "name": "stdout",
          "text": [
            "[I 2023-12-17 19:16:46,665] Trial 24 finished with value: 0.8125 and parameters: {'C': 2.1549662858028817, 'gamma': 0.06040862098436505, 'kernel': 'linear'}. Best is trial 19 with value: 0.83203125.\n"
          ]
        },
        {
          "output_type": "stream",
          "name": "stderr",
          "text": [
            "<ipython-input-48-b65d2512e882>:4: FutureWarning: suggest_loguniform has been deprecated in v3.0.0. This feature will be removed in v6.0.0. See https://github.com/optuna/optuna/releases/tag/v3.0.0. Use suggest_float(..., log=True) instead.\n",
            "  'C': trial.suggest_loguniform('C', 1e-4, 1e4),\n",
            "<ipython-input-48-b65d2512e882>:5: FutureWarning: suggest_loguniform has been deprecated in v3.0.0. This feature will be removed in v6.0.0. See https://github.com/optuna/optuna/releases/tag/v3.0.0. Use suggest_float(..., log=True) instead.\n",
            "  'gamma': trial.suggest_loguniform('gamma', 1e-4, 1e4),\n"
          ]
        },
        {
          "output_type": "stream",
          "name": "stdout",
          "text": [
            "[I 2023-12-17 19:16:47,159] Trial 25 finished with value: 0.25390625 and parameters: {'C': 0.023159830513059785, 'gamma': 46.527854571221496, 'kernel': 'linear'}. Best is trial 19 with value: 0.83203125.\n"
          ]
        },
        {
          "output_type": "stream",
          "name": "stderr",
          "text": [
            "<ipython-input-48-b65d2512e882>:4: FutureWarning: suggest_loguniform has been deprecated in v3.0.0. This feature will be removed in v6.0.0. See https://github.com/optuna/optuna/releases/tag/v3.0.0. Use suggest_float(..., log=True) instead.\n",
            "  'C': trial.suggest_loguniform('C', 1e-4, 1e4),\n",
            "<ipython-input-48-b65d2512e882>:5: FutureWarning: suggest_loguniform has been deprecated in v3.0.0. This feature will be removed in v6.0.0. See https://github.com/optuna/optuna/releases/tag/v3.0.0. Use suggest_float(..., log=True) instead.\n",
            "  'gamma': trial.suggest_loguniform('gamma', 1e-4, 1e4),\n"
          ]
        },
        {
          "output_type": "stream",
          "name": "stdout",
          "text": [
            "[I 2023-12-17 19:16:47,875] Trial 26 finished with value: 0.25 and parameters: {'C': 0.06444059927966475, 'gamma': 0.011301224815017974, 'kernel': 'rbf'}. Best is trial 19 with value: 0.83203125.\n"
          ]
        },
        {
          "output_type": "stream",
          "name": "stderr",
          "text": [
            "<ipython-input-48-b65d2512e882>:4: FutureWarning: suggest_loguniform has been deprecated in v3.0.0. This feature will be removed in v6.0.0. See https://github.com/optuna/optuna/releases/tag/v3.0.0. Use suggest_float(..., log=True) instead.\n",
            "  'C': trial.suggest_loguniform('C', 1e-4, 1e4),\n",
            "<ipython-input-48-b65d2512e882>:5: FutureWarning: suggest_loguniform has been deprecated in v3.0.0. This feature will be removed in v6.0.0. See https://github.com/optuna/optuna/releases/tag/v3.0.0. Use suggest_float(..., log=True) instead.\n",
            "  'gamma': trial.suggest_loguniform('gamma', 1e-4, 1e4),\n"
          ]
        },
        {
          "output_type": "stream",
          "name": "stdout",
          "text": [
            "[I 2023-12-17 19:16:48,581] Trial 27 finished with value: 0.83203125 and parameters: {'C': 6.124245219355528, 'gamma': 17.011277459214487, 'kernel': 'linear'}. Best is trial 19 with value: 0.83203125.\n"
          ]
        },
        {
          "output_type": "stream",
          "name": "stderr",
          "text": [
            "<ipython-input-48-b65d2512e882>:4: FutureWarning: suggest_loguniform has been deprecated in v3.0.0. This feature will be removed in v6.0.0. See https://github.com/optuna/optuna/releases/tag/v3.0.0. Use suggest_float(..., log=True) instead.\n",
            "  'C': trial.suggest_loguniform('C', 1e-4, 1e4),\n",
            "<ipython-input-48-b65d2512e882>:5: FutureWarning: suggest_loguniform has been deprecated in v3.0.0. This feature will be removed in v6.0.0. See https://github.com/optuna/optuna/releases/tag/v3.0.0. Use suggest_float(..., log=True) instead.\n",
            "  'gamma': trial.suggest_loguniform('gamma', 1e-4, 1e4),\n"
          ]
        },
        {
          "output_type": "stream",
          "name": "stdout",
          "text": [
            "[I 2023-12-17 19:16:48,958] Trial 28 finished with value: 0.83203125 and parameters: {'C': 5.694542290588618, 'gamma': 14.797278949682301, 'kernel': 'linear'}. Best is trial 19 with value: 0.83203125.\n"
          ]
        },
        {
          "output_type": "stream",
          "name": "stderr",
          "text": [
            "<ipython-input-48-b65d2512e882>:4: FutureWarning: suggest_loguniform has been deprecated in v3.0.0. This feature will be removed in v6.0.0. See https://github.com/optuna/optuna/releases/tag/v3.0.0. Use suggest_float(..., log=True) instead.\n",
            "  'C': trial.suggest_loguniform('C', 1e-4, 1e4),\n",
            "<ipython-input-48-b65d2512e882>:5: FutureWarning: suggest_loguniform has been deprecated in v3.0.0. This feature will be removed in v6.0.0. See https://github.com/optuna/optuna/releases/tag/v3.0.0. Use suggest_float(..., log=True) instead.\n",
            "  'gamma': trial.suggest_loguniform('gamma', 1e-4, 1e4),\n"
          ]
        },
        {
          "output_type": "stream",
          "name": "stdout",
          "text": [
            "[I 2023-12-17 19:16:49,495] Trial 29 finished with value: 0.2578125 and parameters: {'C': 1.400184022058099, 'gamma': 2238.421769276098, 'kernel': 'rbf'}. Best is trial 19 with value: 0.83203125.\n"
          ]
        },
        {
          "output_type": "stream",
          "name": "stderr",
          "text": [
            "<ipython-input-48-b65d2512e882>:4: FutureWarning: suggest_loguniform has been deprecated in v3.0.0. This feature will be removed in v6.0.0. See https://github.com/optuna/optuna/releases/tag/v3.0.0. Use suggest_float(..., log=True) instead.\n",
            "  'C': trial.suggest_loguniform('C', 1e-4, 1e4),\n",
            "<ipython-input-48-b65d2512e882>:5: FutureWarning: suggest_loguniform has been deprecated in v3.0.0. This feature will be removed in v6.0.0. See https://github.com/optuna/optuna/releases/tag/v3.0.0. Use suggest_float(..., log=True) instead.\n",
            "  'gamma': trial.suggest_loguniform('gamma', 1e-4, 1e4),\n"
          ]
        },
        {
          "output_type": "stream",
          "name": "stdout",
          "text": [
            "[I 2023-12-17 19:16:49,882] Trial 30 finished with value: 0.828125 and parameters: {'C': 27.795490319674926, 'gamma': 221.95742515963983, 'kernel': 'linear'}. Best is trial 19 with value: 0.83203125.\n"
          ]
        },
        {
          "output_type": "stream",
          "name": "stderr",
          "text": [
            "<ipython-input-48-b65d2512e882>:4: FutureWarning: suggest_loguniform has been deprecated in v3.0.0. This feature will be removed in v6.0.0. See https://github.com/optuna/optuna/releases/tag/v3.0.0. Use suggest_float(..., log=True) instead.\n",
            "  'C': trial.suggest_loguniform('C', 1e-4, 1e4),\n",
            "<ipython-input-48-b65d2512e882>:5: FutureWarning: suggest_loguniform has been deprecated in v3.0.0. This feature will be removed in v6.0.0. See https://github.com/optuna/optuna/releases/tag/v3.0.0. Use suggest_float(..., log=True) instead.\n",
            "  'gamma': trial.suggest_loguniform('gamma', 1e-4, 1e4),\n"
          ]
        },
        {
          "output_type": "stream",
          "name": "stdout",
          "text": [
            "[I 2023-12-17 19:16:50,267] Trial 31 finished with value: 0.83203125 and parameters: {'C': 5.33614864912539, 'gamma': 21.051877306582686, 'kernel': 'linear'}. Best is trial 19 with value: 0.83203125.\n"
          ]
        },
        {
          "output_type": "stream",
          "name": "stderr",
          "text": [
            "<ipython-input-48-b65d2512e882>:4: FutureWarning: suggest_loguniform has been deprecated in v3.0.0. This feature will be removed in v6.0.0. See https://github.com/optuna/optuna/releases/tag/v3.0.0. Use suggest_float(..., log=True) instead.\n",
            "  'C': trial.suggest_loguniform('C', 1e-4, 1e4),\n",
            "<ipython-input-48-b65d2512e882>:5: FutureWarning: suggest_loguniform has been deprecated in v3.0.0. This feature will be removed in v6.0.0. See https://github.com/optuna/optuna/releases/tag/v3.0.0. Use suggest_float(..., log=True) instead.\n",
            "  'gamma': trial.suggest_loguniform('gamma', 1e-4, 1e4),\n"
          ]
        },
        {
          "output_type": "stream",
          "name": "stdout",
          "text": [
            "[I 2023-12-17 19:16:50,525] Trial 32 finished with value: 0.796875 and parameters: {'C': 0.8572733759470422, 'gamma': 2.0723952518533215, 'kernel': 'linear'}. Best is trial 19 with value: 0.83203125.\n"
          ]
        },
        {
          "output_type": "stream",
          "name": "stderr",
          "text": [
            "<ipython-input-48-b65d2512e882>:4: FutureWarning: suggest_loguniform has been deprecated in v3.0.0. This feature will be removed in v6.0.0. See https://github.com/optuna/optuna/releases/tag/v3.0.0. Use suggest_float(..., log=True) instead.\n",
            "  'C': trial.suggest_loguniform('C', 1e-4, 1e4),\n",
            "<ipython-input-48-b65d2512e882>:5: FutureWarning: suggest_loguniform has been deprecated in v3.0.0. This feature will be removed in v6.0.0. See https://github.com/optuna/optuna/releases/tag/v3.0.0. Use suggest_float(..., log=True) instead.\n",
            "  'gamma': trial.suggest_loguniform('gamma', 1e-4, 1e4),\n"
          ]
        },
        {
          "output_type": "stream",
          "name": "stdout",
          "text": [
            "[I 2023-12-17 19:16:50,810] Trial 33 finished with value: 0.828125 and parameters: {'C': 161.19612660031626, 'gamma': 14.916099792774485, 'kernel': 'linear'}. Best is trial 19 with value: 0.83203125.\n"
          ]
        },
        {
          "output_type": "stream",
          "name": "stderr",
          "text": [
            "<ipython-input-48-b65d2512e882>:4: FutureWarning: suggest_loguniform has been deprecated in v3.0.0. This feature will be removed in v6.0.0. See https://github.com/optuna/optuna/releases/tag/v3.0.0. Use suggest_float(..., log=True) instead.\n",
            "  'C': trial.suggest_loguniform('C', 1e-4, 1e4),\n",
            "<ipython-input-48-b65d2512e882>:5: FutureWarning: suggest_loguniform has been deprecated in v3.0.0. This feature will be removed in v6.0.0. See https://github.com/optuna/optuna/releases/tag/v3.0.0. Use suggest_float(..., log=True) instead.\n",
            "  'gamma': trial.suggest_loguniform('gamma', 1e-4, 1e4),\n"
          ]
        },
        {
          "output_type": "stream",
          "name": "stdout",
          "text": [
            "[I 2023-12-17 19:16:51,086] Trial 34 finished with value: 0.828125 and parameters: {'C': 18.542587151323797, 'gamma': 7.9971325445492845, 'kernel': 'linear'}. Best is trial 19 with value: 0.83203125.\n"
          ]
        },
        {
          "output_type": "stream",
          "name": "stderr",
          "text": [
            "<ipython-input-48-b65d2512e882>:4: FutureWarning: suggest_loguniform has been deprecated in v3.0.0. This feature will be removed in v6.0.0. See https://github.com/optuna/optuna/releases/tag/v3.0.0. Use suggest_float(..., log=True) instead.\n",
            "  'C': trial.suggest_loguniform('C', 1e-4, 1e4),\n",
            "<ipython-input-48-b65d2512e882>:5: FutureWarning: suggest_loguniform has been deprecated in v3.0.0. This feature will be removed in v6.0.0. See https://github.com/optuna/optuna/releases/tag/v3.0.0. Use suggest_float(..., log=True) instead.\n",
            "  'gamma': trial.suggest_loguniform('gamma', 1e-4, 1e4),\n"
          ]
        },
        {
          "output_type": "stream",
          "name": "stdout",
          "text": [
            "[I 2023-12-17 19:16:51,501] Trial 35 finished with value: 0.2578125 and parameters: {'C': 6.31193767616531, 'gamma': 48.75979164849661, 'kernel': 'rbf'}. Best is trial 19 with value: 0.83203125.\n"
          ]
        },
        {
          "output_type": "stream",
          "name": "stderr",
          "text": [
            "<ipython-input-48-b65d2512e882>:4: FutureWarning: suggest_loguniform has been deprecated in v3.0.0. This feature will be removed in v6.0.0. See https://github.com/optuna/optuna/releases/tag/v3.0.0. Use suggest_float(..., log=True) instead.\n",
            "  'C': trial.suggest_loguniform('C', 1e-4, 1e4),\n",
            "<ipython-input-48-b65d2512e882>:5: FutureWarning: suggest_loguniform has been deprecated in v3.0.0. This feature will be removed in v6.0.0. See https://github.com/optuna/optuna/releases/tag/v3.0.0. Use suggest_float(..., log=True) instead.\n",
            "  'gamma': trial.suggest_loguniform('gamma', 1e-4, 1e4),\n"
          ]
        },
        {
          "output_type": "stream",
          "name": "stdout",
          "text": [
            "[I 2023-12-17 19:16:51,755] Trial 36 finished with value: 0.7421875 and parameters: {'C': 0.42340176030592036, 'gamma': 1119.7574802842394, 'kernel': 'linear'}. Best is trial 19 with value: 0.83203125.\n"
          ]
        },
        {
          "output_type": "stream",
          "name": "stderr",
          "text": [
            "<ipython-input-48-b65d2512e882>:4: FutureWarning: suggest_loguniform has been deprecated in v3.0.0. This feature will be removed in v6.0.0. See https://github.com/optuna/optuna/releases/tag/v3.0.0. Use suggest_float(..., log=True) instead.\n",
            "  'C': trial.suggest_loguniform('C', 1e-4, 1e4),\n",
            "<ipython-input-48-b65d2512e882>:5: FutureWarning: suggest_loguniform has been deprecated in v3.0.0. This feature will be removed in v6.0.0. See https://github.com/optuna/optuna/releases/tag/v3.0.0. Use suggest_float(..., log=True) instead.\n",
            "  'gamma': trial.suggest_loguniform('gamma', 1e-4, 1e4),\n"
          ]
        },
        {
          "output_type": "stream",
          "name": "stdout",
          "text": [
            "[I 2023-12-17 19:16:52,041] Trial 37 finished with value: 0.2734375 and parameters: {'C': 0.13222401815685425, 'gamma': 1.472726383319021, 'kernel': 'rbf'}. Best is trial 19 with value: 0.83203125.\n"
          ]
        },
        {
          "output_type": "stream",
          "name": "stderr",
          "text": [
            "<ipython-input-48-b65d2512e882>:4: FutureWarning: suggest_loguniform has been deprecated in v3.0.0. This feature will be removed in v6.0.0. See https://github.com/optuna/optuna/releases/tag/v3.0.0. Use suggest_float(..., log=True) instead.\n",
            "  'C': trial.suggest_loguniform('C', 1e-4, 1e4),\n",
            "<ipython-input-48-b65d2512e882>:5: FutureWarning: suggest_loguniform has been deprecated in v3.0.0. This feature will be removed in v6.0.0. See https://github.com/optuna/optuna/releases/tag/v3.0.0. Use suggest_float(..., log=True) instead.\n",
            "  'gamma': trial.suggest_loguniform('gamma', 1e-4, 1e4),\n"
          ]
        },
        {
          "output_type": "stream",
          "name": "stdout",
          "text": [
            "[I 2023-12-17 19:16:52,320] Trial 38 finished with value: 0.828125 and parameters: {'C': 58.56036147142568, 'gamma': 104.03013936954113, 'kernel': 'linear'}. Best is trial 19 with value: 0.83203125.\n"
          ]
        },
        {
          "output_type": "stream",
          "name": "stderr",
          "text": [
            "<ipython-input-48-b65d2512e882>:4: FutureWarning: suggest_loguniform has been deprecated in v3.0.0. This feature will be removed in v6.0.0. See https://github.com/optuna/optuna/releases/tag/v3.0.0. Use suggest_float(..., log=True) instead.\n",
            "  'C': trial.suggest_loguniform('C', 1e-4, 1e4),\n",
            "<ipython-input-48-b65d2512e882>:5: FutureWarning: suggest_loguniform has been deprecated in v3.0.0. This feature will be removed in v6.0.0. See https://github.com/optuna/optuna/releases/tag/v3.0.0. Use suggest_float(..., log=True) instead.\n",
            "  'gamma': trial.suggest_loguniform('gamma', 1e-4, 1e4),\n"
          ]
        },
        {
          "output_type": "stream",
          "name": "stdout",
          "text": [
            "[I 2023-12-17 19:16:52,583] Trial 39 finished with value: 0.796875 and parameters: {'C': 0.9382145153688068, 'gamma': 0.00012726213888249868, 'kernel': 'linear'}. Best is trial 19 with value: 0.83203125.\n"
          ]
        },
        {
          "output_type": "stream",
          "name": "stderr",
          "text": [
            "<ipython-input-48-b65d2512e882>:4: FutureWarning: suggest_loguniform has been deprecated in v3.0.0. This feature will be removed in v6.0.0. See https://github.com/optuna/optuna/releases/tag/v3.0.0. Use suggest_float(..., log=True) instead.\n",
            "  'C': trial.suggest_loguniform('C', 1e-4, 1e4),\n",
            "<ipython-input-48-b65d2512e882>:5: FutureWarning: suggest_loguniform has been deprecated in v3.0.0. This feature will be removed in v6.0.0. See https://github.com/optuna/optuna/releases/tag/v3.0.0. Use suggest_float(..., log=True) instead.\n",
            "  'gamma': trial.suggest_loguniform('gamma', 1e-4, 1e4),\n"
          ]
        },
        {
          "output_type": "stream",
          "name": "stdout",
          "text": [
            "[I 2023-12-17 19:16:52,884] Trial 40 finished with value: 0.80078125 and parameters: {'C': 5.155845756375528, 'gamma': 0.34819910198749243, 'kernel': 'rbf'}. Best is trial 19 with value: 0.83203125.\n"
          ]
        },
        {
          "output_type": "stream",
          "name": "stderr",
          "text": [
            "<ipython-input-48-b65d2512e882>:4: FutureWarning: suggest_loguniform has been deprecated in v3.0.0. This feature will be removed in v6.0.0. See https://github.com/optuna/optuna/releases/tag/v3.0.0. Use suggest_float(..., log=True) instead.\n",
            "  'C': trial.suggest_loguniform('C', 1e-4, 1e4),\n",
            "<ipython-input-48-b65d2512e882>:5: FutureWarning: suggest_loguniform has been deprecated in v3.0.0. This feature will be removed in v6.0.0. See https://github.com/optuna/optuna/releases/tag/v3.0.0. Use suggest_float(..., log=True) instead.\n",
            "  'gamma': trial.suggest_loguniform('gamma', 1e-4, 1e4),\n"
          ]
        },
        {
          "output_type": "stream",
          "name": "stdout",
          "text": [
            "[I 2023-12-17 19:16:53,154] Trial 41 finished with value: 0.83203125 and parameters: {'C': 6.947313965369547, 'gamma': 19.044912254872003, 'kernel': 'linear'}. Best is trial 19 with value: 0.83203125.\n"
          ]
        },
        {
          "output_type": "stream",
          "name": "stderr",
          "text": [
            "<ipython-input-48-b65d2512e882>:4: FutureWarning: suggest_loguniform has been deprecated in v3.0.0. This feature will be removed in v6.0.0. See https://github.com/optuna/optuna/releases/tag/v3.0.0. Use suggest_float(..., log=True) instead.\n",
            "  'C': trial.suggest_loguniform('C', 1e-4, 1e4),\n",
            "<ipython-input-48-b65d2512e882>:5: FutureWarning: suggest_loguniform has been deprecated in v3.0.0. This feature will be removed in v6.0.0. See https://github.com/optuna/optuna/releases/tag/v3.0.0. Use suggest_float(..., log=True) instead.\n",
            "  'gamma': trial.suggest_loguniform('gamma', 1e-4, 1e4),\n"
          ]
        },
        {
          "output_type": "stream",
          "name": "stdout",
          "text": [
            "[I 2023-12-17 19:16:53,427] Trial 42 finished with value: 0.82421875 and parameters: {'C': 3.225165461999786, 'gamma': 8.05950212504647, 'kernel': 'linear'}. Best is trial 19 with value: 0.83203125.\n"
          ]
        },
        {
          "output_type": "stream",
          "name": "stderr",
          "text": [
            "<ipython-input-48-b65d2512e882>:4: FutureWarning: suggest_loguniform has been deprecated in v3.0.0. This feature will be removed in v6.0.0. See https://github.com/optuna/optuna/releases/tag/v3.0.0. Use suggest_float(..., log=True) instead.\n",
            "  'C': trial.suggest_loguniform('C', 1e-4, 1e4),\n",
            "<ipython-input-48-b65d2512e882>:5: FutureWarning: suggest_loguniform has been deprecated in v3.0.0. This feature will be removed in v6.0.0. See https://github.com/optuna/optuna/releases/tag/v3.0.0. Use suggest_float(..., log=True) instead.\n",
            "  'gamma': trial.suggest_loguniform('gamma', 1e-4, 1e4),\n"
          ]
        },
        {
          "output_type": "stream",
          "name": "stdout",
          "text": [
            "[I 2023-12-17 19:16:53,721] Trial 43 finished with value: 0.828125 and parameters: {'C': 33.89112599037282, 'gamma': 0.1173549214221024, 'kernel': 'linear'}. Best is trial 19 with value: 0.83203125.\n"
          ]
        },
        {
          "output_type": "stream",
          "name": "stderr",
          "text": [
            "<ipython-input-48-b65d2512e882>:4: FutureWarning: suggest_loguniform has been deprecated in v3.0.0. This feature will be removed in v6.0.0. See https://github.com/optuna/optuna/releases/tag/v3.0.0. Use suggest_float(..., log=True) instead.\n",
            "  'C': trial.suggest_loguniform('C', 1e-4, 1e4),\n",
            "<ipython-input-48-b65d2512e882>:5: FutureWarning: suggest_loguniform has been deprecated in v3.0.0. This feature will be removed in v6.0.0. See https://github.com/optuna/optuna/releases/tag/v3.0.0. Use suggest_float(..., log=True) instead.\n",
            "  'gamma': trial.suggest_loguniform('gamma', 1e-4, 1e4),\n"
          ]
        },
        {
          "output_type": "stream",
          "name": "stdout",
          "text": [
            "[I 2023-12-17 19:16:53,995] Trial 44 finished with value: 0.765625 and parameters: {'C': 0.5076647413894055, 'gamma': 434.7972231641108, 'kernel': 'linear'}. Best is trial 19 with value: 0.83203125.\n"
          ]
        },
        {
          "output_type": "stream",
          "name": "stderr",
          "text": [
            "<ipython-input-48-b65d2512e882>:4: FutureWarning: suggest_loguniform has been deprecated in v3.0.0. This feature will be removed in v6.0.0. See https://github.com/optuna/optuna/releases/tag/v3.0.0. Use suggest_float(..., log=True) instead.\n",
            "  'C': trial.suggest_loguniform('C', 1e-4, 1e4),\n",
            "<ipython-input-48-b65d2512e882>:5: FutureWarning: suggest_loguniform has been deprecated in v3.0.0. This feature will be removed in v6.0.0. See https://github.com/optuna/optuna/releases/tag/v3.0.0. Use suggest_float(..., log=True) instead.\n",
            "  'gamma': trial.suggest_loguniform('gamma', 1e-4, 1e4),\n"
          ]
        },
        {
          "output_type": "stream",
          "name": "stdout",
          "text": [
            "[I 2023-12-17 19:16:54,290] Trial 45 finished with value: 0.828125 and parameters: {'C': 9.70065874331261, 'gamma': 26.986514621146178, 'kernel': 'linear'}. Best is trial 19 with value: 0.83203125.\n"
          ]
        },
        {
          "output_type": "stream",
          "name": "stderr",
          "text": [
            "<ipython-input-48-b65d2512e882>:4: FutureWarning: suggest_loguniform has been deprecated in v3.0.0. This feature will be removed in v6.0.0. See https://github.com/optuna/optuna/releases/tag/v3.0.0. Use suggest_float(..., log=True) instead.\n",
            "  'C': trial.suggest_loguniform('C', 1e-4, 1e4),\n",
            "<ipython-input-48-b65d2512e882>:5: FutureWarning: suggest_loguniform has been deprecated in v3.0.0. This feature will be removed in v6.0.0. See https://github.com/optuna/optuna/releases/tag/v3.0.0. Use suggest_float(..., log=True) instead.\n",
            "  'gamma': trial.suggest_loguniform('gamma', 1e-4, 1e4),\n"
          ]
        },
        {
          "output_type": "stream",
          "name": "stdout",
          "text": [
            "[I 2023-12-17 19:16:54,528] Trial 46 finished with value: 0.5859375 and parameters: {'C': 0.1386296302534107, 'gamma': 0.9019491162152944, 'kernel': 'linear'}. Best is trial 19 with value: 0.83203125.\n"
          ]
        },
        {
          "output_type": "stream",
          "name": "stderr",
          "text": [
            "<ipython-input-48-b65d2512e882>:4: FutureWarning: suggest_loguniform has been deprecated in v3.0.0. This feature will be removed in v6.0.0. See https://github.com/optuna/optuna/releases/tag/v3.0.0. Use suggest_float(..., log=True) instead.\n",
            "  'C': trial.suggest_loguniform('C', 1e-4, 1e4),\n",
            "<ipython-input-48-b65d2512e882>:5: FutureWarning: suggest_loguniform has been deprecated in v3.0.0. This feature will be removed in v6.0.0. See https://github.com/optuna/optuna/releases/tag/v3.0.0. Use suggest_float(..., log=True) instead.\n",
            "  'gamma': trial.suggest_loguniform('gamma', 1e-4, 1e4),\n"
          ]
        },
        {
          "output_type": "stream",
          "name": "stdout",
          "text": [
            "[I 2023-12-17 19:16:54,811] Trial 47 finished with value: 0.828125 and parameters: {'C': 99.9757379750985, 'gamma': 3958.538923921463, 'kernel': 'linear'}. Best is trial 19 with value: 0.83203125.\n"
          ]
        },
        {
          "output_type": "stream",
          "name": "stderr",
          "text": [
            "<ipython-input-48-b65d2512e882>:4: FutureWarning: suggest_loguniform has been deprecated in v3.0.0. This feature will be removed in v6.0.0. See https://github.com/optuna/optuna/releases/tag/v3.0.0. Use suggest_float(..., log=True) instead.\n",
            "  'C': trial.suggest_loguniform('C', 1e-4, 1e4),\n",
            "<ipython-input-48-b65d2512e882>:5: FutureWarning: suggest_loguniform has been deprecated in v3.0.0. This feature will be removed in v6.0.0. See https://github.com/optuna/optuna/releases/tag/v3.0.0. Use suggest_float(..., log=True) instead.\n",
            "  'gamma': trial.suggest_loguniform('gamma', 1e-4, 1e4),\n"
          ]
        },
        {
          "output_type": "stream",
          "name": "stdout",
          "text": [
            "[I 2023-12-17 19:16:55,089] Trial 48 finished with value: 0.8125 and parameters: {'C': 1.4977568148692992, 'gamma': 64.41391398839285, 'kernel': 'linear'}. Best is trial 19 with value: 0.83203125.\n"
          ]
        },
        {
          "output_type": "stream",
          "name": "stderr",
          "text": [
            "<ipython-input-48-b65d2512e882>:4: FutureWarning: suggest_loguniform has been deprecated in v3.0.0. This feature will be removed in v6.0.0. See https://github.com/optuna/optuna/releases/tag/v3.0.0. Use suggest_float(..., log=True) instead.\n",
            "  'C': trial.suggest_loguniform('C', 1e-4, 1e4),\n",
            "<ipython-input-48-b65d2512e882>:5: FutureWarning: suggest_loguniform has been deprecated in v3.0.0. This feature will be removed in v6.0.0. See https://github.com/optuna/optuna/releases/tag/v3.0.0. Use suggest_float(..., log=True) instead.\n",
            "  'gamma': trial.suggest_loguniform('gamma', 1e-4, 1e4),\n"
          ]
        },
        {
          "output_type": "stream",
          "name": "stdout",
          "text": [
            "[I 2023-12-17 19:16:55,367] Trial 49 finished with value: 0.828125 and parameters: {'C': 22.433557687948234, 'gamma': 214.5755247941962, 'kernel': 'linear'}. Best is trial 19 with value: 0.83203125.\n"
          ]
        }
      ]
    },
    {
      "cell_type": "code",
      "source": [
        "print(f\"Лучшее значение: {study.best_trial.value}\")\n",
        "print(f\"Лучшие параметры: {study.best_params}\")"
      ],
      "metadata": {
        "colab": {
          "base_uri": "https://localhost:8080/"
        },
        "id": "sTVkP51qziL_",
        "outputId": "e9480da0-3591-49df-c9b8-f71ecf28bc08"
      },
      "execution_count": null,
      "outputs": [
        {
          "output_type": "stream",
          "name": "stdout",
          "text": [
            "Лучшее значение: 0.83203125\n",
            "Лучшие параметры: {'C': 4.378712388921824, 'gamma': 3.239606544876332, 'kernel': 'linear'}\n"
          ]
        }
      ]
    },
    {
      "cell_type": "markdown",
      "source": [
        "***Сравнение моделей***"
      ],
      "metadata": {
        "id": "P79JMUqNOYY3"
      }
    },
    {
      "cell_type": "code",
      "source": [
        "# Ваши вручную введенные данные\n",
        "model_scores = {\n",
        "    'SVM': 0.832,\n",
        "    'Logistic Regression': 0.774,\n",
        "    'Multinominal Naive Bayes': 0.698,\n",
        "    'KNN': 0.675,\n",
        "    'DummyClassifier': 0.286,\n",
        "    'Random Forest': 0.168\n",
        "}\n",
        "\n",
        "# Создание таблицы из словаря\n",
        "df = pd.DataFrame(list(model_scores.items()), columns=['Model', 'Score'])\n",
        "\n",
        "# Вывод таблицы\n",
        "print(df)\n",
        "\n",
        "# Построение гистограммы\n",
        "plt.figure(figsize=(8, 6))\n",
        "plt.bar(df['Model'], df['Score'], color='skyblue')\n",
        "plt.xlabel('Models')\n",
        "plt.ylabel('Scores')\n",
        "plt.title('Model Scores')\n",
        "plt.xticks(rotation=45)\n",
        "plt.tight_layout()\n",
        "plt.show()"
      ],
      "metadata": {
        "colab": {
          "base_uri": "https://localhost:8080/",
          "height": 729
        },
        "id": "M0x0AcCG6po0",
        "outputId": "859ab4e8-bf08-4f75-b483-ac4155e94a9c"
      },
      "execution_count": null,
      "outputs": [
        {
          "output_type": "stream",
          "name": "stdout",
          "text": [
            "                      Model  Score\n",
            "0                       SVM  0.832\n",
            "1       Logistic Regression  0.774\n",
            "2  Multinominal Naive Bayes  0.698\n",
            "3                       KNN  0.675\n",
            "4           DummyClassifier  0.286\n",
            "5             Random Forest  0.168\n"
          ]
        },
        {
          "output_type": "display_data",
          "data": {
            "text/plain": [
              "<Figure size 800x600 with 1 Axes>"
            ],
            "image/png": "[encoded data removed]"
          },
          "metadata": {}
        }
      ]
    },
    {
      "cell_type": "markdown",
      "source": [
        "**Вывод**"
      ],
      "metadata": {
        "id": "I4IZq3WuSC_Y"
      }
    },
    {
      "cell_type": "markdown",
      "source": [
        "В ходе данного исследования была проведена обработка текста, создание новых столбцов-признаков, построены различные модели многоклассовой классификации для отзывов клиентов с учетом балансировки классов. Лучшими оказались: SVM и Logistic Regression с score = 0.832 и 0.784 соответственно при показателе baseline от Dummy Classifier = 0.286. Модели показывают себя наилучшим образом при обработке текста с помощью TF-IDF и использованием GridSearch. Также, использование Optuna сильно ускоряет процесс обучения и получения результатов. Однако, наиболее подходящими к этой задаче можно считать модели BERT и использование CNN, добавлю решения с их использованием позже."
      ],
      "metadata": {
        "id": "3NkV5CCnSy0B"
      }
    }
  ]
}