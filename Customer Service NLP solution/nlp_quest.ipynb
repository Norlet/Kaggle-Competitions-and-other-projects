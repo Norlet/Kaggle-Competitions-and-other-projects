{
  "metadata": {
    "colab": {
      "provenance": []
    },
    "kernelspec": {
      "name": "python3",
      "display_name": "Python 3"
    },
    "language_info": {
      "name": "python",
      "version": "3.10.13",
      "mimetype": "text/x-python",
      "codemirror_mode": {
        "name": "ipython",
        "version": 3
      },
      "pygments_lexer": "ipython3",
      "nbconvert_exporter": "python",
      "file_extension": ".py"
    },
    "kaggle": {
      "accelerator": "gpu",
      "dataSources": [
        {
          "sourceId": 7936099,
          "sourceType": "datasetVersion",
          "datasetId": 4665233
        }
      ],
      "dockerImageVersionId": 30674,
      "isInternetEnabled": true,
      "language": "python",
      "sourceType": "notebook",
      "isGpuEnabled": true
    }
  },
  "nbformat_minor": 0,
  "nbformat": 4,
  "cells": [
    {
      "cell_type": "markdown",
      "source": [
        "# Постановка задачи и данные"
      ],
      "metadata": {
        "id": "ptdDLCMgyNqu"
      }
    },
    {
      "cell_type": "markdown",
      "source": [
        "Для корректной маршрутизации на нужного специалиста колл-центра решено отказаться от кнопочного меню и внедрить NLP модель.\n",
        "\n",
        "Для этого была проведена разметка данных.\n",
        "\n",
        "Атрибуты:\n",
        "\n",
        "Text – запрос клиента\n",
        "Label - метка\n",
        "\n",
        "\n",
        "Задачи:\n",
        "\n",
        "Требуется построить модель классификации клиентских запросов\n",
        "Требуется предложить подход для решения этой задачи классификации или части задачи с использованием генеративных моделей (будет плюсом, если будет реализовано)."
      ],
      "metadata": {
        "id": "9DRbrWKDx_pv"
      }
    },
    {
      "cell_type": "markdown",
      "source": [
        "# Импорт библиотек и функций"
      ],
      "metadata": {
        "id": "j1N61nARySTu"
      }
    },
    {
      "cell_type": "code",
      "source": [
        "import numpy as np\n",
        "import pandas as pd\n",
        "from matplotlib import pyplot as plt\n",
        "%pip install seaborn\n",
        "import nltk\n",
        "import re\n",
        "from tqdm import tqdm\n",
        "from sklearn.metrics import make_scorer\n",
        "from sklearn.metrics import f1_score\n",
        "from sklearn.model_selection import train_test_split, cross_val_score, GridSearchCV\n",
        "from sklearn.linear_model import LogisticRegression\n",
        "from sklearn.ensemble import RandomForestClassifier\n",
        "from sklearn.svm import SVC\n",
        "from sklearn.feature_extraction.text import TfidfVectorizer\n",
        "from sklearn.feature_extraction.text import CountVectorizer\n",
        "from sklearn.utils import shuffle\n",
        "from sklearn.pipeline import Pipeline\n",
        "from nltk.corpus import words\n",
        "!pip install pymystem3\n",
        "from pymystem3 import Mystem\n",
        "from nltk.corpus import stopwords\n",
        "from nltk.stem import WordNetLemmatizer\n",
        "nltk.download('stopwords')\n",
        "nltk.download('words')\n",
        "from sklearn.metrics import confusion_matrix\n",
        "!pip install torch\n",
        "import torch\n",
        "from torch.utils.data import TensorDataset, DataLoader\n",
        "from torch.utils.data.sampler import RandomSampler, SequentialSampler\n",
        "from keras.preprocessing.sequence import pad_sequences\n",
        "!pip install sentencepiece sacremoses\n",
        "from sklearn.neighbors import KNeighborsClassifier\n",
        "import seaborn as sns\n",
        "from sklearn.dummy import DummyClassifier\n",
        "from sklearn.naive_bayes import MultinomialNB\n",
        "!pip install scikit-learn-intelex --progress-bar off >> /tmp/pip_sklearnex.log\n",
        "from sklearnex import patch_sklearn\n",
        "from sklearn.svm import SVC\n",
        "!pip install optuna\n",
        "import optuna\n",
        "import string\n",
        "from sklearn.metrics import classification_report\n",
        "import torch\n",
        "from transformers import BertTokenizer, BertForSequenceClassification\n",
        "from torch.utils.data import DataLoader, TensorDataset\n",
        "from sklearn.preprocessing import LabelEncoder"
      ],
      "metadata": {
        "id": "ZUGKcCe2W3AP",
        "outputId": "a0799ef5-cabd-441a-d224-eda9c5918f2c",
        "execution": {
          "iopub.status.busy": "2024-04-02T09:49:43.177022Z",
          "iopub.execute_input": "2024-04-02T09:49:43.177799Z",
          "iopub.status.idle": "2024-04-02T09:51:49.491116Z",
          "shell.execute_reply.started": "2024-04-02T09:49:43.177767Z",
          "shell.execute_reply": "2024-04-02T09:51:49.490282Z"
        },
        "trusted": true,
        "colab": {
          "base_uri": "https://localhost:8080/"
        }
      },
      "execution_count": 10,
      "outputs": [
        {
          "output_type": "stream",
          "name": "stdout",
          "text": [
            "Requirement already satisfied: seaborn in /usr/local/lib/python3.10/dist-packages (0.13.1)\n",
            "Requirement already satisfied: numpy!=1.24.0,>=1.20 in /usr/local/lib/python3.10/dist-packages (from seaborn) (1.25.2)\n",
            "Requirement already satisfied: pandas>=1.2 in /usr/local/lib/python3.10/dist-packages (from seaborn) (1.5.3)\n",
            "Requirement already satisfied: matplotlib!=3.6.1,>=3.4 in /usr/local/lib/python3.10/dist-packages (from seaborn) (3.7.1)\n",
            "Requirement already satisfied: contourpy>=1.0.1 in /usr/local/lib/python3.10/dist-packages (from matplotlib!=3.6.1,>=3.4->seaborn) (1.2.0)\n",
            "Requirement already satisfied: cycler>=0.10 in /usr/local/lib/python3.10/dist-packages (from matplotlib!=3.6.1,>=3.4->seaborn) (0.12.1)\n",
            "Requirement already satisfied: fonttools>=4.22.0 in /usr/local/lib/python3.10/dist-packages (from matplotlib!=3.6.1,>=3.4->seaborn) (4.50.0)\n",
            "Requirement already satisfied: kiwisolver>=1.0.1 in /usr/local/lib/python3.10/dist-packages (from matplotlib!=3.6.1,>=3.4->seaborn) (1.4.5)\n",
            "Requirement already satisfied: packaging>=20.0 in /usr/local/lib/python3.10/dist-packages (from matplotlib!=3.6.1,>=3.4->seaborn) (24.0)\n",
            "Requirement already satisfied: pillow>=6.2.0 in /usr/local/lib/python3.10/dist-packages (from matplotlib!=3.6.1,>=3.4->seaborn) (9.4.0)\n",
            "Requirement already satisfied: pyparsing>=2.3.1 in /usr/local/lib/python3.10/dist-packages (from matplotlib!=3.6.1,>=3.4->seaborn) (3.1.2)\n",
            "Requirement already satisfied: python-dateutil>=2.7 in /usr/local/lib/python3.10/dist-packages (from matplotlib!=3.6.1,>=3.4->seaborn) (2.8.2)\n",
            "Requirement already satisfied: pytz>=2020.1 in /usr/local/lib/python3.10/dist-packages (from pandas>=1.2->seaborn) (2023.4)\n",
            "Requirement already satisfied: six>=1.5 in /usr/local/lib/python3.10/dist-packages (from python-dateutil>=2.7->matplotlib!=3.6.1,>=3.4->seaborn) (1.16.0)\n",
            "Requirement already satisfied: pymystem3 in /usr/local/lib/python3.10/dist-packages (0.2.0)\n",
            "Requirement already satisfied: requests in /usr/local/lib/python3.10/dist-packages (from pymystem3) (2.31.0)\n",
            "Requirement already satisfied: charset-normalizer<4,>=2 in /usr/local/lib/python3.10/dist-packages (from requests->pymystem3) (3.3.2)\n",
            "Requirement already satisfied: idna<4,>=2.5 in /usr/local/lib/python3.10/dist-packages (from requests->pymystem3) (3.6)\n",
            "Requirement already satisfied: urllib3<3,>=1.21.1 in /usr/local/lib/python3.10/dist-packages (from requests->pymystem3) (2.0.7)\n",
            "Requirement already satisfied: certifi>=2017.4.17 in /usr/local/lib/python3.10/dist-packages (from requests->pymystem3) (2024.2.2)\n"
          ]
        },
        {
          "output_type": "stream",
          "name": "stderr",
          "text": [
            "[nltk_data] Downloading package stopwords to /root/nltk_data...\n",
            "[nltk_data]   Unzipping corpora/stopwords.zip.\n",
            "[nltk_data] Downloading package words to /root/nltk_data...\n",
            "[nltk_data]   Unzipping corpora/words.zip.\n"
          ]
        },
        {
          "output_type": "stream",
          "name": "stdout",
          "text": [
            "Requirement already satisfied: torch in /usr/local/lib/python3.10/dist-packages (2.2.1+cu121)\n",
            "Requirement already satisfied: filelock in /usr/local/lib/python3.10/dist-packages (from torch) (3.13.3)\n",
            "Requirement already satisfied: typing-extensions>=4.8.0 in /usr/local/lib/python3.10/dist-packages (from torch) (4.10.0)\n",
            "Requirement already satisfied: sympy in /usr/local/lib/python3.10/dist-packages (from torch) (1.12)\n",
            "Requirement already satisfied: networkx in /usr/local/lib/python3.10/dist-packages (from torch) (3.2.1)\n",
            "Requirement already satisfied: jinja2 in /usr/local/lib/python3.10/dist-packages (from torch) (3.1.3)\n",
            "Requirement already satisfied: fsspec in /usr/local/lib/python3.10/dist-packages (from torch) (2023.6.0)\n",
            "Collecting nvidia-cuda-nvrtc-cu12==12.1.105 (from torch)\n",
            "  Downloading nvidia_cuda_nvrtc_cu12-12.1.105-py3-none-manylinux1_x86_64.whl (23.7 MB)\n",
            "\u001b[2K     \u001b[90m━━━━━━━━━━━━━━━━━━━━━━━━━━━━━━━━━━━━━━━━\u001b[0m \u001b[32m23.7/23.7 MB\u001b[0m \u001b[31m33.3 MB/s\u001b[0m eta \u001b[36m0:00:00\u001b[0m\n",
            "\u001b[?25hCollecting nvidia-cuda-runtime-cu12==12.1.105 (from torch)\n",
            "  Downloading nvidia_cuda_runtime_cu12-12.1.105-py3-none-manylinux1_x86_64.whl (823 kB)\n",
            "\u001b[2K     \u001b[90m━━━━━━━━━━━━━━━━━━━━━━━━━━━━━━━━━━━━━━━━\u001b[0m \u001b[32m823.6/823.6 kB\u001b[0m \u001b[31m49.3 MB/s\u001b[0m eta \u001b[36m0:00:00\u001b[0m\n",
            "\u001b[?25hCollecting nvidia-cuda-cupti-cu12==12.1.105 (from torch)\n",
            "  Downloading nvidia_cuda_cupti_cu12-12.1.105-py3-none-manylinux1_x86_64.whl (14.1 MB)\n",
            "\u001b[2K     \u001b[90m━━━━━━━━━━━━━━━━━━━━━━━━━━━━━━━━━━━━━━━━\u001b[0m \u001b[32m14.1/14.1 MB\u001b[0m \u001b[31m50.5 MB/s\u001b[0m eta \u001b[36m0:00:00\u001b[0m\n",
            "\u001b[?25hCollecting nvidia-cudnn-cu12==8.9.2.26 (from torch)\n",
            "  Downloading nvidia_cudnn_cu12-8.9.2.26-py3-none-manylinux1_x86_64.whl (731.7 MB)\n",
            "\u001b[2K     \u001b[90m━━━━━━━━━━━━━━━━━━━━━━━━━━━━━━━━━━━━━━━━\u001b[0m \u001b[32m731.7/731.7 MB\u001b[0m \u001b[31m741.0 kB/s\u001b[0m eta \u001b[36m0:00:00\u001b[0m\n",
            "\u001b[?25hCollecting nvidia-cublas-cu12==12.1.3.1 (from torch)\n",
            "  Downloading nvidia_cublas_cu12-12.1.3.1-py3-none-manylinux1_x86_64.whl (410.6 MB)\n",
            "\u001b[2K     \u001b[90m━━━━━━━━━━━━━━━━━━━━━━━━━━━━━━━━━━━━━━━━\u001b[0m \u001b[32m410.6/410.6 MB\u001b[0m \u001b[31m3.7 MB/s\u001b[0m eta \u001b[36m0:00:00\u001b[0m\n",
            "\u001b[?25hCollecting nvidia-cufft-cu12==11.0.2.54 (from torch)\n",
            "  Downloading nvidia_cufft_cu12-11.0.2.54-py3-none-manylinux1_x86_64.whl (121.6 MB)\n",
            "\u001b[2K     \u001b[90m━━━━━━━━━━━━━━━━━━━━━━━━━━━━━━━━━━━━━━━━\u001b[0m \u001b[32m121.6/121.6 MB\u001b[0m \u001b[31m9.4 MB/s\u001b[0m eta \u001b[36m0:00:00\u001b[0m\n",
            "\u001b[?25hCollecting nvidia-curand-cu12==10.3.2.106 (from torch)\n",
            "  Downloading nvidia_curand_cu12-10.3.2.106-py3-none-manylinux1_x86_64.whl (56.5 MB)\n",
            "\u001b[2K     \u001b[90m━━━━━━━━━━━━━━━━━━━━━━━━━━━━━━━━━━━━━━━━\u001b[0m \u001b[32m56.5/56.5 MB\u001b[0m \u001b[31m8.3 MB/s\u001b[0m eta \u001b[36m0:00:00\u001b[0m\n",
            "\u001b[?25hCollecting nvidia-cusolver-cu12==11.4.5.107 (from torch)\n",
            "  Downloading nvidia_cusolver_cu12-11.4.5.107-py3-none-manylinux1_x86_64.whl (124.2 MB)\n",
            "\u001b[2K     \u001b[90m━━━━━━━━━━━━━━━━━━━━━━━━━━━━━━━━━━━━━━━━\u001b[0m \u001b[32m124.2/124.2 MB\u001b[0m \u001b[31m4.9 MB/s\u001b[0m eta \u001b[36m0:00:00\u001b[0m\n",
            "\u001b[?25hCollecting nvidia-cusparse-cu12==12.1.0.106 (from torch)\n",
            "  Downloading nvidia_cusparse_cu12-12.1.0.106-py3-none-manylinux1_x86_64.whl (196.0 MB)\n",
            "\u001b[2K     \u001b[90m━━━━━━━━━━━━━━━━━━━━━━━━━━━━━━━━━━━━━━━━\u001b[0m \u001b[32m196.0/196.0 MB\u001b[0m \u001b[31m4.1 MB/s\u001b[0m eta \u001b[36m0:00:00\u001b[0m\n",
            "\u001b[?25hCollecting nvidia-nccl-cu12==2.19.3 (from torch)\n",
            "  Downloading nvidia_nccl_cu12-2.19.3-py3-none-manylinux1_x86_64.whl (166.0 MB)\n",
            "\u001b[2K     \u001b[90m━━━━━━━━━━━━━━━━━━━━━━━━━━━━━━━━━━━━━━━━\u001b[0m \u001b[32m166.0/166.0 MB\u001b[0m \u001b[31m6.5 MB/s\u001b[0m eta \u001b[36m0:00:00\u001b[0m\n",
            "\u001b[?25hCollecting nvidia-nvtx-cu12==12.1.105 (from torch)\n",
            "  Downloading nvidia_nvtx_cu12-12.1.105-py3-none-manylinux1_x86_64.whl (99 kB)\n",
            "\u001b[2K     \u001b[90m━━━━━━━━━━━━━━━━━━━━━━━━━━━━━━━━━━━━━━━━\u001b[0m \u001b[32m99.1/99.1 kB\u001b[0m \u001b[31m8.8 MB/s\u001b[0m eta \u001b[36m0:00:00\u001b[0m\n",
            "\u001b[?25hRequirement already satisfied: triton==2.2.0 in /usr/local/lib/python3.10/dist-packages (from torch) (2.2.0)\n",
            "Collecting nvidia-nvjitlink-cu12 (from nvidia-cusolver-cu12==11.4.5.107->torch)\n",
            "  Downloading nvidia_nvjitlink_cu12-12.4.99-py3-none-manylinux2014_x86_64.whl (21.1 MB)\n",
            "\u001b[2K     \u001b[90m━━━━━━━━━━━━━━━━━━━━━━━━━━━━━━━━━━━━━━━━\u001b[0m \u001b[32m21.1/21.1 MB\u001b[0m \u001b[31m64.7 MB/s\u001b[0m eta \u001b[36m0:00:00\u001b[0m\n",
            "\u001b[?25hRequirement already satisfied: MarkupSafe>=2.0 in /usr/local/lib/python3.10/dist-packages (from jinja2->torch) (2.1.5)\n",
            "Requirement already satisfied: mpmath>=0.19 in /usr/local/lib/python3.10/dist-packages (from sympy->torch) (1.3.0)\n",
            "Installing collected packages: nvidia-nvtx-cu12, nvidia-nvjitlink-cu12, nvidia-nccl-cu12, nvidia-curand-cu12, nvidia-cufft-cu12, nvidia-cuda-runtime-cu12, nvidia-cuda-nvrtc-cu12, nvidia-cuda-cupti-cu12, nvidia-cublas-cu12, nvidia-cusparse-cu12, nvidia-cudnn-cu12, nvidia-cusolver-cu12\n",
            "Successfully installed nvidia-cublas-cu12-12.1.3.1 nvidia-cuda-cupti-cu12-12.1.105 nvidia-cuda-nvrtc-cu12-12.1.105 nvidia-cuda-runtime-cu12-12.1.105 nvidia-cudnn-cu12-8.9.2.26 nvidia-cufft-cu12-11.0.2.54 nvidia-curand-cu12-10.3.2.106 nvidia-cusolver-cu12-11.4.5.107 nvidia-cusparse-cu12-12.1.0.106 nvidia-nccl-cu12-2.19.3 nvidia-nvjitlink-cu12-12.4.99 nvidia-nvtx-cu12-12.1.105\n",
            "Requirement already satisfied: sentencepiece in /usr/local/lib/python3.10/dist-packages (0.1.99)\n",
            "Collecting sacremoses\n",
            "  Downloading sacremoses-0.1.1-py3-none-any.whl (897 kB)\n",
            "\u001b[2K     \u001b[90m━━━━━━━━━━━━━━━━━━━━━━━━━━━━━━━━━━━━━━━━\u001b[0m \u001b[32m897.5/897.5 kB\u001b[0m \u001b[31m8.1 MB/s\u001b[0m eta \u001b[36m0:00:00\u001b[0m\n",
            "\u001b[?25hRequirement already satisfied: regex in /usr/local/lib/python3.10/dist-packages (from sacremoses) (2023.12.25)\n",
            "Requirement already satisfied: click in /usr/local/lib/python3.10/dist-packages (from sacremoses) (8.1.7)\n",
            "Requirement already satisfied: joblib in /usr/local/lib/python3.10/dist-packages (from sacremoses) (1.3.2)\n",
            "Requirement already satisfied: tqdm in /usr/local/lib/python3.10/dist-packages (from sacremoses) (4.66.2)\n",
            "Installing collected packages: sacremoses\n",
            "Successfully installed sacremoses-0.1.1\n",
            "Collecting optuna\n",
            "  Downloading optuna-3.6.1-py3-none-any.whl (380 kB)\n",
            "\u001b[2K     \u001b[90m━━━━━━━━━━━━━━━━━━━━━━━━━━━━━━━━━━━━━━━━\u001b[0m \u001b[32m380.1/380.1 kB\u001b[0m \u001b[31m6.5 MB/s\u001b[0m eta \u001b[36m0:00:00\u001b[0m\n",
            "\u001b[?25hCollecting alembic>=1.5.0 (from optuna)\n",
            "  Downloading alembic-1.13.1-py3-none-any.whl (233 kB)\n",
            "\u001b[2K     \u001b[90m━━━━━━━━━━━━━━━━━━━━━━━━━━━━━━━━━━━━━━━━\u001b[0m \u001b[32m233.4/233.4 kB\u001b[0m \u001b[31m23.6 MB/s\u001b[0m eta \u001b[36m0:00:00\u001b[0m\n",
            "\u001b[?25hCollecting colorlog (from optuna)\n",
            "  Downloading colorlog-6.8.2-py3-none-any.whl (11 kB)\n",
            "Requirement already satisfied: numpy in /usr/local/lib/python3.10/dist-packages (from optuna) (1.25.2)\n",
            "Requirement already satisfied: packaging>=20.0 in /usr/local/lib/python3.10/dist-packages (from optuna) (24.0)\n",
            "Requirement already satisfied: sqlalchemy>=1.3.0 in /usr/local/lib/python3.10/dist-packages (from optuna) (2.0.29)\n",
            "Requirement already satisfied: tqdm in /usr/local/lib/python3.10/dist-packages (from optuna) (4.66.2)\n",
            "Requirement already satisfied: PyYAML in /usr/local/lib/python3.10/dist-packages (from optuna) (6.0.1)\n",
            "Collecting Mako (from alembic>=1.5.0->optuna)\n",
            "  Downloading Mako-1.3.2-py3-none-any.whl (78 kB)\n",
            "\u001b[2K     \u001b[90m━━━━━━━━━━━━━━━━━━━━━━━━━━━━━━━━━━━━━━━━\u001b[0m \u001b[32m78.7/78.7 kB\u001b[0m \u001b[31m9.4 MB/s\u001b[0m eta \u001b[36m0:00:00\u001b[0m\n",
            "\u001b[?25hRequirement already satisfied: typing-extensions>=4 in /usr/local/lib/python3.10/dist-packages (from alembic>=1.5.0->optuna) (4.10.0)\n",
            "Requirement already satisfied: greenlet!=0.4.17 in /usr/local/lib/python3.10/dist-packages (from sqlalchemy>=1.3.0->optuna) (3.0.3)\n",
            "Requirement already satisfied: MarkupSafe>=0.9.2 in /usr/local/lib/python3.10/dist-packages (from Mako->alembic>=1.5.0->optuna) (2.1.5)\n",
            "Installing collected packages: Mako, colorlog, alembic, optuna\n",
            "Successfully installed Mako-1.3.2 alembic-1.13.1 colorlog-6.8.2 optuna-3.6.1\n"
          ]
        }
      ]
    },
    {
      "cell_type": "code",
      "source": [
        "def explore_dataframe(df):\n",
        "    # Вывод основной информации о датафрейме\n",
        "    print(\"Информация о датафрейме:\")\n",
        "    print(df.info())\n",
        "\n",
        "    # Вывод строк датафрейма\n",
        "    print(\"\\nПервые строки датафрейма:\")\n",
        "    display(df)\n",
        "\n",
        "    # Вывод основных статистик по числовым данным\n",
        "    print(\"\\nОсновные статистики:\")\n",
        "    print(df.describe())\n",
        "\n",
        "    # Проверка наличия пропущенных значений\n",
        "    print(\"\\nПропущенные значения:\")\n",
        "    print(df.isnull().sum())\n",
        "\n",
        "    # Печать уникальных значений для каждой колонки\n",
        "    print(\"\\nУникальные значения в каждой колонке:\")\n",
        "    for column in df.columns:\n",
        "        print(f\"{column}: {df[column].unique()}\")\n",
        "   # Количество дубликатов\n",
        "    print(f\"Количество дубликатов: {df.duplicated().sum()}\")\n",
        "\n",
        "def cleaning(text):\n",
        "    # Удаляем переводы строк\n",
        "    text = re.sub(r\"(?:\\n|\\r)\", \" \", text)\n",
        "    # Удаляем спецсимволы и цифры, оставляем только русские и английские буквы\n",
        "    text = re.sub(r\"[^a-zA-Zа-яА-Я\\s]\", '', text)\n",
        "    # Приводим к нижнему регистру\n",
        "    text = text.lower()\n",
        "    return text\n",
        "\n",
        "# Лемматизация текста с помощью Mystem\n",
        "def lemmatize_text(text):\n",
        "    lemmas = mystem.lemmatize(text)\n",
        "    # Объединение лемм в строку и удаление лишних символов\n",
        "    processed_text = ''.join(lemmas).replace(' \\n', '').strip()\n",
        "    return processed_text\n",
        "\n",
        "# Определение функции для категоризации текстов по их длине\n",
        "def text_length_category(text):\n",
        "    if len(text) <= 50:\n",
        "        return 'до 50 символов'\n",
        "    elif 50 < len(text) <= 100:\n",
        "        return '51-100 символов'\n",
        "    elif 100 < len(text) <= 150:\n",
        "        return '101-150 символов'\n",
        "    else:\n",
        "        return 'больше 150 символов'\n",
        "\n",
        "def has_english_words(text):\n",
        "    words_in_text = text.split()\n",
        "    for word in words_in_text:\n",
        "        if word.lower() in english_words:\n",
        "            return True\n",
        "    return False"
      ],
      "metadata": {
        "id": "if2zZfbjY87N",
        "execution": {
          "iopub.status.busy": "2024-04-02T09:51:49.492732Z",
          "iopub.execute_input": "2024-04-02T09:51:49.493276Z",
          "iopub.status.idle": "2024-04-02T09:51:49.504916Z",
          "shell.execute_reply.started": "2024-04-02T09:51:49.493249Z",
          "shell.execute_reply": "2024-04-02T09:51:49.503863Z"
        },
        "trusted": true
      },
      "execution_count": 15,
      "outputs": []
    },
    {
      "cell_type": "markdown",
      "source": [
        "## Исследовательский анализ и предварительная обработка данных"
      ],
      "metadata": {
        "id": "v1eYBccxSaEt"
      }
    },
    {
      "cell_type": "code",
      "source": [
        "df = pd.read_csv('/content/data.csv')\n",
        "\n",
        "df_bert = pd.read_csv('/content/data.csv')"
      ],
      "metadata": {
        "id": "eFxcSN-IW-cV",
        "execution": {
          "iopub.status.busy": "2024-04-02T09:51:49.506099Z",
          "iopub.execute_input": "2024-04-02T09:51:49.506524Z",
          "iopub.status.idle": "2024-04-02T09:51:49.699517Z",
          "shell.execute_reply.started": "2024-04-02T09:51:49.506492Z",
          "shell.execute_reply": "2024-04-02T09:51:49.698547Z"
        },
        "trusted": true
      },
      "execution_count": 2,
      "outputs": []
    },
    {
      "cell_type": "code",
      "source": [
        "explore_dataframe(df)"
      ],
      "metadata": {
        "id": "eyxPuxpjYMvs",
        "outputId": "e0b7df83-155d-4dc1-b612-a3642a006dd2",
        "execution": {
          "iopub.status.busy": "2024-04-02T09:51:49.710997Z",
          "iopub.execute_input": "2024-04-02T09:51:49.711326Z",
          "iopub.status.idle": "2024-04-02T09:51:49.807089Z",
          "shell.execute_reply.started": "2024-04-02T09:51:49.711296Z",
          "shell.execute_reply": "2024-04-02T09:51:49.806240Z"
        },
        "trusted": true,
        "colab": {
          "base_uri": "https://localhost:8080/",
          "height": 1000
        }
      },
      "execution_count": 5,
      "outputs": [
        {
          "output_type": "stream",
          "name": "stdout",
          "text": [
            "Информация о датафрейме:\n",
            "<class 'pandas.core.frame.DataFrame'>\n",
            "RangeIndex: 32800 entries, 0 to 32799\n",
            "Data columns (total 2 columns):\n",
            " #   Column  Non-Null Count  Dtype \n",
            "---  ------  --------------  ----- \n",
            " 0   text    32709 non-null  object\n",
            " 1   label   32800 non-null  object\n",
            "dtypes: object(2)\n",
            "memory usage: 512.6+ KB\n",
            "None\n",
            "\n",
            "Первые строки датафрейма:\n"
          ]
        },
        {
          "output_type": "display_data",
          "data": {
            "text/plain": [
              "                                                    text  \\\n",
              "0                                   Как отключить тариф?   \n",
              "1                                                  тариф   \n",
              "2                                                  тариф   \n",
              "3                Здрасте я хотел получить золотую карту    \n",
              "4                                          Золотую карту   \n",
              "...                                                  ...   \n",
              "32795  Добрый день как можно с одного тарифа на друго...   \n",
              "32796            Как можно переходит тарифний план тариф   \n",
              "32797                         Какие тарифы вы прилагаете   \n",
              "32798                               тарифные тарифы есть   \n",
              "32799                                       Тариф 80 сом   \n",
              "\n",
              "                          label  \n",
              "0         FAQ - тарифы и услуги  \n",
              "1      мобильная связь - тарифы  \n",
              "2      мобильная связь - тарифы  \n",
              "3         FAQ - тарифы и услуги  \n",
              "4         FAQ - тарифы и услуги  \n",
              "...                         ...  \n",
              "32795     FAQ - тарифы и услуги  \n",
              "32796  мобильная связь - тарифы  \n",
              "32797  мобильная связь - тарифы  \n",
              "32798  мобильная связь - тарифы  \n",
              "32799  мобильная связь - тарифы  \n",
              "\n",
              "[32800 rows x 2 columns]"
            ],
            "text/html": [
              "\n",
              "  <div id=\"df-d274b0b9-e224-472d-b3e9-2b99e5359487\" class=\"colab-df-container\">\n",
              "    <div>\n",
              "<style scoped>\n",
              "    .dataframe tbody tr th:only-of-type {\n",
              "        vertical-align: middle;\n",
              "    }\n",
              "\n",
              "    .dataframe tbody tr th {\n",
              "        vertical-align: top;\n",
              "    }\n",
              "\n",
              "    .dataframe thead th {\n",
              "        text-align: right;\n",
              "    }\n",
              "</style>\n",
              "<table border=\"1\" class=\"dataframe\">\n",
              "  <thead>\n",
              "    <tr style=\"text-align: right;\">\n",
              "      <th></th>\n",
              "      <th>text</th>\n",
              "      <th>label</th>\n",
              "    </tr>\n",
              "  </thead>\n",
              "  <tbody>\n",
              "    <tr>\n",
              "      <th>0</th>\n",
              "      <td>Как отключить тариф?</td>\n",
              "      <td>FAQ - тарифы и услуги</td>\n",
              "    </tr>\n",
              "    <tr>\n",
              "      <th>1</th>\n",
              "      <td>тариф</td>\n",
              "      <td>мобильная связь - тарифы</td>\n",
              "    </tr>\n",
              "    <tr>\n",
              "      <th>2</th>\n",
              "      <td>тариф</td>\n",
              "      <td>мобильная связь - тарифы</td>\n",
              "    </tr>\n",
              "    <tr>\n",
              "      <th>3</th>\n",
              "      <td>Здрасте я хотел получить золотую карту</td>\n",
              "      <td>FAQ - тарифы и услуги</td>\n",
              "    </tr>\n",
              "    <tr>\n",
              "      <th>4</th>\n",
              "      <td>Золотую карту</td>\n",
              "      <td>FAQ - тарифы и услуги</td>\n",
              "    </tr>\n",
              "    <tr>\n",
              "      <th>...</th>\n",
              "      <td>...</td>\n",
              "      <td>...</td>\n",
              "    </tr>\n",
              "    <tr>\n",
              "      <th>32795</th>\n",
              "      <td>Добрый день как можно с одного тарифа на друго...</td>\n",
              "      <td>FAQ - тарифы и услуги</td>\n",
              "    </tr>\n",
              "    <tr>\n",
              "      <th>32796</th>\n",
              "      <td>Как можно переходит тарифний план тариф</td>\n",
              "      <td>мобильная связь - тарифы</td>\n",
              "    </tr>\n",
              "    <tr>\n",
              "      <th>32797</th>\n",
              "      <td>Какие тарифы вы прилагаете</td>\n",
              "      <td>мобильная связь - тарифы</td>\n",
              "    </tr>\n",
              "    <tr>\n",
              "      <th>32798</th>\n",
              "      <td>тарифные тарифы есть</td>\n",
              "      <td>мобильная связь - тарифы</td>\n",
              "    </tr>\n",
              "    <tr>\n",
              "      <th>32799</th>\n",
              "      <td>Тариф 80 сом</td>\n",
              "      <td>мобильная связь - тарифы</td>\n",
              "    </tr>\n",
              "  </tbody>\n",
              "</table>\n",
              "<p>32800 rows × 2 columns</p>\n",
              "</div>\n",
              "    <div class=\"colab-df-buttons\">\n",
              "\n",
              "  <div class=\"colab-df-container\">\n",
              "    <button class=\"colab-df-convert\" onclick=\"convertToInteractive('df-d274b0b9-e224-472d-b3e9-2b99e5359487')\"\n",
              "            title=\"Convert this dataframe to an interactive table.\"\n",
              "            style=\"display:none;\">\n",
              "\n",
              "  <svg xmlns=\"http://www.w3.org/2000/svg\" height=\"24px\" viewBox=\"0 -960 960 960\">\n",
              "    <path d=\"M120-120v-720h720v720H120Zm60-500h600v-160H180v160Zm220 220h160v-160H400v160Zm0 220h160v-160H400v160ZM180-400h160v-160H180v160Zm440 0h160v-160H620v160ZM180-180h160v-160H180v160Zm440 0h160v-160H620v160Z\"/>\n",
              "  </svg>\n",
              "    </button>\n",
              "\n",
              "  <style>\n",
              "    .colab-df-container {\n",
              "      display:flex;\n",
              "      gap: 12px;\n",
              "    }\n",
              "\n",
              "    .colab-df-convert {\n",
              "      background-color: #E8F0FE;\n",
              "      border: none;\n",
              "      border-radius: 50%;\n",
              "      cursor: pointer;\n",
              "      display: none;\n",
              "      fill: #1967D2;\n",
              "      height: 32px;\n",
              "      padding: 0 0 0 0;\n",
              "      width: 32px;\n",
              "    }\n",
              "\n",
              "    .colab-df-convert:hover {\n",
              "      background-color: #E2EBFA;\n",
              "      box-shadow: 0px 1px 2px rgba(60, 64, 67, 0.3), 0px 1px 3px 1px rgba(60, 64, 67, 0.15);\n",
              "      fill: #174EA6;\n",
              "    }\n",
              "\n",
              "    .colab-df-buttons div {\n",
              "      margin-bottom: 4px;\n",
              "    }\n",
              "\n",
              "    [theme=dark] .colab-df-convert {\n",
              "      background-color: #3B4455;\n",
              "      fill: #D2E3FC;\n",
              "    }\n",
              "\n",
              "    [theme=dark] .colab-df-convert:hover {\n",
              "      background-color: #434B5C;\n",
              "      box-shadow: 0px 1px 3px 1px rgba(0, 0, 0, 0.15);\n",
              "      filter: drop-shadow(0px 1px 2px rgba(0, 0, 0, 0.3));\n",
              "      fill: #FFFFFF;\n",
              "    }\n",
              "  </style>\n",
              "\n",
              "    <script>\n",
              "      const buttonEl =\n",
              "        document.querySelector('#df-d274b0b9-e224-472d-b3e9-2b99e5359487 button.colab-df-convert');\n",
              "      buttonEl.style.display =\n",
              "        google.colab.kernel.accessAllowed ? 'block' : 'none';\n",
              "\n",
              "      async function convertToInteractive(key) {\n",
              "        const element = document.querySelector('#df-d274b0b9-e224-472d-b3e9-2b99e5359487');\n",
              "        const dataTable =\n",
              "          await google.colab.kernel.invokeFunction('convertToInteractive',\n",
              "                                                    [key], {});\n",
              "        if (!dataTable) return;\n",
              "\n",
              "        const docLinkHtml = 'Like what you see? Visit the ' +\n",
              "          '<a target=\"_blank\" href=https://colab.research.google.com/notebooks/data_table.ipynb>data table notebook</a>'\n",
              "          + ' to learn more about interactive tables.';\n",
              "        element.innerHTML = '';\n",
              "        dataTable['output_type'] = 'display_data';\n",
              "        await google.colab.output.renderOutput(dataTable, element);\n",
              "        const docLink = document.createElement('div');\n",
              "        docLink.innerHTML = docLinkHtml;\n",
              "        element.appendChild(docLink);\n",
              "      }\n",
              "    </script>\n",
              "  </div>\n",
              "\n",
              "\n",
              "<div id=\"df-fd256514-70a7-41bf-9b86-d634bfcab575\">\n",
              "  <button class=\"colab-df-quickchart\" onclick=\"quickchart('df-fd256514-70a7-41bf-9b86-d634bfcab575')\"\n",
              "            title=\"Suggest charts\"\n",
              "            style=\"display:none;\">\n",
              "\n",
              "<svg xmlns=\"http://www.w3.org/2000/svg\" height=\"24px\"viewBox=\"0 0 24 24\"\n",
              "     width=\"24px\">\n",
              "    <g>\n",
              "        <path d=\"M19 3H5c-1.1 0-2 .9-2 2v14c0 1.1.9 2 2 2h14c1.1 0 2-.9 2-2V5c0-1.1-.9-2-2-2zM9 17H7v-7h2v7zm4 0h-2V7h2v10zm4 0h-2v-4h2v4z\"/>\n",
              "    </g>\n",
              "</svg>\n",
              "  </button>\n",
              "\n",
              "<style>\n",
              "  .colab-df-quickchart {\n",
              "      --bg-color: #E8F0FE;\n",
              "      --fill-color: #1967D2;\n",
              "      --hover-bg-color: #E2EBFA;\n",
              "      --hover-fill-color: #174EA6;\n",
              "      --disabled-fill-color: #AAA;\n",
              "      --disabled-bg-color: #DDD;\n",
              "  }\n",
              "\n",
              "  [theme=dark] .colab-df-quickchart {\n",
              "      --bg-color: #3B4455;\n",
              "      --fill-color: #D2E3FC;\n",
              "      --hover-bg-color: #434B5C;\n",
              "      --hover-fill-color: #FFFFFF;\n",
              "      --disabled-bg-color: #3B4455;\n",
              "      --disabled-fill-color: #666;\n",
              "  }\n",
              "\n",
              "  .colab-df-quickchart {\n",
              "    background-color: var(--bg-color);\n",
              "    border: none;\n",
              "    border-radius: 50%;\n",
              "    cursor: pointer;\n",
              "    display: none;\n",
              "    fill: var(--fill-color);\n",
              "    height: 32px;\n",
              "    padding: 0;\n",
              "    width: 32px;\n",
              "  }\n",
              "\n",
              "  .colab-df-quickchart:hover {\n",
              "    background-color: var(--hover-bg-color);\n",
              "    box-shadow: 0 1px 2px rgba(60, 64, 67, 0.3), 0 1px 3px 1px rgba(60, 64, 67, 0.15);\n",
              "    fill: var(--button-hover-fill-color);\n",
              "  }\n",
              "\n",
              "  .colab-df-quickchart-complete:disabled,\n",
              "  .colab-df-quickchart-complete:disabled:hover {\n",
              "    background-color: var(--disabled-bg-color);\n",
              "    fill: var(--disabled-fill-color);\n",
              "    box-shadow: none;\n",
              "  }\n",
              "\n",
              "  .colab-df-spinner {\n",
              "    border: 2px solid var(--fill-color);\n",
              "    border-color: transparent;\n",
              "    border-bottom-color: var(--fill-color);\n",
              "    animation:\n",
              "      spin 1s steps(1) infinite;\n",
              "  }\n",
              "\n",
              "  @keyframes spin {\n",
              "    0% {\n",
              "      border-color: transparent;\n",
              "      border-bottom-color: var(--fill-color);\n",
              "      border-left-color: var(--fill-color);\n",
              "    }\n",
              "    20% {\n",
              "      border-color: transparent;\n",
              "      border-left-color: var(--fill-color);\n",
              "      border-top-color: var(--fill-color);\n",
              "    }\n",
              "    30% {\n",
              "      border-color: transparent;\n",
              "      border-left-color: var(--fill-color);\n",
              "      border-top-color: var(--fill-color);\n",
              "      border-right-color: var(--fill-color);\n",
              "    }\n",
              "    40% {\n",
              "      border-color: transparent;\n",
              "      border-right-color: var(--fill-color);\n",
              "      border-top-color: var(--fill-color);\n",
              "    }\n",
              "    60% {\n",
              "      border-color: transparent;\n",
              "      border-right-color: var(--fill-color);\n",
              "    }\n",
              "    80% {\n",
              "      border-color: transparent;\n",
              "      border-right-color: var(--fill-color);\n",
              "      border-bottom-color: var(--fill-color);\n",
              "    }\n",
              "    90% {\n",
              "      border-color: transparent;\n",
              "      border-bottom-color: var(--fill-color);\n",
              "    }\n",
              "  }\n",
              "</style>\n",
              "\n",
              "  <script>\n",
              "    async function quickchart(key) {\n",
              "      const quickchartButtonEl =\n",
              "        document.querySelector('#' + key + ' button');\n",
              "      quickchartButtonEl.disabled = true;  // To prevent multiple clicks.\n",
              "      quickchartButtonEl.classList.add('colab-df-spinner');\n",
              "      try {\n",
              "        const charts = await google.colab.kernel.invokeFunction(\n",
              "            'suggestCharts', [key], {});\n",
              "      } catch (error) {\n",
              "        console.error('Error during call to suggestCharts:', error);\n",
              "      }\n",
              "      quickchartButtonEl.classList.remove('colab-df-spinner');\n",
              "      quickchartButtonEl.classList.add('colab-df-quickchart-complete');\n",
              "    }\n",
              "    (() => {\n",
              "      let quickchartButtonEl =\n",
              "        document.querySelector('#df-fd256514-70a7-41bf-9b86-d634bfcab575 button');\n",
              "      quickchartButtonEl.style.display =\n",
              "        google.colab.kernel.accessAllowed ? 'block' : 'none';\n",
              "    })();\n",
              "  </script>\n",
              "</div>\n",
              "    </div>\n",
              "  </div>\n"
            ],
            "application/vnd.google.colaboratory.intrinsic+json": {
              "type": "dataframe",
              "variable_name": "df",
              "summary": "{\n  \"name\": \"df\",\n  \"rows\": 32800,\n  \"fields\": [\n    {\n      \"column\": \"text\",\n      \"properties\": {\n        \"dtype\": \"string\",\n        \"num_unique_values\": 21029,\n        \"samples\": [\n          \"\\u0441\\u043a\\u043e\\u043b\\u044c\\u043a\\u043e \\u0441\\u0442\\u043e\\u0438\\u0442 \\u0441\\u0438\\u043c\\u043a\\u0430\",\n          \"\\u043f\\u0435\\u0440\\u0435\\u0445\\u043e\\u0434 \\u043d\\u0430 \\u0442\\u0430\\u0440\\u0438\\u0444 000\",\n          \"\\u041a\\u0430\\u043a \\u043f\\u0440\\u043e\\u0432\\u0435\\u0440\\u0438\\u0442\\u044c \\u043c\\u0435\\u0433\\u0430\\u0431\\u0430\\u0439\\u0442\\u044b \"\n        ],\n        \"semantic_type\": \"\",\n        \"description\": \"\"\n      }\n    },\n    {\n      \"column\": \"label\",\n      \"properties\": {\n        \"dtype\": \"category\",\n        \"num_unique_values\": 14,\n        \"samples\": [\n          \"SIM-\\u043a\\u0430\\u0440\\u0442\\u0430 \\u0438 \\u043d\\u043e\\u043c\\u0435\\u0440\",\n          \"\\u0437\\u0430\\u043f\\u0440\\u043e\\u0441 \\u043e\\u0431\\u0440\\u0430\\u0442\\u043d\\u043e\\u0439 \\u0441\\u0432\\u044f\\u0437\\u0438\",\n          \"FAQ - \\u0442\\u0430\\u0440\\u0438\\u0444\\u044b \\u0438 \\u0443\\u0441\\u043b\\u0443\\u0433\\u0438\"\n        ],\n        \"semantic_type\": \"\",\n        \"description\": \"\"\n      }\n    }\n  ]\n}"
            }
          },
          "metadata": {}
        },
        {
          "output_type": "stream",
          "name": "stdout",
          "text": [
            "\n",
            "Основные статистики:\n",
            "         text                     label\n",
            "count   32709                     32800\n",
            "unique  21029                        14\n",
            "top     тариф  мобильная связь - тарифы\n",
            "freq     2254                     12021\n",
            "\n",
            "Пропущенные значения:\n",
            "text     91\n",
            "label     0\n",
            "dtype: int64\n",
            "\n",
            "Уникальные значения в каждой колонке:\n",
            "text: ['Как отключить тариф?' 'тариф' 'Здрасте я хотел получить золотую карту '\n",
            " ... 'Какие тарифы вы прилагаете' 'тарифные тарифы есть' 'Тариф 80 сом']\n",
            "label: ['FAQ - тарифы и услуги' 'мобильная связь - тарифы' 'Мобильный интернет'\n",
            " 'FAQ - интернет' 'тарифы - подбор' 'Баланс' 'Мобильные услуги' 'Оплата'\n",
            " 'Личный кабинет' 'SIM-карта и номер' 'Роуминг' 'запрос обратной связи'\n",
            " 'Устройства' 'мобильная связь - зона обслуживания']\n",
            "Количество дубликатов: 11510\n"
          ]
        }
      ]
    },
    {
      "cell_type": "markdown",
      "source": [
        "Приведем названия столбца label к единой форме, а также поменяем тип данных у столбца text"
      ],
      "metadata": {
        "id": "kEMpChqS0I_G"
      }
    },
    {
      "cell_type": "code",
      "source": [
        "df['label'] = df['label'].str.title()\n",
        "df_bert['label'] = df['label'].str.title()\n",
        "\n",
        "df_bert['text'] = df_bert['text'].astype(str)"
      ],
      "metadata": {
        "id": "6QnHdcip0Il_"
      },
      "execution_count": 6,
      "outputs": []
    },
    {
      "cell_type": "markdown",
      "source": [
        "Взглянем поближе на строки с пропусками"
      ],
      "metadata": {
        "id": "6ZvrQX20yWE-"
      }
    },
    {
      "cell_type": "code",
      "source": [
        "rows_with_missing_values = df[df['text'].isnull()]\n",
        "\n",
        "# Вывод строк с пропущенными значениями\n",
        "print(rows_with_missing_values)"
      ],
      "metadata": {
        "id": "ltakl9wmvDrG",
        "outputId": "a642dff0-cd70-44fa-9d46-71c3b26f48a6",
        "execution": {
          "iopub.status.busy": "2024-04-02T09:51:49.808349Z",
          "iopub.execute_input": "2024-04-02T09:51:49.808695Z",
          "iopub.status.idle": "2024-04-02T09:51:49.818787Z",
          "shell.execute_reply.started": "2024-04-02T09:51:49.808664Z",
          "shell.execute_reply": "2024-04-02T09:51:49.817886Z"
        },
        "trusted": true
      },
      "execution_count": null,
      "outputs": [
        {
          "name": "stdout",
          "text": "      text                     label\n1422   NaN  мобильная связь - тарифы\n1773   NaN  мобильная связь - тарифы\n2563   NaN          Мобильные услуги\n3788   NaN  мобильная связь - тарифы\n3798   NaN  мобильная связь - тарифы\n...    ...                       ...\n27466  NaN  мобильная связь - тарифы\n27664  NaN  мобильная связь - тарифы\n27678  NaN          Мобильные услуги\n27719  NaN  мобильная связь - тарифы\n31351  NaN  мобильная связь - тарифы\n\n[91 rows x 2 columns]\n",
          "output_type": "stream"
        }
      ]
    },
    {
      "cell_type": "markdown",
      "source": [
        "Количество пропусков незначительно - удалим их"
      ],
      "metadata": {
        "id": "oOlYcbJaylu3"
      }
    },
    {
      "cell_type": "code",
      "source": [
        "df = df.dropna(subset=['text'])"
      ],
      "metadata": {
        "id": "-529QjmAx5_G",
        "execution": {
          "iopub.status.busy": "2024-04-02T09:51:49.819937Z",
          "iopub.execute_input": "2024-04-02T09:51:49.820395Z",
          "iopub.status.idle": "2024-04-02T09:51:49.835588Z",
          "shell.execute_reply.started": "2024-04-02T09:51:49.820348Z",
          "shell.execute_reply": "2024-04-02T09:51:49.834729Z"
        },
        "trusted": true
      },
      "execution_count": null,
      "outputs": []
    },
    {
      "cell_type": "markdown",
      "source": [
        "Посмотрим на распределение классов и длин текстов"
      ],
      "metadata": {
        "id": "oo4JZCSIy_OX"
      }
    },
    {
      "cell_type": "code",
      "source": [
        "class_counts = df['label'].value_counts()\n",
        "\n",
        "\n",
        "plt.figure(figsize=(10, 7))\n",
        "class_counts.plot(kind='bar', color='skyblue')\n",
        "plt.title('Частота использования классов')\n",
        "plt.xlabel('Классы')\n",
        "plt.ylabel('Частота')\n",
        "plt.xticks(fontsize=6)\n",
        "plt.xticks(rotation = 35)\n",
        "plt.tight_layout()\n",
        "plt.show()"
      ],
      "metadata": {
        "id": "ukMbrXK_y1oV",
        "outputId": "b274613e-af73-4b5d-8528-0176bcb44bb0",
        "execution": {
          "iopub.status.busy": "2024-04-02T09:51:49.836750Z",
          "iopub.execute_input": "2024-04-02T09:51:49.837009Z",
          "iopub.status.idle": "2024-04-02T09:51:50.321141Z",
          "shell.execute_reply.started": "2024-04-02T09:51:49.836986Z",
          "shell.execute_reply": "2024-04-02T09:51:50.320243Z"
        },
        "trusted": true
      },
      "execution_count": null,
      "outputs": [
        {
          "output_type": "display_data",
          "data": {
            "text/plain": "<Figure size 1000x700 with 1 Axes>",
            "image/png": "[encoded data removed]"
          },
          "metadata": {}
        }
      ]
    },
    {
      "cell_type": "code",
      "source": [
        "text_lengths = df['text'].apply(len)\n",
        "\n",
        "plt.hist(text_lengths, bins=50, color='skyblue', edgecolor='black', alpha=0.7)\n",
        "plt.xlabel('Длина текста')\n",
        "plt.ylabel('Частота')\n",
        "plt.title('Распределение длин текстов')\n",
        "plt.grid(True)\n",
        "plt.show()"
      ],
      "metadata": {
        "id": "xUadfMYGgTNL",
        "outputId": "49ce50f4-efde-4272-8b09-68433c6446a8",
        "execution": {
          "iopub.status.busy": "2024-04-02T09:51:50.322390Z",
          "iopub.execute_input": "2024-04-02T09:51:50.322747Z",
          "iopub.status.idle": "2024-04-02T09:51:50.691861Z",
          "shell.execute_reply.started": "2024-04-02T09:51:50.322709Z",
          "shell.execute_reply": "2024-04-02T09:51:50.690899Z"
        },
        "trusted": true
      },
      "execution_count": null,
      "outputs": [
        {
          "output_type": "display_data",
          "data": {
            "text/plain": "<Figure size 640x480 with 1 Axes>",
            "image/png": "[encoded data removed]"
          },
          "metadata": {}
        }
      ]
    },
    {
      "cell_type": "code",
      "source": [
        "# Применение функции к столбцу с текстом и подсчет числа сообщений в каждой категории\n",
        "text_length_distribution = df['text'].apply(text_length_category).value_counts()\n",
        "\n",
        "# Вывод результатов\n",
        "print(\"Распределение текстов по длине:\")\n",
        "print(text_length_distribution)"
      ],
      "metadata": {
        "id": "L7d-J2uQlbjm",
        "outputId": "511f4a1d-55a7-4cff-c40f-930eea2e5192",
        "execution": {
          "iopub.status.busy": "2024-04-02T09:51:50.694962Z",
          "iopub.execute_input": "2024-04-02T09:51:50.695235Z",
          "iopub.status.idle": "2024-04-02T09:51:50.716414Z",
          "shell.execute_reply.started": "2024-04-02T09:51:50.695212Z",
          "shell.execute_reply": "2024-04-02T09:51:50.715408Z"
        },
        "trusted": true
      },
      "execution_count": null,
      "outputs": [
        {
          "name": "stdout",
          "text": "Распределение текстов по длине:\ntext\nдо 50 символов         29007\n51-100 символов         3193\n101-150 символов         384\nбольше 150 символов      125\nName: count, dtype: int64\n",
          "output_type": "stream"
        }
      ]
    },
    {
      "cell_type": "markdown",
      "source": [
        "Выведем самые длинные тексты"
      ],
      "metadata": {
        "id": "8cALY_cditu-"
      }
    },
    {
      "cell_type": "code",
      "source": [
        "sorted_texts = df['text'].str.len().sort_values(ascending=False)\n",
        "\n",
        "\n",
        "N = 10  # Количество текстов для отображения\n",
        "for i, idx in enumerate(sorted_texts.index[:N]):\n",
        "    print(f'Text {i + 1} (Length {len(df.loc[idx, \"text\"])}):')\n",
        "    print(df.loc[idx, \"text\"])\n",
        "    print()"
      ],
      "metadata": {
        "id": "WgcNiSs7g4XJ",
        "outputId": "2e493445-5716-4041-82d1-23820b66b3c7",
        "execution": {
          "iopub.status.busy": "2024-04-02T09:51:50.718030Z",
          "iopub.execute_input": "2024-04-02T09:51:50.718406Z",
          "iopub.status.idle": "2024-04-02T09:51:50.748457Z",
          "shell.execute_reply.started": "2024-04-02T09:51:50.718331Z",
          "shell.execute_reply": "2024-04-02T09:51:50.747533Z"
        },
        "trusted": true
      },
      "execution_count": null,
      "outputs": [
        {
          "name": "stdout",
          "text": "Text 1 (Length 335):\nЗдравствуйте,мне на баланс поступило 115сом из которых у меня должны были взять 100сом за услугу интернета.Я проверила,на балансе осталось тарифго 20сом,а остальную часть забрали.Но интернет не подключается.Приходит такое сообщение,мол заплатите ещё 100сом,что на балансе недостаточно средств,для снятия еженедельной оплаты.Почему так?\n\nText 2 (Length 287):\nЯ живу в Таджикистане Согдийской области мой друг мне передал Сим карту от вашей компании. Поставил Сим карту в телефон антен нормальный. Как мне зарегистрироваться чтобы мне доехать до ближайшего Вашего офиса 100 километров. Можно ли зарегистрироваться через интернет. За ранее Спосибо!\n\nText 3 (Length 270):\nЯ нахожусь в Москве но у меня симка не работает я могу подключить роуминг и пользоваться услугами операторКыргызстан? На данном этапе у сим карты не выходит антенны как это исправить ? Номер телефона тариф. Можете помочь хоть чем то буду благодарен . За ранее спасибо...\n\nText 4 (Length 270):\nЗдравствуйте. Пока я сим картой не пользовался в течение года, номер оказывается удалили из-за того, что я не регисрировался. Это значит, что номер сейчас либо свободен, либо кто-то его уже взял, верно? Если так, то можете узнать, номер свободен сейчас или нет? Спасибо.\n\nText 5 (Length 269):\nЗдрасте имя. Мой тел номер проверьте пожалуйста. За неделю я потерял где то больше 50 сомов. Я не звонил никому даже если звонил не на долго. А интернетом пользовался тариф, по тарифу «тариф» после 12.00 ночи. Вот так вот. Почему с меня сняли оператор так много денег? \n\nText 6 (Length 269):\nЗдравствуйте я по ошибке в связи глюком вашей рекламы 'тариф тариф'  в службе поддержки подключил этот тариф. А до этого был тариф 'тариф' который мне нравился так как много разговариваю по телефону. Что делать теперь если вы говорите что нельзя  перейти на этот тариф?\n\nText 7 (Length 268):\nУ меня тариф за 95 сом в неделю.Сейчас у меня не работал интернет и я решил что неделя уже прошла с того момента как я пополнял баланс,поэтому я положил 115 сом на мобильный но деньги не ушли сразу в уплату тарифа как было раньше а начали сгорать за минуту пользования\n\nText 8 (Length 267):\nДобрый день! Со счета списываются деньги. Детализация показала, что были отправлены несколько смс в разный период и указан номер телефона. Мы этого не делали. Подскажите, пожалуйста, куда и кому обратьтся за помощью, чтобы в дальнейшем этого избежать. Заранее спасибо\n\nText 9 (Length 260):\nДобрый день. Пополнил баланс на 70 сом, через интернет банкинг Демир банка. Средства сняли, Демир банк подтвердил что платеж прошел. Единицы не поступили. Сказали обращаться к провайдеру. Почему не прошел. Не в первый раз такое происходит именно на этот номер.\n\nText 10 (Length 259):\nИмя, доброе утро. Я сейчас смотрел расходы и среди них есть пункт исходящее смс на непонятный номер с тарифом -15. Хотя смсками я почти не пользуюсь и уж точно сегодня утром никому не писал, да и номер вотариф не пренадлежащий ни одному из сотоаых операторов \n\n",
          "output_type": "stream"
        }
      ]
    },
    {
      "cell_type": "code",
      "source": [
        "df['class_id'] = df['label'].factorize()[0]\n",
        "df['class_id'].value_counts()"
      ],
      "metadata": {
        "id": "8YQl9D-gqWZy",
        "outputId": "c1f65b44-fab7-4d25-a982-3dd69d01b878",
        "execution": {
          "iopub.status.busy": "2024-04-02T09:51:50.749613Z",
          "iopub.execute_input": "2024-04-02T09:51:50.749942Z",
          "iopub.status.idle": "2024-04-02T09:51:50.765180Z",
          "shell.execute_reply.started": "2024-04-02T09:51:50.749918Z",
          "shell.execute_reply": "2024-04-02T09:51:50.764362Z"
        },
        "trusted": true
      },
      "execution_count": null,
      "outputs": [
        {
          "execution_count": 12,
          "output_type": "execute_result",
          "data": {
            "text/plain": "class_id\n1     11959\n6      4108\n0      3684\n5      2964\n9      2681\n4      1912\n2      1355\n7      1198\n3       908\n8       633\n12      509\n10      379\n11      254\n13      165\nName: count, dtype: int64"
          },
          "metadata": {}
        }
      ]
    },
    {
      "cell_type": "markdown",
      "source": [
        "Проверим, все ли отзывы клиентов написаны на русском языке"
      ],
      "metadata": {
        "id": "W4MxiqJPzTln"
      }
    },
    {
      "cell_type": "code",
      "source": [
        "english_words = set(words.words())\n",
        "\n",
        "df['has_english'] = df['text'].apply(has_english_words)\n",
        "\n",
        "# Подавление предупреждения\n",
        "pd.options.mode.chained_assignment = None  # default='warn'\n",
        "\n",
        "\n",
        "if df['has_english'].any():\n",
        "    print(\"Есть хотя бы одна строка с английскими символами в колонке\")\n",
        "else:\n",
        "    print(\"Нет строк с английскими символами в колонке\")\n"
      ],
      "metadata": {
        "id": "yGtr1JZXzHGF",
        "outputId": "c5d5bb9c-69cb-4dca-a4f3-da4f50206cf9",
        "execution": {
          "iopub.status.busy": "2024-04-02T09:51:50.766137Z",
          "iopub.execute_input": "2024-04-02T09:51:50.766414Z",
          "iopub.status.idle": "2024-04-02T09:51:50.967518Z",
          "shell.execute_reply.started": "2024-04-02T09:51:50.766391Z",
          "shell.execute_reply": "2024-04-02T09:51:50.966497Z"
        },
        "trusted": true
      },
      "execution_count": null,
      "outputs": [
        {
          "name": "stdout",
          "text": "Есть хотя бы одна строка с английскими символами в колонке\n",
          "output_type": "stream"
        }
      ]
    },
    {
      "cell_type": "code",
      "source": [
        "filtered_texts = df[df['has_english'] == True]['text']\n",
        "print(filtered_texts)"
      ],
      "metadata": {
        "id": "N262JdvFzdQN",
        "outputId": "2ccb0f1a-9078-4f5c-8dc1-2aa446c83f0b",
        "execution": {
          "iopub.status.busy": "2024-04-02T09:51:50.968675Z",
          "iopub.execute_input": "2024-04-02T09:51:50.968972Z",
          "iopub.status.idle": "2024-04-02T09:51:50.987687Z",
          "shell.execute_reply.started": "2024-04-02T09:51:50.968946Z",
          "shell.execute_reply": "2024-04-02T09:51:50.986726Z"
        },
        "trusted": true
      },
      "execution_count": null,
      "outputs": [
        {
          "name": "stdout",
          "text": "409      Здраствуйте. У меня сейчас тариф . Закончился ...\n615                               Почему не появляется 4 G\n1244                                                   4 G\n1568                                               тариф s\n1652                           хотим подключить SIP номер \n                               ...                        \n31974            как проверить поддерживает ли телефон 4 G\n32084                                   Kak pereyti na p? \n32258       Скажите а приложение намба music еще работает?\n32259      Не могу найти приложение namba music в appstore\n32266                                          Статус gold\nName: text, Length: 166, dtype: object\n",
          "output_type": "stream"
        }
      ]
    },
    {
      "cell_type": "markdown",
      "source": [
        "Очистим датафрейм от специальных символов, заглавных букв и разделителей строк"
      ],
      "metadata": {
        "id": "sgMvkH4g1i3A"
      }
    },
    {
      "cell_type": "code",
      "source": [
        "df['text'] = df['text'].apply(cleaning)\n",
        "\n",
        "print(df.head(20))"
      ],
      "metadata": {
        "id": "q4Urnc3-1bue",
        "outputId": "362f0cf3-d428-44bb-ea10-a25faffe6039",
        "execution": {
          "iopub.status.busy": "2024-04-02T09:51:50.988876Z",
          "iopub.execute_input": "2024-04-02T09:51:50.989286Z",
          "iopub.status.idle": "2024-04-02T09:51:51.153282Z",
          "shell.execute_reply.started": "2024-04-02T09:51:50.989250Z",
          "shell.execute_reply": "2024-04-02T09:51:51.152376Z"
        },
        "trusted": true
      },
      "execution_count": null,
      "outputs": [
        {
          "name": "stdout",
          "text": "                                                 text  \\\n0                                 как отключить тариф   \n1                                               тариф   \n2                                               тариф   \n3             здрасте я хотел получить золотую карту    \n4                                       золотую карту   \n5                    как отключить доступ в интернет    \n6          как запретить все звонки вне сети оператор   \n7                                тарифы для интернета   \n8                                               тариф   \n9                                               тариф   \n10                        тарифыбез абонентской платы   \n11                                   проверить баланс   \n12                                             услуга   \n13               как перевести деньги еа другой номер   \n14                                             услуга   \n15               как проверить свой тариф и мигабайты   \n16                         есть кабинет куда заходить   \n17                                 какой у меня тариф   \n18     как пополнить баланс другого абонента оператор   \n19  подскажите пожалуйста мне тарифй тариф для тел...   \n\n                       label  class_id  has_english  \n0      FAQ - тарифы и услуги         0        False  \n1   мобильная связь - тарифы         1        False  \n2   мобильная связь - тарифы         1        False  \n3      FAQ - тарифы и услуги         0        False  \n4      FAQ - тарифы и услуги         0        False  \n5         Мобильный интернет         2        False  \n6             FAQ - интернет         3        False  \n7   мобильная связь - тарифы         1        False  \n8   мобильная связь - тарифы         1        False  \n9   мобильная связь - тарифы         1        False  \n10           тарифы - подбор         4        False  \n11                    Баланс         5        False  \n12          Мобильные услуги         6        False  \n13                    Оплата         7        False  \n14          Мобильные услуги         6        False  \n15     FAQ - тарифы и услуги         0        False  \n16            Личный кабинет         8        False  \n17     FAQ - тарифы и услуги         0        False  \n18                    Оплата         7        False  \n19           тарифы - подбор         4        False  \n",
          "output_type": "stream"
        }
      ]
    },
    {
      "cell_type": "code",
      "source": [
        "class_id_data = df[['label', 'class_id']].drop_duplicates().sort_values('class_id')\n",
        "\n",
        "# Словарь для сверки id классов\n",
        "class_to_id = dict(class_id_data.values)\n",
        "id_to_class = dict(class_id_data[['class_id', 'label']].values)\n",
        "\n",
        "id_to_class"
      ],
      "metadata": {
        "id": "PTl9V-zW2sHO",
        "outputId": "acefb21b-d888-4c81-ec37-39a449c07600",
        "execution": {
          "iopub.status.busy": "2024-04-02T09:51:51.154508Z",
          "iopub.execute_input": "2024-04-02T09:51:51.154865Z",
          "iopub.status.idle": "2024-04-02T09:51:51.169813Z",
          "shell.execute_reply.started": "2024-04-02T09:51:51.154829Z",
          "shell.execute_reply": "2024-04-02T09:51:51.169029Z"
        },
        "trusted": true
      },
      "execution_count": null,
      "outputs": [
        {
          "execution_count": 16,
          "output_type": "execute_result",
          "data": {
            "text/plain": "{0: 'FAQ - тарифы и услуги',\n 1: 'мобильная связь - тарифы',\n 2: 'Мобильный интернет',\n 3: 'FAQ - интернет',\n 4: 'тарифы - подбор',\n 5: 'Баланс',\n 6: 'Мобильные услуги',\n 7: 'Оплата',\n 8: 'Личный кабинет',\n 9: 'SIM-карта и номер',\n 10: 'Роуминг',\n 11: 'запрос обратной связи',\n 12: 'Устройства',\n 13: 'мобильная связь - зона обслуживания'}"
          },
          "metadata": {}
        }
      ]
    },
    {
      "cell_type": "markdown",
      "source": [
        "Приступим к лемматизации текста"
      ],
      "metadata": {
        "id": "DUlitmjv5VlZ"
      }
    },
    {
      "cell_type": "code",
      "source": [
        "mystem = Mystem()\n",
        "\n",
        "df['lemmatized_text'] = df['text'].apply(lemmatize_text)\n",
        "print(df)"
      ],
      "metadata": {
        "id": "n16-Eel15K9H",
        "outputId": "7d3b3757-8668-4921-fc70-ca2ad58d59c8",
        "execution": {
          "iopub.status.busy": "2024-04-02T09:51:51.171182Z",
          "iopub.execute_input": "2024-04-02T09:51:51.171478Z",
          "iopub.status.idle": "2024-04-02T09:52:05.727833Z",
          "shell.execute_reply.started": "2024-04-02T09:51:51.171454Z",
          "shell.execute_reply": "2024-04-02T09:52:05.726853Z"
        },
        "trusted": true
      },
      "execution_count": null,
      "outputs": [
        {
          "name": "stderr",
          "text": "Installing mystem to /root/.local/bin/mystem from http://download.cdn.yandex.net/mystem/mystem-3.1-linux-64bit.tar.gz\n",
          "output_type": "stream"
        },
        {
          "name": "stdout",
          "text": "                                                    text  \\\n0                                    как отключить тариф   \n1                                                  тариф   \n2                                                  тариф   \n3                здрасте я хотел получить золотую карту    \n4                                          золотую карту   \n...                                                  ...   \n32795  добрый день как можно с одного тарифа на друго...   \n32796            как можно переходит тарифний план тариф   \n32797                         какие тарифы вы прилагаете   \n32798                               тарифные тарифы есть   \n32799                                         тариф  сом   \n\n                          label  class_id  has_english  \\\n0         FAQ - тарифы и услуги         0        False   \n1      мобильная связь - тарифы         1        False   \n2      мобильная связь - тарифы         1        False   \n3         FAQ - тарифы и услуги         0        False   \n4         FAQ - тарифы и услуги         0        False   \n...                         ...       ...          ...   \n32795     FAQ - тарифы и услуги         0        False   \n32796  мобильная связь - тарифы         1        False   \n32797  мобильная связь - тарифы         1        False   \n32798  мобильная связь - тарифы         1        False   \n32799  мобильная связь - тарифы         1        False   \n\n                                         lemmatized_text  \n0                                    как отключать тариф  \n1                                                  тариф  \n2                                                  тариф  \n3                здрасте я хотеть получать золотой карта  \n4                                          золотой карта  \n...                                                  ...  \n32795  добрый день как можно с один тариф на другой т...  \n32796           как можно переходить тарифний план тариф  \n32797                           какой тариф вы прилагать  \n32798                                тарифный тариф быть  \n32799                                         тариф  сом  \n\n[32709 rows x 5 columns]\n",
          "output_type": "stream"
        }
      ]
    },
    {
      "cell_type": "markdown",
      "source": [
        "Посмотрим на среднюю длину комментариев в символах в столбце лемматизированного текста"
      ],
      "metadata": {
        "id": "r1i3VgA57zSh"
      }
    },
    {
      "cell_type": "code",
      "source": [
        "average_length = df['lemmatized_text'].apply(lambda x: len(x)).mean()\n",
        "print(\"Длина символов в столбце lemmatized_text:\", average_length)"
      ],
      "metadata": {
        "id": "WvA97Ncv6UTG",
        "outputId": "b851123d-ef0e-4b4d-9494-15ebc509c7f4",
        "execution": {
          "iopub.status.busy": "2024-04-02T09:52:05.729445Z",
          "iopub.execute_input": "2024-04-02T09:52:05.730129Z",
          "iopub.status.idle": "2024-04-02T09:52:05.755880Z",
          "shell.execute_reply.started": "2024-04-02T09:52:05.730090Z",
          "shell.execute_reply": "2024-04-02T09:52:05.754716Z"
        },
        "trusted": true
      },
      "execution_count": null,
      "outputs": [
        {
          "name": "stdout",
          "text": "Длина символов в столбце lemmatized_text: 26.882478828457\n",
          "output_type": "stream"
        }
      ]
    },
    {
      "cell_type": "markdown",
      "source": [
        "Выведем на экран и проверим, какие дубликаты в нашем датафрейме"
      ],
      "metadata": {
        "id": "Ox7src4M9MnV"
      }
    },
    {
      "cell_type": "code",
      "source": [
        "df[df.duplicated()]"
      ],
      "metadata": {
        "id": "S8rz26Zn7xYT",
        "outputId": "9c02081e-c8fd-4b6b-8cfe-479c7f801b52",
        "execution": {
          "iopub.status.busy": "2024-04-02T09:52:05.757181Z",
          "iopub.execute_input": "2024-04-02T09:52:05.757535Z",
          "iopub.status.idle": "2024-04-02T09:52:06.027510Z",
          "shell.execute_reply.started": "2024-04-02T09:52:05.757503Z",
          "shell.execute_reply": "2024-04-02T09:52:06.026632Z"
        },
        "trusted": true
      },
      "execution_count": null,
      "outputs": [
        {
          "execution_count": 19,
          "output_type": "execute_result",
          "data": {
            "text/plain": "                     text                     label  class_id  has_english  \\\n2                   тариф  мобильная связь - тарифы         1        False   \n8                   тариф  мобильная связь - тарифы         1        False   \n9                   тариф  мобильная связь - тарифы         1        False   \n14                 услуга          Мобильные услуги         6        False   \n23                  тариф  мобильная связь - тарифы         1        False   \n...                   ...                       ...       ...          ...   \n32788  как сменить номер          SIM-карта и номер         9        False   \n32789          мой баланс                    Баланс         5        False   \n32792               тариф  мобильная связь - тарифы         1        False   \n32793     тарифы на месяц  мобильная связь - тарифы         1        False   \n32799          тариф  сом  мобильная связь - тарифы         1        False   \n\n         lemmatized_text  \n2                  тариф  \n8                  тариф  \n9                  тариф  \n14                услуга  \n23                 тариф  \n...                  ...  \n32788  как сменить номер  \n32789         мой баланс  \n32792              тариф  \n32793     тариф на месяц  \n32799         тариф  сом  \n\n[12900 rows x 5 columns]",
            "text/html": "<div>\n<style scoped>\n    .dataframe tbody tr th:only-of-type {\n        vertical-align: middle;\n    }\n\n    .dataframe tbody tr th {\n        vertical-align: top;\n    }\n\n    .dataframe thead th {\n        text-align: right;\n    }\n</style>\n<table border=\"1\" class=\"dataframe\">\n  <thead>\n    <tr style=\"text-align: right;\">\n      <th></th>\n      <th>text</th>\n      <th>label</th>\n      <th>class_id</th>\n      <th>has_english</th>\n      <th>lemmatized_text</th>\n    </tr>\n  </thead>\n  <tbody>\n    <tr>\n      <th>2</th>\n      <td>тариф</td>\n      <td>мобильная связь - тарифы</td>\n      <td>1</td>\n      <td>False</td>\n      <td>тариф</td>\n    </tr>\n    <tr>\n      <th>8</th>\n      <td>тариф</td>\n      <td>мобильная связь - тарифы</td>\n      <td>1</td>\n      <td>False</td>\n      <td>тариф</td>\n    </tr>\n    <tr>\n      <th>9</th>\n      <td>тариф</td>\n      <td>мобильная связь - тарифы</td>\n      <td>1</td>\n      <td>False</td>\n      <td>тариф</td>\n    </tr>\n    <tr>\n      <th>14</th>\n      <td>услуга</td>\n      <td>Мобильные услуги</td>\n      <td>6</td>\n      <td>False</td>\n      <td>услуга</td>\n    </tr>\n    <tr>\n      <th>23</th>\n      <td>тариф</td>\n      <td>мобильная связь - тарифы</td>\n      <td>1</td>\n      <td>False</td>\n      <td>тариф</td>\n    </tr>\n    <tr>\n      <th>...</th>\n      <td>...</td>\n      <td>...</td>\n      <td>...</td>\n      <td>...</td>\n      <td>...</td>\n    </tr>\n    <tr>\n      <th>32788</th>\n      <td>как сменить номер</td>\n      <td>SIM-карта и номер</td>\n      <td>9</td>\n      <td>False</td>\n      <td>как сменить номер</td>\n    </tr>\n    <tr>\n      <th>32789</th>\n      <td>мой баланс</td>\n      <td>Баланс</td>\n      <td>5</td>\n      <td>False</td>\n      <td>мой баланс</td>\n    </tr>\n    <tr>\n      <th>32792</th>\n      <td>тариф</td>\n      <td>мобильная связь - тарифы</td>\n      <td>1</td>\n      <td>False</td>\n      <td>тариф</td>\n    </tr>\n    <tr>\n      <th>32793</th>\n      <td>тарифы на месяц</td>\n      <td>мобильная связь - тарифы</td>\n      <td>1</td>\n      <td>False</td>\n      <td>тариф на месяц</td>\n    </tr>\n    <tr>\n      <th>32799</th>\n      <td>тариф  сом</td>\n      <td>мобильная связь - тарифы</td>\n      <td>1</td>\n      <td>False</td>\n      <td>тариф  сом</td>\n    </tr>\n  </tbody>\n</table>\n<p>12900 rows × 5 columns</p>\n</div>"
          },
          "metadata": {}
        }
      ]
    },
    {
      "cell_type": "markdown",
      "source": [
        "Так как дубликатов строк слишком много, их удаление навредит обучению - оставим их"
      ],
      "metadata": {
        "id": "XHXDRz4n9jv2"
      }
    },
    {
      "cell_type": "markdown",
      "source": [
        "Добавим новые признаки в датафрейм и приступим к обучению"
      ],
      "metadata": {
        "id": "BmTQdTXXzgVg"
      }
    },
    {
      "cell_type": "code",
      "source": [
        "df_new = df.copy()\n",
        "# Признак 1: Длина текста\n",
        "df_new['text_length'] = df_new['text'].apply(lambda x: len(x))\n",
        "\n",
        "# Признак 2: Количество слов\n",
        "df_new['word_count'] = df_new['text'].apply(lambda x: len(x.split()))\n",
        "\n",
        "# Признак 3: Количество уникальных слов\n",
        "df_new['unique_word_count'] = df_new['text'].apply(lambda x: len(set(x.split())))\n",
        "\n",
        "# Признак 4: Наличие цифр\n",
        "df_new['has_digits'] = df_new['text'].apply(lambda x: any(char.isdigit() for char in x))\n",
        "\n",
        "# Признак 5: Наличие пунктуации\n",
        "df_new['has_punctuation'] = df_new['text'].apply(lambda x: any(char in string.punctuation for char in x))\n",
        "\n",
        "# Признак 6: Соотношение длины текста к количеству слов в тексте\n",
        "df_new['text_density'] = df_new['text_length'] / df_new['word_count']\n",
        "\n",
        "\n",
        "print(df_new.head())"
      ],
      "metadata": {
        "id": "awrwzLw8zkJg",
        "outputId": "38e7ef1b-fdb5-4800-9ab1-8676fcee356a",
        "execution": {
          "iopub.status.busy": "2024-04-02T09:52:06.028995Z",
          "iopub.execute_input": "2024-04-02T09:52:06.029262Z",
          "iopub.status.idle": "2024-04-02T09:52:06.397925Z",
          "shell.execute_reply.started": "2024-04-02T09:52:06.029238Z",
          "shell.execute_reply": "2024-04-02T09:52:06.396992Z"
        },
        "trusted": true
      },
      "execution_count": null,
      "outputs": [
        {
          "name": "stdout",
          "text": "                                      text                     label  \\\n0                      как отключить тариф     FAQ - тарифы и услуги   \n1                                    тариф  мобильная связь - тарифы   \n2                                    тариф  мобильная связь - тарифы   \n3  здрасте я хотел получить золотую карту      FAQ - тарифы и услуги   \n4                            золотую карту     FAQ - тарифы и услуги   \n\n   class_id  has_english                          lemmatized_text  \\\n0         0        False                      как отключать тариф   \n1         1        False                                    тариф   \n2         1        False                                    тариф   \n3         0        False  здрасте я хотеть получать золотой карта   \n4         0        False                            золотой карта   \n\n   text_length  word_count  unique_word_count  has_digits  has_punctuation  \\\n0           19           3                  3       False            False   \n1            5           1                  1       False            False   \n2            5           1                  1       False            False   \n3           39           6                  6       False            False   \n4           13           2                  2       False            False   \n\n   text_density  \n0      6.333333  \n1      5.000000  \n2      5.000000  \n3      6.500000  \n4      6.500000  \n",
          "output_type": "stream"
        }
      ]
    },
    {
      "cell_type": "markdown",
      "source": [
        "# Обучение моделей"
      ],
      "metadata": {
        "id": "wnwbToVWzdFJ"
      }
    },
    {
      "cell_type": "code",
      "source": [
        "df_new = df_new.drop(['text','has_english','text_length','word_count'], axis=1)"
      ],
      "metadata": {
        "id": "Xq4GBIdcoUVe",
        "execution": {
          "iopub.status.busy": "2024-04-02T09:52:06.398991Z",
          "iopub.execute_input": "2024-04-02T09:52:06.399279Z",
          "iopub.status.idle": "2024-04-02T09:52:06.406548Z",
          "shell.execute_reply.started": "2024-04-02T09:52:06.399254Z",
          "shell.execute_reply": "2024-04-02T09:52:06.405739Z"
        },
        "trusted": true
      },
      "execution_count": null,
      "outputs": []
    },
    {
      "cell_type": "markdown",
      "source": [
        "Кодируем категориальные признаки классов"
      ],
      "metadata": {
        "id": "oJdH-s8Jp6ld"
      }
    },
    {
      "cell_type": "code",
      "source": [
        "label_encoder = LabelEncoder()\n",
        "df_new['label'] = label_encoder.fit_transform(df_new['label'])"
      ],
      "metadata": {
        "id": "_PEopq_JNFFk",
        "execution": {
          "iopub.status.busy": "2024-04-02T09:52:06.407667Z",
          "iopub.execute_input": "2024-04-02T09:52:06.407929Z",
          "iopub.status.idle": "2024-04-02T09:52:06.422775Z",
          "shell.execute_reply.started": "2024-04-02T09:52:06.407907Z",
          "shell.execute_reply": "2024-04-02T09:52:06.421885Z"
        },
        "trusted": true
      },
      "execution_count": null,
      "outputs": []
    },
    {
      "cell_type": "markdown",
      "source": [
        "Разделим наш датасет"
      ],
      "metadata": {
        "id": "x76Y8o1P1HsI"
      }
    },
    {
      "cell_type": "code",
      "source": [
        "target = df_new['label']\n",
        "features = df_new.drop(['label'], axis=1)\n",
        "\n",
        "# Загрузка русского словаря стоп-слов\n",
        "stopwords_ru = stopwords.words('russian')\n",
        "\n",
        "features_train, features_test, target_train, target_test=train_test_split(df_new, target,test_size=0.1,random_state=42)\n",
        "\n",
        "count_tf_idf = TfidfVectorizer(stop_words=stopwords_ru)\n",
        "\n",
        "features_train_idf = count_tf_idf.fit_transform(features_train['lemmatized_text'])\n",
        "features_test_idf = count_tf_idf.transform(features_test['lemmatized_text'])\n",
        "\n",
        "print(features_train.shape)\n",
        "print(features_test.shape)"
      ],
      "metadata": {
        "id": "uiPG_l7gGKp6",
        "outputId": "52768653-8975-42d2-ce38-160c0b3b8763",
        "execution": {
          "iopub.status.busy": "2024-04-02T09:52:06.423872Z",
          "iopub.execute_input": "2024-04-02T09:52:06.424161Z",
          "iopub.status.idle": "2024-04-02T09:52:06.763830Z",
          "shell.execute_reply.started": "2024-04-02T09:52:06.424123Z",
          "shell.execute_reply": "2024-04-02T09:52:06.762867Z"
        },
        "trusted": true
      },
      "execution_count": null,
      "outputs": [
        {
          "name": "stdout",
          "text": "(29438, 7)\n(3271, 7)\n",
          "output_type": "stream"
        }
      ]
    },
    {
      "cell_type": "markdown",
      "source": [
        "*Dummy Model*"
      ],
      "metadata": {
        "id": "FzDojH2PhNrT"
      }
    },
    {
      "cell_type": "code",
      "source": [
        "dummy_grid = {\n",
        "    'strategy': ['most_frequent', 'stratified', 'prior', 'uniform', 'constant'],\n",
        "    'constant': [0, 1]\n",
        "}\n",
        "\n",
        "dummy = DummyClassifier(random_state=42)\n",
        "dummy_gs = GridSearchCV(dummy, param_grid=dummy_grid, cv=5)\n",
        "dummy_gs.fit(features_train, target_train)\n",
        "\n",
        "print(dummy_gs.best_score_)"
      ],
      "metadata": {
        "id": "CMNMZzFpIJNV",
        "outputId": "36dfb472-bad8-45f4-e95f-87134a97b266",
        "execution": {
          "iopub.status.busy": "2024-04-02T09:52:06.765016Z",
          "iopub.execute_input": "2024-04-02T09:52:06.765292Z",
          "iopub.status.idle": "2024-04-02T09:52:07.076797Z",
          "shell.execute_reply.started": "2024-04-02T09:52:06.765268Z",
          "shell.execute_reply": "2024-04-02T09:52:07.075872Z"
        },
        "trusted": true
      },
      "execution_count": null,
      "outputs": [
        {
          "name": "stdout",
          "text": "0.3654120503633651\n",
          "output_type": "stream"
        }
      ]
    },
    {
      "cell_type": "markdown",
      "source": [
        "*Logistic Regression*"
      ],
      "metadata": {
        "id": "249mEMV4hK-T"
      }
    },
    {
      "cell_type": "code",
      "source": [
        "model_lr = LogisticRegression(class_weight='balanced', max_iter=1000)\n",
        "model_lr.fit(features_train_idf, target_train)\n",
        "\n",
        "y_pred = model_lr.predict(features_train_idf)\n",
        "\n",
        "\n",
        "f1 = f1_score(target_train, y_pred, average='weighted')  # усредняем F1-меру для всех классов\n",
        "\n",
        "print(f'F1-мера прогноза: {f1}')"
      ],
      "metadata": {
        "id": "oqRXS7UYQoKx",
        "outputId": "b2bfe007-219f-459d-caf7-aed370a61516",
        "execution": {
          "iopub.status.busy": "2024-04-02T08:30:54.874537Z",
          "iopub.execute_input": "2024-04-02T08:30:54.875044Z",
          "iopub.status.idle": "2024-04-02T08:31:08.130722Z",
          "shell.execute_reply.started": "2024-04-02T08:30:54.875005Z",
          "shell.execute_reply": "2024-04-02T08:31:08.129605Z"
        },
        "trusted": true
      },
      "execution_count": null,
      "outputs": [
        {
          "name": "stdout",
          "text": "F1-мера прогноза: 0.7881413356185824\n",
          "output_type": "stream"
        }
      ]
    },
    {
      "cell_type": "markdown",
      "source": [
        "*Random Forest*"
      ],
      "metadata": {
        "id": "sIwZLTSkhIRt"
      }
    },
    {
      "cell_type": "code",
      "source": [
        "rfc_model = RandomForestClassifier(n_estimators=200, max_depth=3, random_state=42, class_weight='balanced')\n",
        "rfc_model.fit(features_train_idf, target_train)\n",
        "\n",
        "\n",
        "y_pred = rfc_model.predict(features_test_idf)\n",
        "\n",
        "\n",
        "f1 = f1_score(target_test, y_pred, average='weighted')\n",
        "print(\"F1-score:\", f1)"
      ],
      "metadata": {
        "id": "QbuUYLrtct2t",
        "outputId": "77f2adc0-1f6e-4eaf-b904-cc08418822ae",
        "execution": {
          "iopub.status.busy": "2024-04-02T08:31:08.133138Z",
          "iopub.execute_input": "2024-04-02T08:31:08.134639Z",
          "iopub.status.idle": "2024-04-02T08:31:09.597315Z",
          "shell.execute_reply.started": "2024-04-02T08:31:08.134603Z",
          "shell.execute_reply": "2024-04-02T08:31:09.596263Z"
        },
        "trusted": true
      },
      "execution_count": null,
      "outputs": [
        {
          "name": "stdout",
          "text": "F1-score: 0.6334226477706737\n",
          "output_type": "stream"
        }
      ]
    },
    {
      "cell_type": "markdown",
      "source": [
        "*Multinominal Naive Bayes*"
      ],
      "metadata": {
        "id": "O4dfIFEOhRab"
      }
    },
    {
      "cell_type": "code",
      "source": [
        "mnb_grid = {\n",
        "    'alpha': [0.1, 0.2, 0.5, 0.8, 1.0],\n",
        "    'fit_prior': [True, False],\n",
        "    'class_prior': [None]\n",
        "}\n",
        "\n",
        "\n",
        "mnb = MultinomialNB(class_prior='balanced')\n",
        "\n",
        "mnb_tfidf_gs = GridSearchCV(mnb, param_grid=mnb_grid, cv=5, scoring='f1_weighted')\n",
        "mnb_tfidf_gs.fit(features_train_idf, target_train)\n",
        "\n",
        "# Вывод лучшего значения метрики\n",
        "print(mnb_tfidf_gs.best_score_)"
      ],
      "metadata": {
        "id": "bx_kJKOVcu5m",
        "outputId": "ea6223b3-3d4c-4949-b127-993c099cd0ba",
        "execution": {
          "iopub.status.busy": "2024-04-02T08:31:09.598754Z",
          "iopub.execute_input": "2024-04-02T08:31:09.599059Z",
          "iopub.status.idle": "2024-04-02T08:31:10.354828Z",
          "shell.execute_reply.started": "2024-04-02T08:31:09.599033Z",
          "shell.execute_reply": "2024-04-02T08:31:10.353610Z"
        },
        "trusted": true
      },
      "execution_count": null,
      "outputs": [
        {
          "name": "stdout",
          "text": "0.7376121722789195\n",
          "output_type": "stream"
        }
      ]
    },
    {
      "cell_type": "markdown",
      "source": [
        "*SVC*"
      ],
      "metadata": {
        "id": "Zzzt09DbinjC"
      }
    },
    {
      "cell_type": "code",
      "source": [
        "features_train_sub, features_val, target_train_sub, target_val = train_test_split(features_train_idf, target_train, random_state = 42, test_size=0.10)"
      ],
      "metadata": {
        "id": "_orRvGpvc0jK",
        "execution": {
          "iopub.status.busy": "2024-04-02T08:31:10.359598Z",
          "iopub.execute_input": "2024-04-02T08:31:10.359991Z",
          "iopub.status.idle": "2024-04-02T08:31:10.370134Z",
          "shell.execute_reply.started": "2024-04-02T08:31:10.359962Z",
          "shell.execute_reply": "2024-04-02T08:31:10.369066Z"
        },
        "trusted": true
      },
      "execution_count": null,
      "outputs": []
    },
    {
      "cell_type": "code",
      "source": [
        "def objective(trial):\n",
        "    from sklearn.svm import SVC\n",
        "    params = {\n",
        "        'C': trial.suggest_float('C', 1e-4, 1e4, log=True),\n",
        "        'gamma': trial.suggest_float('gamma', 1e-4, 1e4, log=True),\n",
        "        'kernel': trial.suggest_categorical(\"kernel\", [\"linear\", \"rbf\"]),\n",
        "        'class_weight': 'balanced'  # Добавляем параметр для учета дисбаланса классов\n",
        "    }\n",
        "\n",
        "    svc = SVC(**params)\n",
        "    svc.fit(features_train_sub, target_train_sub)\n",
        "    return svc.score(features_val, target_val)\n",
        "\n",
        "study = optuna.create_study(sampler=optuna.samplers.TPESampler(seed=123),\n",
        "                            direction=\"maximize\",\n",
        "                            pruner=optuna.pruners.MedianPruner())\n",
        "study.optimize(objective, n_trials=40, show_progress_bar=True)"
      ],
      "metadata": {
        "id": "6Hy1ApD0dLRy",
        "outputId": "27f270c1-c50b-4978-edfe-d9cc3761ae32",
        "execution": {
          "iopub.status.busy": "2024-04-02T08:31:10.371405Z",
          "iopub.execute_input": "2024-04-02T08:31:10.371763Z"
        },
        "trusted": true,
        "colab": {
          "referenced_widgets": [
            "4572e86b82574491bc8868319c581484"
          ]
        }
      },
      "execution_count": null,
      "outputs": [
        {
          "name": "stderr",
          "text": "[I 2024-04-02 08:31:10,380] A new study created in memory with name: no-name-3b9131b8-ccd4-4e6b-8167-48fc4413698a\n",
          "output_type": "stream"
        },
        {
          "output_type": "display_data",
          "data": {
            "text/plain": "  0%|          | 0/50 [00:00<?, ?it/s]",
            "application/vnd.jupyter.widget-view+json": {
              "version_major": 2,
              "version_minor": 0,
              "model_id": "4572e86b82574491bc8868319c581484"
            }
          },
          "metadata": {}
        },
        {
          "name": "stdout",
          "text": "[I 2024-04-02 08:31:43,865] Trial 0 finished with value: 0.7462635869565217 and parameters: {'C': 37.30383528143735, 'gamma': 0.01945873840348015, 'kernel': 'rbf'}. Best is trial 0 with value: 0.7462635869565217.\n[I 2024-04-02 08:32:26,519] Trial 1 finished with value: 0.7180706521739131 and parameters: {'C': 56.98384608345693, 'gamma': 0.24257815076676031, 'kernel': 'linear'}. Best is trial 0 with value: 0.7462635869565217.\n[I 2024-04-02 08:33:14,526] Trial 2 finished with value: 0.7238451086956522 and parameters: {'C': 0.7038096413827089, 'gamma': 0.13706928443177713, 'kernel': 'rbf'}. Best is trial 0 with value: 0.7462635869565217.\n[I 2024-04-02 08:35:16,160] Trial 3 finished with value: 0.005434782608695652 and parameters: {'C': 0.32253582308744194, 'gamma': 0.0003002086301848454, 'kernel': 'rbf'}. Best is trial 0 with value: 0.7462635869565217.\n[I 2024-04-02 08:37:17,577] Trial 4 finished with value: 0.034986413043478264 and parameters: {'C': 0.0028835922101179585, 'gamma': 0.0025328767014880767, 'kernel': 'rbf'}. Best is trial 0 with value: 0.7462635869565217.\n[I 2024-04-02 08:37:44,668] Trial 5 finished with value: 0.7275815217391305 and parameters: {'C': 11.890706744202372, 'gamma': 624.3877193292781, 'kernel': 'linear'}. Best is trial 0 with value: 0.7462635869565217.\n[I 2024-04-02 08:38:30,530] Trial 6 finished with value: 0.7180706521739131 and parameters: {'C': 60.19314852321079, 'gamma': 0.03834169523641596, 'kernel': 'linear'}. Best is trial 0 with value: 0.7462635869565217.\n[I 2024-04-02 08:40:07,505] Trial 7 finished with value: 0.343070652173913 and parameters: {'C': 0.0223723894683578, 'gamma': 11.163721427400015, 'kernel': 'rbf'}. Best is trial 0 with value: 0.7462635869565217.\n[I 2024-04-02 08:40:41,218] Trial 8 finished with value: 0.7282608695652174 and parameters: {'C': 0.27983504785193886, 'gamma': 0.8901860438096811, 'kernel': 'linear'}. Best is trial 0 with value: 0.7462635869565217.\n[I 2024-04-02 08:41:15,552] Trial 9 finished with value: 0.725203804347826 and parameters: {'C': 0.25751969879039616, 'gamma': 1403.1797383500177, 'kernel': 'linear'}. Best is trial 0 with value: 0.7462635869565217.\n[I 2024-04-02 08:42:30,335] Trial 10 finished with value: 0.6100543478260869 and parameters: {'C': 7496.147874229732, 'gamma': 30.230618536711326, 'kernel': 'rbf'}. Best is trial 0 with value: 0.7462635869565217.\n[I 2024-04-02 08:44:05,819] Trial 11 finished with value: 0.04076086956521739 and parameters: {'C': 0.00013998964584952526, 'gamma': 3.719835063817259, 'kernel': 'linear'}. Best is trial 0 with value: 0.7462635869565217.\n[I 2024-04-02 09:01:28,913] Trial 12 finished with value: 0.7007472826086957 and parameters: {'C': 2084.733975475982, 'gamma': 0.008400298862212066, 'kernel': 'linear'}. Best is trial 0 with value: 0.7462635869565217.\n[I 2024-04-02 09:02:01,600] Trial 13 finished with value: 0.7775135869565217 and parameters: {'C': 7.3613769203439405, 'gamma': 0.870184369386016, 'kernel': 'rbf'}. Best is trial 13 with value: 0.7775135869565217.\n[I 2024-04-02 09:03:58,115] Trial 14 finished with value: 0.352241847826087 and parameters: {'C': 9.314871326941095, 'gamma': 0.00010427777868851077, 'kernel': 'rbf'}. Best is trial 13 with value: 0.7775135869565217.\n[I 2024-04-02 09:04:29,236] Trial 15 finished with value: 0.7506793478260869 and parameters: {'C': 418.3660026616538, 'gamma': 0.003725847801085983, 'kernel': 'rbf'}. Best is trial 13 with value: 0.7775135869565217.\n[I 2024-04-02 09:05:48,126] Trial 16 finished with value: 0.6097146739130435 and parameters: {'C': 647.7428747868156, 'gamma': 72.2624856954784, 'kernel': 'rbf'}. Best is trial 13 with value: 0.7775135869565217.\n[I 2024-04-02 09:06:20,654] Trial 17 finished with value: 0.7401494565217391 and parameters: {'C': 445.03418655069026, 'gamma': 0.0013211113173943014, 'kernel': 'rbf'}. Best is trial 13 with value: 0.7775135869565217.\n[I 2024-04-02 09:06:59,097] Trial 18 finished with value: 0.7754755434782609 and parameters: {'C': 3.2840308792000426, 'gamma': 1.4221174940346686, 'kernel': 'rbf'}. Best is trial 13 with value: 0.7775135869565217.\n[I 2024-04-02 09:08:26,923] Trial 19 finished with value: 0.6100543478260869 and parameters: {'C': 4.154403885500542, 'gamma': 7014.50983031414, 'kernel': 'rbf'}. Best is trial 13 with value: 0.7775135869565217.\n[I 2024-04-02 09:09:43,372] Trial 20 finished with value: 0.6059782608695652 and parameters: {'C': 0.04395095817795301, 'gamma': 1.1946726970521127, 'kernel': 'rbf'}. Best is trial 13 with value: 0.7775135869565217.\n[I 2024-04-02 09:10:13,223] Trial 21 finished with value: 0.7744565217391305 and parameters: {'C': 313.0398321275956, 'gamma': 0.22646152657378568, 'kernel': 'rbf'}. Best is trial 13 with value: 0.7775135869565217.\n[I 2024-04-02 09:10:46,649] Trial 22 finished with value: 0.7483016304347826 and parameters: {'C': 2.845810261302646, 'gamma': 0.16992294351635162, 'kernel': 'rbf'}. Best is trial 13 with value: 0.7775135869565217.\n[I 2024-04-02 09:11:28,684] Trial 23 finished with value: 0.7700407608695652 and parameters: {'C': 128.75485580718342, 'gamma': 1.8275474506968885, 'kernel': 'rbf'}. Best is trial 13 with value: 0.7775135869565217.\n[I 2024-04-02 09:12:31,224] Trial 24 finished with value: 0.5608016304347826 and parameters: {'C': 1.3012560035987881, 'gamma': 11.195067302758154, 'kernel': 'rbf'}. Best is trial 13 with value: 0.7775135869565217.\n[I 2024-04-02 09:13:00,085] Trial 25 finished with value: 0.7775135869565217 and parameters: {'C': 15.575439908514696, 'gamma': 0.4057748706165974, 'kernel': 'rbf'}. Best is trial 13 with value: 0.7775135869565217.\n[I 2024-04-02 09:14:16,844] Trial 26 finished with value: 0.609375 and parameters: {'C': 10.737348658673582, 'gamma': 57.9884270635528, 'kernel': 'rbf'}. Best is trial 13 with value: 0.7775135869565217.\n[I 2024-04-02 09:16:06,868] Trial 27 finished with value: 0.43783967391304346 and parameters: {'C': 0.02769022425146053, 'gamma': 0.05536744787764131, 'kernel': 'rbf'}. Best is trial 13 with value: 0.7775135869565217.\n[I 2024-04-02 09:16:37,838] Trial 28 finished with value: 0.7785326086956522 and parameters: {'C': 22.831137608919338, 'gamma': 0.5782205437362501, 'kernel': 'rbf'}. Best is trial 28 with value: 0.7785326086956522.\n[I 2024-04-02 09:17:10,698] Trial 29 finished with value: 0.7452445652173914 and parameters: {'C': 32.169448587597664, 'gamma': 0.019811557190166067, 'kernel': 'rbf'}. Best is trial 28 with value: 0.7785326086956522.\n[I 2024-04-02 09:17:41,268] Trial 30 finished with value: 0.7802309782608695 and parameters: {'C': 24.687483007898365, 'gamma': 0.6064589964587074, 'kernel': 'rbf'}. Best is trial 30 with value: 0.7802309782608695.\n[I 2024-04-02 09:18:11,313] Trial 31 finished with value: 0.7771739130434783 and parameters: {'C': 25.747126791819706, 'gamma': 0.5317381881904428, 'kernel': 'rbf'}. Best is trial 30 with value: 0.7802309782608695.\n[I 2024-04-02 09:19:27,949] Trial 32 finished with value: 0.647078804347826 and parameters: {'C': 97.38427605411088, 'gamma': 5.073816624506864, 'kernel': 'rbf'}. Best is trial 30 with value: 0.7802309782608695.\n[I 2024-04-02 09:19:56,974] Trial 33 finished with value: 0.7574728260869565 and parameters: {'C': 27.00136203772035, 'gamma': 0.06030532211035462, 'kernel': 'rbf'}. Best is trial 30 with value: 0.7802309782608695.\n[I 2024-04-02 09:20:35,316] Trial 34 finished with value: 0.7367527173913043 and parameters: {'C': 1.536955148942307, 'gamma': 0.14880012326630623, 'kernel': 'rbf'}. Best is trial 30 with value: 0.7802309782608695.\n[I 2024-04-02 09:21:04,570] Trial 35 finished with value: 0.7761548913043478 and parameters: {'C': 156.46315350401653, 'gamma': 0.3463444401210439, 'kernel': 'rbf'}. Best is trial 30 with value: 0.7802309782608695.\n[I 2024-04-02 09:22:10,518] Trial 36 finished with value: 0.6134510869565217 and parameters: {'C': 0.7053985774956967, 'gamma': 3.8015029206851243, 'kernel': 'rbf'}. Best is trial 30 with value: 0.7802309782608695.\n[I 2024-04-02 09:22:40,427] Trial 37 finished with value: 0.7781929347826086 and parameters: {'C': 10.191479212683308, 'gamma': 0.5193680808500362, 'kernel': 'rbf'}. Best is trial 30 with value: 0.7802309782608695.\n[I 2024-04-02 09:23:06,414] Trial 38 finished with value: 0.7265625 and parameters: {'C': 7.066082496482625, 'gamma': 13.60556043230389, 'kernel': 'linear'}. Best is trial 30 with value: 0.7802309782608695.\n[I 2024-04-02 09:24:26,940] Trial 39 finished with value: 0.45040760869565216 and parameters: {'C': 0.14524484128156812, 'gamma': 136.0454089812294, 'kernel': 'rbf'}. Best is trial 30 with value: 0.7802309782608695.\n[I 2024-04-02 09:25:06,316] Trial 40 finished with value: 0.7639266304347826 and parameters: {'C': 1259.9695212456918, 'gamma': 0.06450450932474225, 'kernel': 'rbf'}. Best is trial 30 with value: 0.7802309782608695.\n[I 2024-04-02 09:25:37,267] Trial 41 finished with value: 0.7785326086956522 and parameters: {'C': 49.300199318250534, 'gamma': 0.5341670033790773, 'kernel': 'rbf'}. Best is trial 30 with value: 0.7802309782608695.\n[I 2024-04-02 09:26:07,795] Trial 42 finished with value: 0.7781929347826086 and parameters: {'C': 63.221955315658164, 'gamma': 0.5225423088009613, 'kernel': 'rbf'}. Best is trial 30 with value: 0.7802309782608695.\n[I 2024-04-02 09:26:36,423] Trial 43 finished with value: 0.7652853260869565 and parameters: {'C': 59.267407384021546, 'gamma': 0.11735492142210235, 'kernel': 'rbf'}. Best is trial 30 with value: 0.7802309782608695.\n[I 2024-04-02 09:27:15,175] Trial 44 finished with value: 0.7170516304347826 and parameters: {'C': 54.48371695804142, 'gamma': 2.998338133638984, 'kernel': 'linear'}. Best is trial 30 with value: 0.7802309782608695.\n[I 2024-04-02 09:27:45,007] Trial 45 finished with value: 0.748641304347826 and parameters: {'C': 204.22192524152067, 'gamma': 0.011260312759039279, 'kernel': 'rbf'}. Best is trial 30 with value: 0.7802309782608695.\n[I 2024-04-02 09:28:15,588] Trial 46 finished with value: 0.7795516304347826 and parameters: {'C': 2771.504965909969, 'gamma': 0.588863104301241, 'kernel': 'rbf'}. Best is trial 30 with value: 0.7802309782608695.\n",
          "output_type": "stream"
        }
      ]
    },
    {
      "cell_type": "code",
      "source": [
        "print(f\"Лучшее значение: {study.best_trial.value}\")\n",
        "print(f\"Лучшие параметры: {study.best_params}\")"
      ],
      "metadata": {
        "id": "VVNrdk7VdM4K",
        "trusted": true
      },
      "execution_count": null,
      "outputs": []
    },
    {
      "cell_type": "markdown",
      "source": [
        "*BERT*"
      ],
      "metadata": {
        "id": "__fZgwZsjodd"
      }
    },
    {
      "cell_type": "markdown",
      "source": [
        "*Sberbank - ruBert-base*"
      ],
      "metadata": {
        "id": "8cjPAq5ZR4mW"
      }
    },
    {
      "cell_type": "code",
      "source": [
        "tokenizer = BertTokenizer.from_pretrained(\"sberbank-ai/ruBert-base\")\n",
        "model_bert = BertForSequenceClassification.from_pretrained(\"sberbank-ai/ruBert-base\", num_labels=14)\n",
        "\n",
        "X = df_bert['text'].tolist()\n",
        "y = df_bert['label'].tolist()\n",
        "\n",
        "# Кодирование меток классов\n",
        "label_encoder = LabelEncoder()\n",
        "y_encoded = label_encoder.fit_transform(y)\n",
        "\n",
        "# Разделение данных на обучающий и тестовый наборы\n",
        "X_train, X_test, y_train, y_test = train_test_split(X, y_encoded, test_size=0.2, random_state=42)\n",
        "\n",
        "# Токенизация текста и создание масок внимания\n",
        "train_inputs = tokenizer(X_train, padding=True, truncation=True, return_tensors=\"pt\")\n",
        "train_labels = torch.tensor(y_train)\n",
        "train_masks = train_inputs[\"attention_mask\"]\n",
        "\n",
        "test_inputs = tokenizer(X_test, padding=True, truncation=True, return_tensors=\"pt\")\n",
        "test_labels = torch.tensor(y_test)\n",
        "test_masks = test_inputs[\"attention_mask\"]\n",
        "\n",
        "# Создание DataLoader для обучающего и тестового наборов данных\n",
        "train_dataset = TensorDataset(train_inputs[\"input_ids\"], train_masks, train_labels)\n",
        "train_dataloader = DataLoader(train_dataset, batch_size=16, shuffle=True)\n",
        "\n",
        "test_dataset = TensorDataset(test_inputs[\"input_ids\"], test_masks, test_labels)\n",
        "test_dataloader = DataLoader(test_dataset, batch_size=16, shuffle=False)\n",
        "\n",
        "# Обучение модели\n",
        "optimizer = torch.optim.AdamW(model_bert.parameters(), lr=5e-5)\n",
        "\n",
        "model_bert.train()\n",
        "for epoch in range(1):\n",
        "    for batch in tqdm(train_dataloader, desc=\"Training\"):\n",
        "        input_ids, attention_mask, labels = batch\n",
        "        optimizer.zero_grad()\n",
        "        outputs = model_bert(input_ids=input_ids, attention_mask=attention_mask, labels=labels)\n",
        "        loss = outputs.loss\n",
        "        loss.backward()\n",
        "        optimizer.step()\n",
        "\n",
        "# Оценка качества модели\n",
        "model_bert.eval()\n",
        "predictions = []\n",
        "true_labels = []\n",
        "with torch.no_grad():\n",
        "    for batch in tqdm(test_dataloader, desc=\"Evaluating\"):\n",
        "        input_ids, attention_mask, labels = batch\n",
        "        outputs = model_bert(input_ids=input_ids, attention_mask=attention_mask)\n",
        "        logits = outputs.logits\n",
        "        predicted_class = torch.argmax(logits, dim=-1)\n",
        "        predictions.extend(predicted_class.tolist())\n",
        "        true_labels.extend(labels.tolist())\n",
        "\n",
        "print(classification_report(true_labels, predictions, target_names=label_encoder.classes_))"
      ],
      "metadata": {
        "id": "TdAzz5sKjpvS",
        "outputId": "ef21442a-889d-4525-8d5f-06725fa85d82",
        "execution": {
          "iopub.status.busy": "2024-04-02T10:27:11.189994Z",
          "iopub.execute_input": "2024-04-02T10:27:11.190953Z",
          "iopub.status.idle": "2024-04-02T12:10:57.355313Z",
          "shell.execute_reply.started": "2024-04-02T10:27:11.190919Z",
          "shell.execute_reply": "2024-04-02T12:10:57.354379Z"
        },
        "trusted": true
      },
      "execution_count": null,
      "outputs": [
        {
          "name": "stderr",
          "text": "Some weights of BertForSequenceClassification were not initialized from the model checkpoint at sberbank-ai/ruBert-base and are newly initialized: ['classifier.bias', 'classifier.weight']\nYou should probably TRAIN this model on a down-stream task to be able to use it for predictions and inference.\nAsking to truncate to max_length but no maximum length is provided and the model has no predefined maximum length. Default to no truncation.\nTraining: 100%|██████████| 1640/1640 [1:37:51<00:00,  3.58s/it]\nEvaluating: 100%|██████████| 410/410 [05:40<00:00,  1.20it/s]",
          "output_type": "stream"
        },
        {
          "name": "stdout",
          "text": "                                     precision    recall  f1-score   support\n\n                     FAQ - интернет       0.83      0.48      0.61       172\n              FAQ - тарифы и услуги       0.78      0.69      0.73       740\n                  SIM-карта и номер       0.79      0.96      0.87       559\n                             Баланс       0.80      0.90      0.85       548\n                     Личный кабинет       0.91      0.70      0.79       138\n                   Мобильные услуги       0.83      0.69      0.75       838\n                 Мобильный интернет       0.78      0.84      0.81       265\n                             Оплата       0.76      0.83      0.79       240\n                            Роуминг       0.64      0.59      0.61        78\n                         Устройства       0.86      0.76      0.81       109\n              запрос обратной связи       0.95      0.51      0.67        35\nмобильная связь - зона обслуживания       0.45      0.63      0.52        27\n           мобильная связь - тарифы       0.83      0.92      0.88      2433\n                    тарифы - подбор       0.89      0.59      0.71       378\n\n                           accuracy                           0.82      6560\n                          macro avg       0.79      0.72      0.74      6560\n                       weighted avg       0.82      0.82      0.81      6560\n\n",
          "output_type": "stream"
        },
        {
          "name": "stderr",
          "text": "\n",
          "output_type": "stream"
        }
      ]
    },
    {
      "cell_type": "markdown",
      "source": [
        "*DeepPavlov - ruBert-base*"
      ],
      "metadata": {
        "id": "JeEkj3NFSB4O"
      }
    },
    {
      "cell_type": "code",
      "source": [
        "tokenizer = BertTokenizer.from_pretrained(\"DeepPavlov/rubert-base-cased-sentence\")\n",
        "model = BertForSequenceClassification.from_pretrained(\"DeepPavlov/rubert-base-cased-sentence\", num_labels=14)\n",
        "\n",
        "X = df_bert['text'].tolist()\n",
        "y = df_bert['label'].tolist()\n",
        "\n",
        "# Кодирование меток классов\n",
        "label_encoder = LabelEncoder()\n",
        "y_encoded = label_encoder.fit_transform(y)\n",
        "\n",
        "# Разделение данных на обучающий и тестовый наборы\n",
        "X_train, X_test, y_train, y_test = train_test_split(X, y_encoded, test_size=0.2, random_state=42)\n",
        "\n",
        "# Токенизация текста и создание масок внимания\n",
        "train_inputs = tokenizer(X_train, padding=True, truncation=True, return_tensors=\"pt\")\n",
        "train_labels = torch.tensor(y_train)\n",
        "train_masks = train_inputs[\"attention_mask\"]\n",
        "\n",
        "test_inputs = tokenizer(X_test, padding=True, truncation=True, return_tensors=\"pt\")\n",
        "test_labels = torch.tensor(y_test)\n",
        "test_masks = test_inputs[\"attention_mask\"]\n",
        "\n",
        "# Создание DataLoader для обучающего и тестового наборов данных\n",
        "train_dataset = TensorDataset(train_inputs[\"input_ids\"], train_masks, train_labels)\n",
        "train_dataloader = DataLoader(train_dataset, batch_size=16, shuffle=True)\n",
        "\n",
        "test_dataset = TensorDataset(test_inputs[\"input_ids\"], test_masks, test_labels)\n",
        "test_dataloader = DataLoader(test_dataset, batch_size=16, shuffle=False)\n",
        "\n",
        "# Обучение модели\n",
        "optimizer = torch.optim.AdamW(model.parameters(), lr=5e-5)\n",
        "\n",
        "model.train()\n",
        "for epoch in range(1):\n",
        "    for batch in tqdm(train_dataloader, desc=\"Training\"):\n",
        "        input_ids, attention_mask, labels = batch\n",
        "        optimizer.zero_grad()\n",
        "        outputs = model(input_ids=input_ids, attention_mask=attention_mask, labels=labels)\n",
        "        loss = outputs.loss\n",
        "        loss.backward()\n",
        "        optimizer.step()\n",
        "\n",
        "# Оценка качества модели\n",
        "model.eval()\n",
        "predictions = []\n",
        "true_labels = []\n",
        "with torch.no_grad():\n",
        "    for batch in tqdm(test_dataloader, desc=\"Evaluating\"):\n",
        "        input_ids, attention_mask, labels = batch\n",
        "        outputs = model(input_ids=input_ids, attention_mask=attention_mask)\n",
        "        logits = outputs.logits\n",
        "        predicted_class = torch.argmax(logits, dim=-1)\n",
        "        predictions.extend(predicted_class.tolist())\n",
        "        true_labels.extend(labels.tolist())\n",
        "\n",
        "print(classification_report(true_labels, predictions, target_names=label_encoder.classes_))"
      ],
      "metadata": {
        "id": "dJwqzYRHpMKD",
        "execution": {
          "iopub.status.busy": "2024-04-02T12:10:57.356974Z",
          "iopub.execute_input": "2024-04-02T12:10:57.357276Z",
          "iopub.status.idle": "2024-04-02T13:51:02.635675Z",
          "shell.execute_reply.started": "2024-04-02T12:10:57.357249Z",
          "shell.execute_reply": "2024-04-02T13:51:02.634454Z"
        },
        "trusted": true,
        "colab": {
          "referenced_widgets": [
            "a0d3ddd9d3864bd4bce0e9bcae4686c7",
            "aaab440976e649d79bf32ed0c81c13f4",
            "91c8615949aa40ec89caeb6a07dca47b",
            "e2dfaae16ea94e3584b12fc19134a91e",
            "c6a17731554d425e8529edb4f8261a28"
          ]
        },
        "outputId": "ea367e32-fda2-4f5a-f048-a8d2745fdf8c"
      },
      "execution_count": null,
      "outputs": [
        {
          "output_type": "display_data",
          "data": {
            "text/plain": "tokenizer_config.json:   0%|          | 0.00/24.0 [00:00<?, ?B/s]",
            "application/vnd.jupyter.widget-view+json": {
              "version_major": 2,
              "version_minor": 0,
              "model_id": "a0d3ddd9d3864bd4bce0e9bcae4686c7"
            }
          },
          "metadata": {}
        },
        {
          "output_type": "display_data",
          "data": {
            "text/plain": "vocab.txt:   0%|          | 0.00/1.65M [00:00<?, ?B/s]",
            "application/vnd.jupyter.widget-view+json": {
              "version_major": 2,
              "version_minor": 0,
              "model_id": "aaab440976e649d79bf32ed0c81c13f4"
            }
          },
          "metadata": {}
        },
        {
          "output_type": "display_data",
          "data": {
            "text/plain": "special_tokens_map.json:   0%|          | 0.00/112 [00:00<?, ?B/s]",
            "application/vnd.jupyter.widget-view+json": {
              "version_major": 2,
              "version_minor": 0,
              "model_id": "91c8615949aa40ec89caeb6a07dca47b"
            }
          },
          "metadata": {}
        },
        {
          "output_type": "display_data",
          "data": {
            "text/plain": "config.json:   0%|          | 0.00/642 [00:00<?, ?B/s]",
            "application/vnd.jupyter.widget-view+json": {
              "version_major": 2,
              "version_minor": 0,
              "model_id": "e2dfaae16ea94e3584b12fc19134a91e"
            }
          },
          "metadata": {}
        },
        {
          "output_type": "display_data",
          "data": {
            "text/plain": "pytorch_model.bin:   0%|          | 0.00/711M [00:00<?, ?B/s]",
            "application/vnd.jupyter.widget-view+json": {
              "version_major": 2,
              "version_minor": 0,
              "model_id": "c6a17731554d425e8529edb4f8261a28"
            }
          },
          "metadata": {}
        },
        {
          "name": "stderr",
          "text": "Some weights of BertForSequenceClassification were not initialized from the model checkpoint at DeepPavlov/rubert-base-cased-sentence and are newly initialized: ['classifier.bias', 'classifier.weight']\nYou should probably TRAIN this model on a down-stream task to be able to use it for predictions and inference.\nAsking to truncate to max_length but no maximum length is provided and the model has no predefined maximum length. Default to no truncation.\nTraining: 100%|██████████| 1640/1640 [1:33:53<00:00,  3.43s/it]\nEvaluating: 100%|██████████| 410/410 [05:57<00:00,  1.15it/s]",
          "output_type": "stream"
        },
        {
          "name": "stdout",
          "text": "                                     precision    recall  f1-score   support\n\n                     FAQ - интернет       0.51      0.70      0.59       172\n              FAQ - тарифы и услуги       0.77      0.64      0.70       740\n                  SIM-карта и номер       0.85      0.93      0.89       559\n                             Баланс       0.85      0.87      0.86       548\n                     Личный кабинет       0.82      0.78      0.80       138\n                   Мобильные услуги       0.77      0.71      0.74       838\n                 Мобильный интернет       0.91      0.72      0.80       265\n                             Оплата       0.77      0.79      0.78       240\n                            Роуминг       0.82      0.60      0.70        78\n                         Устройства       0.83      0.83      0.83       109\n              запрос обратной связи       0.70      0.74      0.72        35\nмобильная связь - зона обслуживания       1.00      0.44      0.62        27\n           мобильная связь - тарифы       0.83      0.92      0.87      2433\n                    тарифы - подбор       0.83      0.63      0.71       378\n\n                           accuracy                           0.81      6560\n                          macro avg       0.80      0.74      0.76      6560\n                       weighted avg       0.81      0.81      0.81      6560\n\n",
          "output_type": "stream"
        },
        {
          "name": "stderr",
          "text": "\n",
          "output_type": "stream"
        }
      ]
    },
    {
      "cell_type": "markdown",
      "source": [
        "# Сравнение моделей"
      ],
      "metadata": {
        "id": "icqgpEgm2kDR"
      }
    },
    {
      "cell_type": "code",
      "source": [
        "model_scores = {'sberbank-ai/ruBert-base': 0.820,\n",
        "    'DeepPavlov/rubert-base-cased-sentence': 0.810,\n",
        "    'Logistic Regression': 0.788,\n",
        "    'SVM': 0.780,\n",
        "    'Multinominal Naive Bayes': 0.737,\n",
        "    'Random Forest': 0.633,\n",
        "    'DummyClassifier': 0.365\n",
        "}\n",
        "\n",
        "# Создание таблицы из словаря\n",
        "score_df = pd.DataFrame(list(model_scores.items()), columns=['Model', 'Score'])\n",
        "\n",
        "\n",
        "print(score_df)\n",
        "\n",
        "\n",
        "plt.figure(figsize=(10, 7))\n",
        "plt.bar(score_df['Model'], score_df['Score'], color='skyblue')\n",
        "plt.xlabel('Models')\n",
        "plt.ylabel('Scores')\n",
        "plt.title('Model Scores')\n",
        "plt.xticks(rotation=45)\n",
        "plt.tight_layout()\n",
        "plt.show()"
      ],
      "metadata": {
        "colab": {
          "base_uri": "https://localhost:8080/",
          "height": 846
        },
        "id": "x_OuyP3J2Tf3",
        "outputId": "0e06b31e-81aa-4fd2-8d61-33b6e4534173"
      },
      "execution_count": 14,
      "outputs": [
        {
          "output_type": "stream",
          "name": "stdout",
          "text": [
            "                                   Model  Score\n",
            "0                sberbank-ai/ruBert-base  0.820\n",
            "1  DeepPavlov/rubert-base-cased-sentence  0.810\n",
            "2                    Logistic Regression  0.788\n",
            "3                                    SVM  0.780\n",
            "4               Multinominal Naive Bayes  0.737\n",
            "5                          Random Forest  0.633\n",
            "6                        DummyClassifier  0.365\n"
          ]
        },
        {
          "output_type": "display_data",
          "data": {
            "text/plain": [
              "<Figure size 1000x700 with 1 Axes>"
            ],
            "image/png": "[encoded data removed]"
          },
          "metadata": {}
        }
      ]
    },
    {
      "cell_type": "markdown",
      "source": [
        "# Вывод"
      ],
      "metadata": {
        "id": "mSE5UaYOJH5F"
      }
    },
    {
      "cell_type": "markdown",
      "source": [
        "В ходе данного исследования была проведена обработка текста и создание новых столбцов-признаков для улучшения качества данных. Далее были построены различные модели многоклассовой классификации для отзывов клиентов с учетом балансировки классов. Лучшими оказались вариации BERT от Сбера и DeepPavlov с показателями F1-score равными 0.820 и 0.810 соответственно, в то время как показатель baseline от Dummy Classifier составил 0.365.\n",
        "\n",
        "Другие модели проявили себя наилучшим образом при обработке текста с использованием TF-IDF и метода GridSearch для подбора параметров. Однако, итоговый результат можно улучшить с использованием дополнительных методов.\n",
        "\n",
        "В качестве одного из потенциальных способов улучшения результатов можно использовать генерацию синтетических данных с помощью генеративно-состязательных сетей (GAN). GAN позволяют создавать новые примеры данных, имитирующие характеристики и распределение исходного набора данных. В случае данной задачи, GAN могут быть использованы для создания синтетических текстовых образцов, которые будут содержать схожие с исходными образцы языковых характеристик и структуру. Эти синтетические данные могут быть затем использованы для увеличения размера обучающего набора данных и улучшения обобщающей способности модели."
      ],
      "metadata": {
        "id": "UPi_D_N1JJWD"
      }
    }
  ]
}