{
  "nbformat": 4,
  "nbformat_minor": 0,
  "metadata": {
    "colab": {
      "provenance": []
    },
    "kernelspec": {
      "name": "python3",
      "display_name": "Python 3"
    },
    "language_info": {
      "name": "python"
    }
  },
  "cells": [
    {
      "cell_type": "markdown",
      "source": [
        "В таблице regs.csv находится количество регистраций пользователей в еЛаме по месяцам по июль 2022\n",
        "Требуется написать Python-скрипт, который прогнозирует количество регистраций в августе 2022.\n",
        "\n",
        "Ответ предоставить в виде кода скрипта в Jupiter Notebook или Google Colab и таблицы, содержащей исходный временной ряд и прогнозное значение на 2022-08.\n"
      ],
      "metadata": {
        "id": "KCWFkb7lnZXS"
      }
    },
    {
      "cell_type": "code",
      "execution_count": 1,
      "metadata": {
        "colab": {
          "base_uri": "https://localhost:8080/"
        },
        "id": "pSMwEWezIrmA",
        "outputId": "454601fe-3087-4544-8fb7-6b2d6a098f12"
      },
      "outputs": [
        {
          "output_type": "stream",
          "name": "stdout",
          "text": [
            "Requirement already satisfied: pmdarima in /usr/local/lib/python3.10/dist-packages (2.0.3)\n",
            "Requirement already satisfied: joblib>=0.11 in /usr/local/lib/python3.10/dist-packages (from pmdarima) (1.3.1)\n",
            "Requirement already satisfied: Cython!=0.29.18,!=0.29.31,>=0.29 in /usr/local/lib/python3.10/dist-packages (from pmdarima) (0.29.36)\n",
            "Requirement already satisfied: numpy>=1.21.2 in /usr/local/lib/python3.10/dist-packages (from pmdarima) (1.22.4)\n",
            "Requirement already satisfied: pandas>=0.19 in /usr/local/lib/python3.10/dist-packages (from pmdarima) (1.5.3)\n",
            "Requirement already satisfied: scikit-learn>=0.22 in /usr/local/lib/python3.10/dist-packages (from pmdarima) (1.2.2)\n",
            "Requirement already satisfied: scipy>=1.3.2 in /usr/local/lib/python3.10/dist-packages (from pmdarima) (1.10.1)\n",
            "Requirement already satisfied: statsmodels>=0.13.2 in /usr/local/lib/python3.10/dist-packages (from pmdarima) (0.13.5)\n",
            "Requirement already satisfied: urllib3 in /usr/local/lib/python3.10/dist-packages (from pmdarima) (1.26.16)\n",
            "Requirement already satisfied: setuptools!=50.0.0,>=38.6.0 in /usr/local/lib/python3.10/dist-packages (from pmdarima) (67.7.2)\n",
            "Requirement already satisfied: python-dateutil>=2.8.1 in /usr/local/lib/python3.10/dist-packages (from pandas>=0.19->pmdarima) (2.8.2)\n",
            "Requirement already satisfied: pytz>=2020.1 in /usr/local/lib/python3.10/dist-packages (from pandas>=0.19->pmdarima) (2022.7.1)\n",
            "Requirement already satisfied: threadpoolctl>=2.0.0 in /usr/local/lib/python3.10/dist-packages (from scikit-learn>=0.22->pmdarima) (3.2.0)\n",
            "Requirement already satisfied: patsy>=0.5.2 in /usr/local/lib/python3.10/dist-packages (from statsmodels>=0.13.2->pmdarima) (0.5.3)\n",
            "Requirement already satisfied: packaging>=21.3 in /usr/local/lib/python3.10/dist-packages (from statsmodels>=0.13.2->pmdarima) (23.1)\n",
            "Requirement already satisfied: six in /usr/local/lib/python3.10/dist-packages (from patsy>=0.5.2->statsmodels>=0.13.2->pmdarima) (1.16.0)\n",
            "Requirement already satisfied: lightgbm in /usr/local/lib/python3.10/dist-packages (3.3.5)\n",
            "Requirement already satisfied: wheel in /usr/local/lib/python3.10/dist-packages (from lightgbm) (0.40.0)\n",
            "Requirement already satisfied: numpy in /usr/local/lib/python3.10/dist-packages (from lightgbm) (1.22.4)\n",
            "Requirement already satisfied: scipy in /usr/local/lib/python3.10/dist-packages (from lightgbm) (1.10.1)\n",
            "Requirement already satisfied: scikit-learn!=0.22.0 in /usr/local/lib/python3.10/dist-packages (from lightgbm) (1.2.2)\n",
            "Requirement already satisfied: joblib>=1.1.1 in /usr/local/lib/python3.10/dist-packages (from scikit-learn!=0.22.0->lightgbm) (1.3.1)\n",
            "Requirement already satisfied: threadpoolctl>=2.0.0 in /usr/local/lib/python3.10/dist-packages (from scikit-learn!=0.22.0->lightgbm) (3.2.0)\n"
          ]
        }
      ],
      "source": [
        "import warnings\n",
        "warnings.simplefilter(action='ignore', category=FutureWarning)\n",
        "from sklearn.dummy import DummyClassifier\n",
        "import itertools\n",
        "import numpy as np\n",
        "import pandas as pd\n",
        "import matplotlib.pyplot as plt\n",
        "from statsmodels.tsa.statespace.sarimax import SARIMAX\n",
        "from sklearn.metrics import mean_squared_error, mean_absolute_error\n",
        "from statsmodels.tsa.seasonal import seasonal_decompose\n",
        "from statsmodels.tsa.stattools import adfuller\n",
        "from statsmodels.tsa.arima.model import ARIMA\n",
        "!pip install pmdarima\n",
        "from pmdarima.arima import auto_arima\n",
        "!pip install lightgbm\n",
        "from lightgbm import LGBMRegressor\n",
        "from sklearn.linear_model import LinearRegression\n",
        "from sklearn.model_selection import train_test_split\n",
        "from pandas.tseries.holiday import Holiday, AbstractHolidayCalendar\n",
        "from pandas.tseries.offsets import CustomBusinessDay"
      ]
    },
    {
      "cell_type": "code",
      "source": [
        "regs = pd.read_csv('regs.csv', parse_dates=['period'], index_col='period')"
      ],
      "metadata": {
        "id": "vduyss5yJWmZ"
      },
      "execution_count": 2,
      "outputs": []
    },
    {
      "cell_type": "code",
      "source": [
        "regs\n"
      ],
      "metadata": {
        "colab": {
          "base_uri": "https://localhost:8080/",
          "height": 896
        },
        "id": "hMVM_kGLnIQK",
        "outputId": "271cb59a-204a-4ae3-929e-7aeb518d1a3e"
      },
      "execution_count": 3,
      "outputs": [
        {
          "output_type": "execute_result",
          "data": {
            "text/plain": [
              "            users\n",
              "period           \n",
              "2020-06-01   8623\n",
              "2020-07-01   7904\n",
              "2020-08-01   8237\n",
              "2020-09-01   9267\n",
              "2020-10-01   8868\n",
              "2020-11-01   8058\n",
              "2020-12-01   7422\n",
              "2021-01-01   8233\n",
              "2021-02-01   8571\n",
              "2021-03-01   8967\n",
              "2021-04-01   8124\n",
              "2021-05-01   8548\n",
              "2021-06-01   9561\n",
              "2021-07-01   9619\n",
              "2021-08-01   9269\n",
              "2021-09-01  10085\n",
              "2021-10-01   9206\n",
              "2021-11-01   9012\n",
              "2021-12-01   5549\n",
              "2022-01-01   5535\n",
              "2022-02-01   5573\n",
              "2022-03-01   6367\n",
              "2022-04-01   5258\n",
              "2022-05-01   4199\n",
              "2022-06-01   4175\n",
              "2022-07-01   4235"
            ],
            "text/html": [
              "\n",
              "\n",
              "  <div id=\"df-ac31acf0-9e10-4f2f-98af-03fc1ca1b753\">\n",
              "    <div class=\"colab-df-container\">\n",
              "      <div>\n",
              "<style scoped>\n",
              "    .dataframe tbody tr th:only-of-type {\n",
              "        vertical-align: middle;\n",
              "    }\n",
              "\n",
              "    .dataframe tbody tr th {\n",
              "        vertical-align: top;\n",
              "    }\n",
              "\n",
              "    .dataframe thead th {\n",
              "        text-align: right;\n",
              "    }\n",
              "</style>\n",
              "<table border=\"1\" class=\"dataframe\">\n",
              "  <thead>\n",
              "    <tr style=\"text-align: right;\">\n",
              "      <th></th>\n",
              "      <th>users</th>\n",
              "    </tr>\n",
              "    <tr>\n",
              "      <th>period</th>\n",
              "      <th></th>\n",
              "    </tr>\n",
              "  </thead>\n",
              "  <tbody>\n",
              "    <tr>\n",
              "      <th>2020-06-01</th>\n",
              "      <td>8623</td>\n",
              "    </tr>\n",
              "    <tr>\n",
              "      <th>2020-07-01</th>\n",
              "      <td>7904</td>\n",
              "    </tr>\n",
              "    <tr>\n",
              "      <th>2020-08-01</th>\n",
              "      <td>8237</td>\n",
              "    </tr>\n",
              "    <tr>\n",
              "      <th>2020-09-01</th>\n",
              "      <td>9267</td>\n",
              "    </tr>\n",
              "    <tr>\n",
              "      <th>2020-10-01</th>\n",
              "      <td>8868</td>\n",
              "    </tr>\n",
              "    <tr>\n",
              "      <th>2020-11-01</th>\n",
              "      <td>8058</td>\n",
              "    </tr>\n",
              "    <tr>\n",
              "      <th>2020-12-01</th>\n",
              "      <td>7422</td>\n",
              "    </tr>\n",
              "    <tr>\n",
              "      <th>2021-01-01</th>\n",
              "      <td>8233</td>\n",
              "    </tr>\n",
              "    <tr>\n",
              "      <th>2021-02-01</th>\n",
              "      <td>8571</td>\n",
              "    </tr>\n",
              "    <tr>\n",
              "      <th>2021-03-01</th>\n",
              "      <td>8967</td>\n",
              "    </tr>\n",
              "    <tr>\n",
              "      <th>2021-04-01</th>\n",
              "      <td>8124</td>\n",
              "    </tr>\n",
              "    <tr>\n",
              "      <th>2021-05-01</th>\n",
              "      <td>8548</td>\n",
              "    </tr>\n",
              "    <tr>\n",
              "      <th>2021-06-01</th>\n",
              "      <td>9561</td>\n",
              "    </tr>\n",
              "    <tr>\n",
              "      <th>2021-07-01</th>\n",
              "      <td>9619</td>\n",
              "    </tr>\n",
              "    <tr>\n",
              "      <th>2021-08-01</th>\n",
              "      <td>9269</td>\n",
              "    </tr>\n",
              "    <tr>\n",
              "      <th>2021-09-01</th>\n",
              "      <td>10085</td>\n",
              "    </tr>\n",
              "    <tr>\n",
              "      <th>2021-10-01</th>\n",
              "      <td>9206</td>\n",
              "    </tr>\n",
              "    <tr>\n",
              "      <th>2021-11-01</th>\n",
              "      <td>9012</td>\n",
              "    </tr>\n",
              "    <tr>\n",
              "      <th>2021-12-01</th>\n",
              "      <td>5549</td>\n",
              "    </tr>\n",
              "    <tr>\n",
              "      <th>2022-01-01</th>\n",
              "      <td>5535</td>\n",
              "    </tr>\n",
              "    <tr>\n",
              "      <th>2022-02-01</th>\n",
              "      <td>5573</td>\n",
              "    </tr>\n",
              "    <tr>\n",
              "      <th>2022-03-01</th>\n",
              "      <td>6367</td>\n",
              "    </tr>\n",
              "    <tr>\n",
              "      <th>2022-04-01</th>\n",
              "      <td>5258</td>\n",
              "    </tr>\n",
              "    <tr>\n",
              "      <th>2022-05-01</th>\n",
              "      <td>4199</td>\n",
              "    </tr>\n",
              "    <tr>\n",
              "      <th>2022-06-01</th>\n",
              "      <td>4175</td>\n",
              "    </tr>\n",
              "    <tr>\n",
              "      <th>2022-07-01</th>\n",
              "      <td>4235</td>\n",
              "    </tr>\n",
              "  </tbody>\n",
              "</table>\n",
              "</div>\n",
              "      <button class=\"colab-df-convert\" onclick=\"convertToInteractive('df-ac31acf0-9e10-4f2f-98af-03fc1ca1b753')\"\n",
              "              title=\"Convert this dataframe to an interactive table.\"\n",
              "              style=\"display:none;\">\n",
              "\n",
              "  <svg xmlns=\"http://www.w3.org/2000/svg\" height=\"24px\"viewBox=\"0 0 24 24\"\n",
              "       width=\"24px\">\n",
              "    <path d=\"M0 0h24v24H0V0z\" fill=\"none\"/>\n",
              "    <path d=\"M18.56 5.44l.94 2.06.94-2.06 2.06-.94-2.06-.94-.94-2.06-.94 2.06-2.06.94zm-11 1L8.5 8.5l.94-2.06 2.06-.94-2.06-.94L8.5 2.5l-.94 2.06-2.06.94zm10 10l.94 2.06.94-2.06 2.06-.94-2.06-.94-.94-2.06-.94 2.06-2.06.94z\"/><path d=\"M17.41 7.96l-1.37-1.37c-.4-.4-.92-.59-1.43-.59-.52 0-1.04.2-1.43.59L10.3 9.45l-7.72 7.72c-.78.78-.78 2.05 0 2.83L4 21.41c.39.39.9.59 1.41.59.51 0 1.02-.2 1.41-.59l7.78-7.78 2.81-2.81c.8-.78.8-2.07 0-2.86zM5.41 20L4 18.59l7.72-7.72 1.47 1.35L5.41 20z\"/>\n",
              "  </svg>\n",
              "      </button>\n",
              "\n",
              "\n",
              "\n",
              "    <div id=\"df-3916315e-ba8e-4bf4-b7f2-e1ea44440d69\">\n",
              "      <button class=\"colab-df-quickchart\" onclick=\"quickchart('df-3916315e-ba8e-4bf4-b7f2-e1ea44440d69')\"\n",
              "              title=\"Suggest charts.\"\n",
              "              style=\"display:none;\">\n",
              "\n",
              "<svg xmlns=\"http://www.w3.org/2000/svg\" height=\"24px\"viewBox=\"0 0 24 24\"\n",
              "     width=\"24px\">\n",
              "    <g>\n",
              "        <path d=\"M19 3H5c-1.1 0-2 .9-2 2v14c0 1.1.9 2 2 2h14c1.1 0 2-.9 2-2V5c0-1.1-.9-2-2-2zM9 17H7v-7h2v7zm4 0h-2V7h2v10zm4 0h-2v-4h2v4z\"/>\n",
              "    </g>\n",
              "</svg>\n",
              "      </button>\n",
              "    </div>\n",
              "\n",
              "<style>\n",
              "  .colab-df-quickchart {\n",
              "    background-color: #E8F0FE;\n",
              "    border: none;\n",
              "    border-radius: 50%;\n",
              "    cursor: pointer;\n",
              "    display: none;\n",
              "    fill: #1967D2;\n",
              "    height: 32px;\n",
              "    padding: 0 0 0 0;\n",
              "    width: 32px;\n",
              "  }\n",
              "\n",
              "  .colab-df-quickchart:hover {\n",
              "    background-color: #E2EBFA;\n",
              "    box-shadow: 0px 1px 2px rgba(60, 64, 67, 0.3), 0px 1px 3px 1px rgba(60, 64, 67, 0.15);\n",
              "    fill: #174EA6;\n",
              "  }\n",
              "\n",
              "  [theme=dark] .colab-df-quickchart {\n",
              "    background-color: #3B4455;\n",
              "    fill: #D2E3FC;\n",
              "  }\n",
              "\n",
              "  [theme=dark] .colab-df-quickchart:hover {\n",
              "    background-color: #434B5C;\n",
              "    box-shadow: 0px 1px 3px 1px rgba(0, 0, 0, 0.15);\n",
              "    filter: drop-shadow(0px 1px 2px rgba(0, 0, 0, 0.3));\n",
              "    fill: #FFFFFF;\n",
              "  }\n",
              "</style>\n",
              "\n",
              "    <script>\n",
              "      async function quickchart(key) {\n",
              "        const containerElement = document.querySelector('#' + key);\n",
              "        const charts = await google.colab.kernel.invokeFunction(\n",
              "            'suggestCharts', [key], {});\n",
              "      }\n",
              "    </script>\n",
              "\n",
              "      <script>\n",
              "\n",
              "function displayQuickchartButton(domScope) {\n",
              "  let quickchartButtonEl =\n",
              "    domScope.querySelector('#df-3916315e-ba8e-4bf4-b7f2-e1ea44440d69 button.colab-df-quickchart');\n",
              "  quickchartButtonEl.style.display =\n",
              "    google.colab.kernel.accessAllowed ? 'block' : 'none';\n",
              "}\n",
              "\n",
              "        displayQuickchartButton(document);\n",
              "      </script>\n",
              "      <style>\n",
              "    .colab-df-container {\n",
              "      display:flex;\n",
              "      flex-wrap:wrap;\n",
              "      gap: 12px;\n",
              "    }\n",
              "\n",
              "    .colab-df-convert {\n",
              "      background-color: #E8F0FE;\n",
              "      border: none;\n",
              "      border-radius: 50%;\n",
              "      cursor: pointer;\n",
              "      display: none;\n",
              "      fill: #1967D2;\n",
              "      height: 32px;\n",
              "      padding: 0 0 0 0;\n",
              "      width: 32px;\n",
              "    }\n",
              "\n",
              "    .colab-df-convert:hover {\n",
              "      background-color: #E2EBFA;\n",
              "      box-shadow: 0px 1px 2px rgba(60, 64, 67, 0.3), 0px 1px 3px 1px rgba(60, 64, 67, 0.15);\n",
              "      fill: #174EA6;\n",
              "    }\n",
              "\n",
              "    [theme=dark] .colab-df-convert {\n",
              "      background-color: #3B4455;\n",
              "      fill: #D2E3FC;\n",
              "    }\n",
              "\n",
              "    [theme=dark] .colab-df-convert:hover {\n",
              "      background-color: #434B5C;\n",
              "      box-shadow: 0px 1px 3px 1px rgba(0, 0, 0, 0.15);\n",
              "      filter: drop-shadow(0px 1px 2px rgba(0, 0, 0, 0.3));\n",
              "      fill: #FFFFFF;\n",
              "    }\n",
              "  </style>\n",
              "\n",
              "      <script>\n",
              "        const buttonEl =\n",
              "          document.querySelector('#df-ac31acf0-9e10-4f2f-98af-03fc1ca1b753 button.colab-df-convert');\n",
              "        buttonEl.style.display =\n",
              "          google.colab.kernel.accessAllowed ? 'block' : 'none';\n",
              "\n",
              "        async function convertToInteractive(key) {\n",
              "          const element = document.querySelector('#df-ac31acf0-9e10-4f2f-98af-03fc1ca1b753');\n",
              "          const dataTable =\n",
              "            await google.colab.kernel.invokeFunction('convertToInteractive',\n",
              "                                                     [key], {});\n",
              "          if (!dataTable) return;\n",
              "\n",
              "          const docLinkHtml = 'Like what you see? Visit the ' +\n",
              "            '<a target=\"_blank\" href=https://colab.research.google.com/notebooks/data_table.ipynb>data table notebook</a>'\n",
              "            + ' to learn more about interactive tables.';\n",
              "          element.innerHTML = '';\n",
              "          dataTable['output_type'] = 'display_data';\n",
              "          await google.colab.output.renderOutput(dataTable, element);\n",
              "          const docLink = document.createElement('div');\n",
              "          docLink.innerHTML = docLinkHtml;\n",
              "          element.appendChild(docLink);\n",
              "        }\n",
              "      </script>\n",
              "    </div>\n",
              "  </div>\n"
            ]
          },
          "metadata": {},
          "execution_count": 3
        }
      ]
    },
    {
      "cell_type": "code",
      "source": [
        "# Визуализация временного ряда\n",
        "regs.plot(figsize=(12, 6))\n",
        "plt.xlabel('Дата')\n",
        "plt.ylabel('Регистрации')\n",
        "plt.title('Количество регистраций')\n",
        "plt.show()"
      ],
      "metadata": {
        "colab": {
          "base_uri": "https://localhost:8080/",
          "height": 580
        },
        "id": "m1OHyFPMnMnQ",
        "outputId": "a7f9bf56-2b18-49f8-d2f8-79852e221cc0"
      },
      "execution_count": 4,
      "outputs": [
        {
          "output_type": "display_data",
          "data": {
            "text/plain": [
              "<Figure size 1200x600 with 1 Axes>"
            ],
            "image/png": "[encoded data removed]"
          },
          "metadata": {}
        }
      ]
    },
    {
      "cell_type": "code",
      "source": [
        "from pylab import rcParams\n",
        "rcParams['figure.figsize'] = 11, 9\n",
        "\n",
        "decompose = seasonal_decompose(regs)\n",
        "decompose.plot()\n",
        "\n",
        "plt.show()"
      ],
      "metadata": {
        "colab": {
          "base_uri": "https://localhost:8080/",
          "height": 907
        },
        "id": "dcfYhh2BvWER",
        "outputId": "bf3aef14-5532-49b6-dd47-38e4e88ed599"
      },
      "execution_count": 5,
      "outputs": [
        {
          "output_type": "display_data",
          "data": {
            "text/plain": [
              "<Figure size 1100x900 with 4 Axes>"
            ],
            "image/png": "[encoded data removed]"
          },
          "metadata": {}
        }
      ]
    },
    {
      "cell_type": "markdown",
      "source": [
        "Проверим временной ряд на стационарность. Используем пороговое значение, равное 0,05 (5%)"
      ],
      "metadata": {
        "id": "WsQkf1IGwdAb"
      }
    },
    {
      "cell_type": "code",
      "source": [
        "adf_test = adfuller(regs['users'])\n",
        "\n",
        "# выведем p-value\n",
        "print('p-value = ' + str(adf_test[1]))"
      ],
      "metadata": {
        "colab": {
          "base_uri": "https://localhost:8080/"
        },
        "id": "zlhX-CyVvpH_",
        "outputId": "73403285-9664-4426-f1b2-924ebf1942b1"
      },
      "execution_count": 6,
      "outputs": [
        {
          "output_type": "stream",
          "name": "stdout",
          "text": [
            "p-value = 0.8617883036448093\n"
          ]
        }
      ]
    },
    {
      "cell_type": "markdown",
      "source": [
        "P-value - явно выше 0.05, можем сделать вывод, что ряд нестационарен.\n",
        "\n"
      ],
      "metadata": {
        "id": "lSefewO_8mkW"
      }
    },
    {
      "cell_type": "markdown",
      "source": [
        "## Добавим новые признаки в исходную таблицу"
      ],
      "metadata": {
        "id": "IpPxU6eCI252"
      }
    },
    {
      "cell_type": "markdown",
      "source": [
        "Создадим столбец с количеством дней в месяце"
      ],
      "metadata": {
        "id": "98PwR5d7I99n"
      }
    },
    {
      "cell_type": "code",
      "source": [
        "regs['days_in_month'] = regs.index.days_in_month\n"
      ],
      "metadata": {
        "id": "k1-GNOvjIu2J"
      },
      "execution_count": 7,
      "outputs": []
    },
    {
      "cell_type": "markdown",
      "source": [
        "Создадим столбец выходных и праздников"
      ],
      "metadata": {
        "id": "lQnkj1nMJB_f"
      }
    },
    {
      "cell_type": "code",
      "source": [
        "class RussianHolidays(AbstractHolidayCalendar):\n",
        "    rules = [\n",
        "        Holiday('Новый Год', month=1, day=1),\n",
        "        Holiday('Рождество', month=1, day=7),\n",
        "        Holiday('День защитника отечества', month=2, day=23),\n",
        "        Holiday('Международный женский день', month=3, day=8),\n",
        "        Holiday('День труда', month=5, day=1),\n",
        "        Holiday('День Победы', month=5, day=9),\n",
        "        Holiday('День России', month=6, day=12),\n",
        "        Holiday('День народного единства', month=11, day=4),\n",
        "    ]\n",
        "\n",
        "# Создаем календарь с праздниками России\n",
        "rus_cal = RussianHolidays()\n",
        "\n",
        "# Создаем массив с датами, для которых будем проверять, являются ли они выходными или праздниками\n",
        "dates = pd.date_range(start='2020-06-01', end='2022-07-02', freq='D')\n",
        "\n",
        "# Создаем серию с информацией о том, являются ли даты выходными или праздниками\n",
        "is_holiday_series = dates.to_series().isin(rus_cal.holidays(start=dates.min(), end=dates.max())) | dates.to_series().dt.dayofweek.isin([5, 6])\n",
        "\n",
        "# Создаем DataFrame с датами и флагами выходных/праздничных дней\n",
        "holidays_df = pd.DataFrame({'date': dates, 'is_holiday': is_holiday_series})\n",
        "\n",
        "\n",
        "\n",
        "regs = pd.merge(regs, holidays_df, left_on='period', right_on='date', how='left')\n",
        "\n",
        "regs.drop(columns='date', inplace=True)\n",
        "\n",
        "print(regs)"
      ],
      "metadata": {
        "colab": {
          "base_uri": "https://localhost:8080/"
        },
        "id": "A8iXZe2pJF8b",
        "outputId": "52f73032-87ec-4a7e-c0e6-3d7d8e11075b"
      },
      "execution_count": 8,
      "outputs": [
        {
          "output_type": "stream",
          "name": "stdout",
          "text": [
            "    users  days_in_month  is_holiday\n",
            "0    8623             30       False\n",
            "1    7904             31       False\n",
            "2    8237             31        True\n",
            "3    9267             30       False\n",
            "4    8868             31       False\n",
            "5    8058             30        True\n",
            "6    7422             31       False\n",
            "7    8233             31        True\n",
            "8    8571             28       False\n",
            "9    8967             31       False\n",
            "10   8124             30       False\n",
            "11   8548             31        True\n",
            "12   9561             30       False\n",
            "13   9619             31       False\n",
            "14   9269             31        True\n",
            "15  10085             30       False\n",
            "16   9206             31       False\n",
            "17   9012             30       False\n",
            "18   5549             31       False\n",
            "19   5535             31        True\n",
            "20   5573             28       False\n",
            "21   6367             31       False\n",
            "22   5258             30       False\n",
            "23   4199             31        True\n",
            "24   4175             30       False\n",
            "25   4235             31       False\n"
          ]
        }
      ]
    },
    {
      "cell_type": "markdown",
      "source": [
        "## Разделим данные на test и train"
      ],
      "metadata": {
        "id": "LO3Xs1bf8cQ7"
      }
    },
    {
      "cell_type": "code",
      "source": [
        "# Разделим данные на обучающую и тестовую выборки\n",
        "train = regs[0:20]\n",
        "test = regs.loc[20:]"
      ],
      "metadata": {
        "id": "8E4Fe4_X8b07"
      },
      "execution_count": 9,
      "outputs": []
    },
    {
      "cell_type": "markdown",
      "source": [
        "## Создадим наивный прогноз"
      ],
      "metadata": {
        "id": "u4x3-dKD8UWp"
      }
    },
    {
      "cell_type": "code",
      "source": [
        "# Получение последнего известного значения из обучающей выборки\n",
        "last_value = train['users'].iloc[-1]\n",
        "\n",
        "# Создание наивного прогноза\n",
        "naive_forecast = pd.Series([last_value] * len(test), index=test.index)\n",
        "\n",
        "# Оценка производительности наивного прогноза\n",
        "mse = mean_squared_error(test['users'], naive_forecast)\n",
        "mae = mean_absolute_error(test['users'], naive_forecast)\n",
        "\n",
        "print('Naive Forecast:')\n",
        "print(naive_forecast)\n",
        "print('Mean Squared Error (MSE):', mse)\n",
        "print('Mean Absolute Error (MAE):', mae)"
      ],
      "metadata": {
        "colab": {
          "base_uri": "https://localhost:8080/"
        },
        "id": "W4h6mHdK8T1I",
        "outputId": "d9c0f733-163d-4088-90eb-71310a3d5e0f"
      },
      "execution_count": 10,
      "outputs": [
        {
          "output_type": "stream",
          "name": "stdout",
          "text": [
            "Naive Forecast:\n",
            "20    5535\n",
            "21    5535\n",
            "22    5535\n",
            "23    5535\n",
            "24    5535\n",
            "25    5535\n",
            "dtype: int64\n",
            "Mean Squared Error (MSE): 1015815.5\n",
            "Mean Absolute Error (MAE): 857.1666666666666\n"
          ]
        }
      ]
    },
    {
      "cell_type": "markdown",
      "source": [
        "## Linear Regression"
      ],
      "metadata": {
        "id": "Sxl1j2YJxRwF"
      }
    },
    {
      "cell_type": "code",
      "source": [
        "features_train = train.drop('users', axis=1)\n",
        "target_train = train['users']\n",
        "\n",
        "features_test = test.drop('users', axis=1)\n",
        "target_test = test['users']\n"
      ],
      "metadata": {
        "id": "Zg3B2BQWRibP"
      },
      "execution_count": 11,
      "outputs": []
    },
    {
      "cell_type": "code",
      "source": [
        "%%time\n",
        "from sklearn.model_selection import TimeSeriesSplit\n",
        "from sklearn.model_selection import GridSearchCV\n",
        "from sklearn.model_selection import TimeSeriesSplit\n",
        "from sklearn.model_selection import cross_val_score, GridSearchCV , train_test_split\n",
        "\n",
        "model = LinearRegression()\n",
        "time_split = TimeSeriesSplit(n_splits=3)\n",
        "#определяю RMSE модели с помощью кросс-валидации\n",
        "regression_cv_score = (cross_val_score(model, features_train, target_train, cv=time_split,\n",
        "                                                scoring='neg_mean_absolute_error', error_score='raise').mean()*-1)\n",
        "print('Среднее качество модели линейной регрессии на кросс-валидации:', regression_cv_score)"
      ],
      "metadata": {
        "colab": {
          "base_uri": "https://localhost:8080/"
        },
        "id": "iKkngd2kRYDZ",
        "outputId": "b8c11250-ace7-400c-b5b8-4161dc34d797"
      },
      "execution_count": 12,
      "outputs": [
        {
          "output_type": "stream",
          "name": "stdout",
          "text": [
            "Среднее качество модели линейной регрессии на кросс-валидации: 1082.39643533818\n",
            "CPU times: user 27.3 ms, sys: 858 µs, total: 28.1 ms\n",
            "Wall time: 60.1 ms\n"
          ]
        }
      ]
    },
    {
      "cell_type": "markdown",
      "source": [
        "## Random Forest"
      ],
      "metadata": {
        "id": "LT8sOmuJecsl"
      }
    },
    {
      "cell_type": "code",
      "source": [
        "from sklearn.ensemble import RandomForestRegressor\n",
        "\n",
        "model = RandomForestRegressor(random_state=42)\n",
        "parameters = {\"max_depth\": [1, 10], \"n_estimators\": [100, 150, 10]}\n",
        "\n",
        "RF_grid = GridSearchCV(model, parameters, cv=time_split, verbose=10, n_jobs=-1)\n",
        "RF_grid.fit(features_train, target_train)\n",
        "\n",
        "print(\"Лучшие параметры модели:\", RF_grid.best_params_)\n",
        "\n",
        "# Предсказание на тестовой выборке\n",
        "forecast = RF_grid.predict(features_test)\n",
        "\n",
        "# Рассчитаем MAE\n",
        "mae = mean_absolute_error(target_test, forecast)\n",
        "\n",
        "print(\"Mean Absolute Error (MAE):\", mae)"
      ],
      "metadata": {
        "colab": {
          "base_uri": "https://localhost:8080/"
        },
        "id": "CqUsExiaYifi",
        "outputId": "cd33ba67-f666-408e-86f6-82fdf50583e3"
      },
      "execution_count": 13,
      "outputs": [
        {
          "output_type": "stream",
          "name": "stdout",
          "text": [
            "Fitting 3 folds for each of 6 candidates, totalling 18 fits\n",
            "Лучшие параметры модели: {'max_depth': 10, 'n_estimators': 100}\n",
            "Mean Absolute Error (MAE): 3600.667104802605\n"
          ]
        }
      ]
    },
    {
      "cell_type": "markdown",
      "source": [
        "## LightGBM"
      ],
      "metadata": {
        "id": "ekCegxpeH4ev"
      }
    },
    {
      "cell_type": "code",
      "source": [
        "import lightgbm as lgb\n",
        "from sklearn.model_selection import GridSearchCV\n",
        "from sklearn.model_selection import TimeSeriesSplit\n",
        "from sklearn.model_selection import cross_val_score, GridSearchCV , train_test_split\n",
        "\n",
        "param_grid = {'n_estimators': [100, 500, 1000], 'num_leaves': [n for n in range(20, 300, 20)]}\n",
        "time_split = TimeSeriesSplit(n_splits=3)\n",
        "\n",
        "# Создадим массивы признаков и целевых значений\n",
        "train['period'] = train.index  # Добавим столбец period из индекса\n",
        "test['period'] = test.index    # Добавим столбец period из индекса\n",
        "\n",
        "features_train = train[['period', 'days_in_month', 'is_holiday']]\n",
        "target_train = train['users']\n",
        "features_test = test[['period', 'days_in_month', 'is_holiday']]\n",
        "target_test = test['users']\n",
        "\n",
        "model = lgb.LGBMRegressor(random_state=12345)\n",
        "\n",
        "testing_model = GridSearchCV(estimator=model,\n",
        "                             param_grid=param_grid,\n",
        "                             scoring='neg_mean_absolute_error',\n",
        "                             cv=time_split,\n",
        "                             verbose=10, n_jobs=-1)\n",
        "\n",
        "testing_model.fit(features_train, target_train)\n",
        "display('Лучшие параметры модели:', testing_model.best_params_)\n",
        "display('Лучшая метрика модели:', testing_model.best_score_ * -1)"
      ],
      "metadata": {
        "colab": {
          "base_uri": "https://localhost:8080/",
          "height": 313
        },
        "id": "nCYheeX1sv6M",
        "outputId": "4ff9f7c4-23f4-4f4a-cf15-ce609c3c29be"
      },
      "execution_count": 15,
      "outputs": [
        {
          "output_type": "stream",
          "name": "stdout",
          "text": [
            "Fitting 3 folds for each of 42 candidates, totalling 126 fits\n"
          ]
        },
        {
          "output_type": "stream",
          "name": "stderr",
          "text": [
            "<ipython-input-15-ed545a50df58>:10: SettingWithCopyWarning: \n",
            "A value is trying to be set on a copy of a slice from a DataFrame.\n",
            "Try using .loc[row_indexer,col_indexer] = value instead\n",
            "\n",
            "See the caveats in the documentation: https://pandas.pydata.org/pandas-docs/stable/user_guide/indexing.html#returning-a-view-versus-a-copy\n",
            "  train['period'] = train.index  # Добавим столбец period из индекса\n",
            "<ipython-input-15-ed545a50df58>:11: SettingWithCopyWarning: \n",
            "A value is trying to be set on a copy of a slice from a DataFrame.\n",
            "Try using .loc[row_indexer,col_indexer] = value instead\n",
            "\n",
            "See the caveats in the documentation: https://pandas.pydata.org/pandas-docs/stable/user_guide/indexing.html#returning-a-view-versus-a-copy\n",
            "  test['period'] = test.index    # Добавим столбец period из индекса\n"
          ]
        },
        {
          "output_type": "display_data",
          "data": {
            "text/plain": [
              "'Лучшие параметры модели:'"
            ],
            "application/vnd.google.colaboratory.intrinsic+json": {
              "type": "string"
            }
          },
          "metadata": {}
        },
        {
          "output_type": "display_data",
          "data": {
            "text/plain": [
              "{'n_estimators': 100, 'num_leaves': 20}"
            ]
          },
          "metadata": {}
        },
        {
          "output_type": "display_data",
          "data": {
            "text/plain": [
              "'Лучшая метрика модели:'"
            ],
            "application/vnd.google.colaboratory.intrinsic+json": {
              "type": "string"
            }
          },
          "metadata": {}
        },
        {
          "output_type": "display_data",
          "data": {
            "text/plain": [
              "976.7555555555554"
            ]
          },
          "metadata": {}
        }
      ]
    },
    {
      "cell_type": "markdown",
      "source": [
        "## Prophet"
      ],
      "metadata": {
        "id": "uA83f55Qerji"
      }
    },
    {
      "cell_type": "code",
      "source": [
        "#%%time\n",
        "\n",
        "#m = Prophet(changepoint_prior_scale=0.1, holidays=holidays, holidays_prior_scale=18)\n",
        "#m.fit(train_df);\n",
        "\n",
        "#future = m.make_future_dataframe(periods=predictions)\n",
        "\n",
        "#forecast_test = m.predict(future)"
      ],
      "metadata": {
        "id": "bAzldjZHetEh"
      },
      "execution_count": 16,
      "outputs": []
    },
    {
      "cell_type": "markdown",
      "source": [
        "## ARIMA"
      ],
      "metadata": {
        "id": "vBKZVr-5egKs"
      }
    },
    {
      "cell_type": "code",
      "source": [
        "params = {\n",
        "    \"seasonal\": False,\n",
        "    \"start_p\": 0,\n",
        "    \"start_q\": 0,\n",
        "    \"max_p\": 5,\n",
        "    \"max_q\": 5,\n",
        "    \"m\": 12,\n",
        "}"
      ],
      "metadata": {
        "id": "aLx7i-jktVi2"
      },
      "execution_count": 17,
      "outputs": []
    },
    {
      "cell_type": "code",
      "source": [
        "modeling = auto_arima(\n",
        "    train,\n",
        "    seasonal = params[\"seasonal\"],\n",
        "    start_p=params[\"start_p\"],\n",
        "    start_q=params[\"start_q\"],\n",
        "    max_p=params[\"max_p\"],\n",
        "    max_q=params[\"max_q\"],\n",
        "    stepwise=True,\n",
        ")\n",
        "\n",
        "modeling.fit(train)"
      ],
      "metadata": {
        "colab": {
          "base_uri": "https://localhost:8080/",
          "height": 381
        },
        "id": "PpLoBduxj5rd",
        "outputId": "a670fd77-663b-422e-d8e9-4a218798fd23"
      },
      "execution_count": 18,
      "outputs": [
        {
          "output_type": "error",
          "ename": "ValueError",
          "evalue": "ignored",
          "traceback": [
            "\u001b[0;31m---------------------------------------------------------------------------\u001b[0m",
            "\u001b[0;31mValueError\u001b[0m                                Traceback (most recent call last)",
            "\u001b[0;32m<ipython-input-18-bffeebd886b4>\u001b[0m in \u001b[0;36m<cell line: 1>\u001b[0;34m()\u001b[0m\n\u001b[0;32m----> 1\u001b[0;31m modeling = auto_arima(\n\u001b[0m\u001b[1;32m      2\u001b[0m     \u001b[0mtrain\u001b[0m\u001b[0;34m,\u001b[0m\u001b[0;34m\u001b[0m\u001b[0;34m\u001b[0m\u001b[0m\n\u001b[1;32m      3\u001b[0m     \u001b[0mseasonal\u001b[0m \u001b[0;34m=\u001b[0m \u001b[0mparams\u001b[0m\u001b[0;34m[\u001b[0m\u001b[0;34m\"seasonal\"\u001b[0m\u001b[0;34m]\u001b[0m\u001b[0;34m,\u001b[0m\u001b[0;34m\u001b[0m\u001b[0;34m\u001b[0m\u001b[0m\n\u001b[1;32m      4\u001b[0m     \u001b[0mstart_p\u001b[0m\u001b[0;34m=\u001b[0m\u001b[0mparams\u001b[0m\u001b[0;34m[\u001b[0m\u001b[0;34m\"start_p\"\u001b[0m\u001b[0;34m]\u001b[0m\u001b[0;34m,\u001b[0m\u001b[0;34m\u001b[0m\u001b[0;34m\u001b[0m\u001b[0m\n\u001b[1;32m      5\u001b[0m     \u001b[0mstart_q\u001b[0m\u001b[0;34m=\u001b[0m\u001b[0mparams\u001b[0m\u001b[0;34m[\u001b[0m\u001b[0;34m\"start_q\"\u001b[0m\u001b[0;34m]\u001b[0m\u001b[0;34m,\u001b[0m\u001b[0;34m\u001b[0m\u001b[0;34m\u001b[0m\u001b[0m\n",
            "\u001b[0;32m/usr/local/lib/python3.10/dist-packages/pmdarima/arima/auto.py\u001b[0m in \u001b[0;36mauto_arima\u001b[0;34m(y, X, start_p, d, start_q, max_p, max_d, max_q, start_P, D, start_Q, max_P, max_D, max_Q, max_order, m, seasonal, stationary, information_criterion, alpha, test, seasonal_test, stepwise, n_jobs, start_params, trend, method, maxiter, offset_test_args, seasonal_test_args, suppress_warnings, error_action, trace, random, random_state, n_fits, return_valid_fits, out_of_sample_size, scoring, scoring_args, with_intercept, sarimax_kwargs, **fit_args)\u001b[0m\n\u001b[1;32m    420\u001b[0m \u001b[0;34m\u001b[0m\u001b[0m\n\u001b[1;32m    421\u001b[0m     \u001b[0;31m# copy array\u001b[0m\u001b[0;34m\u001b[0m\u001b[0;34m\u001b[0m\u001b[0m\n\u001b[0;32m--> 422\u001b[0;31m     \u001b[0my\u001b[0m \u001b[0;34m=\u001b[0m \u001b[0mcheck_endog\u001b[0m\u001b[0;34m(\u001b[0m\u001b[0my\u001b[0m\u001b[0;34m,\u001b[0m \u001b[0mdtype\u001b[0m\u001b[0;34m=\u001b[0m\u001b[0mDTYPE\u001b[0m\u001b[0;34m,\u001b[0m \u001b[0mpreserve_series\u001b[0m\u001b[0;34m=\u001b[0m\u001b[0;32mTrue\u001b[0m\u001b[0;34m)\u001b[0m\u001b[0;34m\u001b[0m\u001b[0;34m\u001b[0m\u001b[0m\n\u001b[0m\u001b[1;32m    423\u001b[0m     \u001b[0mn_samples\u001b[0m \u001b[0;34m=\u001b[0m \u001b[0my\u001b[0m\u001b[0;34m.\u001b[0m\u001b[0mshape\u001b[0m\u001b[0;34m[\u001b[0m\u001b[0;36m0\u001b[0m\u001b[0;34m]\u001b[0m\u001b[0;34m\u001b[0m\u001b[0;34m\u001b[0m\u001b[0m\n\u001b[1;32m    424\u001b[0m \u001b[0;34m\u001b[0m\u001b[0m\n",
            "\u001b[0;32m/usr/local/lib/python3.10/dist-packages/pmdarima/utils/array.py\u001b[0m in \u001b[0;36mcheck_endog\u001b[0;34m(y, dtype, copy, force_all_finite, preserve_series)\u001b[0m\n\u001b[1;32m    185\u001b[0m     )\n\u001b[1;32m    186\u001b[0m \u001b[0;34m\u001b[0m\u001b[0m\n\u001b[0;32m--> 187\u001b[0;31m     \u001b[0mendog\u001b[0m \u001b[0;34m=\u001b[0m \u001b[0mskval\u001b[0m\u001b[0;34m.\u001b[0m\u001b[0mcolumn_or_1d\u001b[0m\u001b[0;34m(\u001b[0m\u001b[0mendog\u001b[0m\u001b[0;34m)\u001b[0m\u001b[0;34m\u001b[0m\u001b[0;34m\u001b[0m\u001b[0m\n\u001b[0m\u001b[1;32m    188\u001b[0m     \u001b[0;32mif\u001b[0m \u001b[0;32mnot\u001b[0m \u001b[0mpreserve_series\u001b[0m\u001b[0;34m:\u001b[0m\u001b[0;34m\u001b[0m\u001b[0;34m\u001b[0m\u001b[0m\n\u001b[1;32m    189\u001b[0m         \u001b[0;32mreturn\u001b[0m \u001b[0mendog\u001b[0m\u001b[0;34m\u001b[0m\u001b[0;34m\u001b[0m\u001b[0m\n",
            "\u001b[0;32m/usr/local/lib/python3.10/dist-packages/sklearn/utils/validation.py\u001b[0m in \u001b[0;36mcolumn_or_1d\u001b[0;34m(y, dtype, warn)\u001b[0m\n\u001b[1;32m   1200\u001b[0m         \u001b[0;32mreturn\u001b[0m \u001b[0m_asarray_with_order\u001b[0m\u001b[0;34m(\u001b[0m\u001b[0mxp\u001b[0m\u001b[0;34m.\u001b[0m\u001b[0mreshape\u001b[0m\u001b[0;34m(\u001b[0m\u001b[0my\u001b[0m\u001b[0;34m,\u001b[0m \u001b[0;34m-\u001b[0m\u001b[0;36m1\u001b[0m\u001b[0;34m)\u001b[0m\u001b[0;34m,\u001b[0m \u001b[0morder\u001b[0m\u001b[0;34m=\u001b[0m\u001b[0;34m\"C\"\u001b[0m\u001b[0;34m,\u001b[0m \u001b[0mxp\u001b[0m\u001b[0;34m=\u001b[0m\u001b[0mxp\u001b[0m\u001b[0;34m)\u001b[0m\u001b[0;34m\u001b[0m\u001b[0;34m\u001b[0m\u001b[0m\n\u001b[1;32m   1201\u001b[0m \u001b[0;34m\u001b[0m\u001b[0m\n\u001b[0;32m-> 1202\u001b[0;31m     raise ValueError(\n\u001b[0m\u001b[1;32m   1203\u001b[0m         \u001b[0;34m\"y should be a 1d array, got an array of shape {} instead.\"\u001b[0m\u001b[0;34m.\u001b[0m\u001b[0mformat\u001b[0m\u001b[0;34m(\u001b[0m\u001b[0mshape\u001b[0m\u001b[0;34m)\u001b[0m\u001b[0;34m\u001b[0m\u001b[0;34m\u001b[0m\u001b[0m\n\u001b[1;32m   1204\u001b[0m     )\n",
            "\u001b[0;31mValueError\u001b[0m: y should be a 1d array, got an array of shape (20, 4) instead."
          ]
        }
      ]
    },
    {
      "cell_type": "code",
      "source": [
        "# Определение модели ARIMA с полученными параметрами\n",
        "model = ARIMA(train, order=(0, 0, 2))\n",
        "model_fit = model.fit()\n",
        "\n",
        "# Прогнозирование на тестовом наборе данных\n",
        "predictions = model_fit.forecast(steps=len(test))\n",
        "\n",
        "# Вывод прогнозных значений\n",
        "print(predictions)"
      ],
      "metadata": {
        "id": "YpmVQTI5xQ7l"
      },
      "execution_count": null,
      "outputs": []
    },
    {
      "cell_type": "code",
      "source": [
        "forecast = model_fit.predict(n_periods=len(test))\n",
        "\n",
        "plt.plot(train['users'], label='Train')\n",
        "plt.plot(test['users'], label='Test')\n",
        "plt.plot(forecast, label='Forecast')\n",
        "plt.legend()\n",
        "\n",
        "plt.show()"
      ],
      "metadata": {
        "id": "3dBRvPNG52q2"
      },
      "execution_count": null,
      "outputs": []
    },
    {
      "cell_type": "code",
      "source": [
        "# Расчет MSE и MAE\n",
        "true = regs['users']  # Фактические значения\n",
        "pred = forecast  # Прогнозные значения\n",
        "mse = np.mean((true - pred)**2)\n",
        "mae = np.mean(np.abs(true - pred))\n",
        "\n",
        "print('Mean Squared Error (MSE):', mse)\n",
        "print('Mean Absolute Error (MAE):', mae)"
      ],
      "metadata": {
        "id": "XEpQhk6-xj9-"
      },
      "execution_count": null,
      "outputs": []
    }
  ]
}